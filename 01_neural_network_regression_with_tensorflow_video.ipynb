{
  "nbformat": 4,
  "nbformat_minor": 0,
  "metadata": {
    "colab": {
      "provenance": [],
      "mount_file_id": "19M7S6faY8hpUmmi0xNXnOj7n54lZzXpB",
      "authorship_tag": "ABX9TyOEqMFculWKZJxglVrTszxm",
      "include_colab_link": true
    },
    "kernelspec": {
      "name": "python3",
      "display_name": "Python 3"
    },
    "language_info": {
      "name": "python"
    }
  },
  "cells": [
    {
      "cell_type": "markdown",
      "metadata": {
        "id": "view-in-github",
        "colab_type": "text"
      },
      "source": [
        "<a href=\"https://colab.research.google.com/github/stephenbrutch/Python-Machine-Learning-Tutorial-Codes/blob/main/01_neural_network_regression_with_tensorflow_video.ipynb\" target=\"_parent\"><img src=\"https://colab.research.google.com/assets/colab-badge.svg\" alt=\"Open In Colab\"/></a>"
      ]
    },
    {
      "cell_type": "markdown",
      "source": [
        "Introduction to regression with neural networks in Tensorflow. There are many definitions for a regression problem but in our case, we're going to simplify it:\n",
        "1.   Predicting a numerical variable on some other combination of variables, even shorter... predicting a number essentially\n",
        "\n",
        "\n",
        "\n"
      ],
      "metadata": {
        "id": "DxvB3xjadjov"
      }
    },
    {
      "cell_type": "code",
      "execution_count": null,
      "metadata": {
        "id": "tNpxrKwIdRbs",
        "colab": {
          "base_uri": "https://localhost:8080/"
        },
        "outputId": "32ccac21-46d7-4ee5-cd2d-e09c9f914ee3"
      },
      "outputs": [
        {
          "output_type": "stream",
          "name": "stdout",
          "text": [
            "2.12.0\n"
          ]
        }
      ],
      "source": [
        "#Import tensorflow\n",
        "import tensorflow as tf\n",
        "print(tf.__version__)"
      ]
    },
    {
      "cell_type": "code",
      "source": [
        "#Creating a data to view and fit\n",
        "import numpy as np\n",
        "import matplotlib.pyplot as plt\n",
        "\n",
        "#Create features\n",
        "X=np.array([-7.0,-4.0,-1.0,2.0,5.0,8.0,11.0,14.0])\n",
        "\n",
        "#Create labels\n",
        "y=np.array([3.0,6.0,9.0,12.0,15.0,18.0,21.0,24.0])\n",
        "\n",
        "#Vizualize it\n",
        "plt.scatter(X,y)"
      ],
      "metadata": {
        "colab": {
          "base_uri": "https://localhost:8080/",
          "height": 452
        },
        "id": "dlIp_bGgeV9K",
        "outputId": "1dfd8798-fc6d-4890-9efb-b0e80491e2c1"
      },
      "execution_count": null,
      "outputs": [
        {
          "output_type": "execute_result",
          "data": {
            "text/plain": [
              "<matplotlib.collections.PathCollection at 0x7f11338dcb80>"
            ]
          },
          "metadata": {},
          "execution_count": 2
        },
        {
          "output_type": "display_data",
          "data": {
            "text/plain": [
              "<Figure size 640x480 with 1 Axes>"
            ],
            "image/png": "[encoded data removed]"
          },
          "metadata": {}
        }
      ]
    },
    {
      "cell_type": "code",
      "source": [
        "y== X+10"
      ],
      "metadata": {
        "colab": {
          "base_uri": "https://localhost:8080/"
        },
        "id": "kFza5pHwfkKN",
        "outputId": "8a4a6168-8033-455f-ebd2-0aaa6cd8ac77"
      },
      "execution_count": null,
      "outputs": [
        {
          "output_type": "execute_result",
          "data": {
            "text/plain": [
              "array([ True,  True,  True,  True,  True,  True,  True,  True])"
            ]
          },
          "metadata": {},
          "execution_count": 3
        }
      ]
    },
    {
      "cell_type": "markdown",
      "source": [
        "Input and output shapes"
      ],
      "metadata": {
        "id": "G9SiKxm9gIs1"
      }
    },
    {
      "cell_type": "code",
      "source": [
        "#Create a demo tensor for our housing price prediction problem\n",
        "house_info=tf.constant([\"bedroom\",\"bathroom\",\"garage\"])\n",
        "house_price=tf.constant([939700])\n",
        "house_info,house_price\n"
      ],
      "metadata": {
        "colab": {
          "base_uri": "https://localhost:8080/"
        },
        "id": "Cug4t3WBf25M",
        "outputId": "890d5346-7c19-4e28-bf84-0e5254477bd0"
      },
      "execution_count": null,
      "outputs": [
        {
          "output_type": "execute_result",
          "data": {
            "text/plain": [
              "(<tf.Tensor: shape=(3,), dtype=string, numpy=array([b'bedroom', b'bathroom', b'garage'], dtype=object)>,\n",
              " <tf.Tensor: shape=(1,), dtype=int32, numpy=array([939700], dtype=int32)>)"
            ]
          },
          "metadata": {},
          "execution_count": 4
        }
      ]
    },
    {
      "cell_type": "code",
      "source": [
        "X[0],y[0]"
      ],
      "metadata": {
        "colab": {
          "base_uri": "https://localhost:8080/"
        },
        "id": "9LO6VB5fg114",
        "outputId": "59300c9b-1677-47ec-bad6-4ab3efd2f597"
      },
      "execution_count": null,
      "outputs": [
        {
          "output_type": "execute_result",
          "data": {
            "text/plain": [
              "(-7.0, 3.0)"
            ]
          },
          "metadata": {},
          "execution_count": 5
        }
      ]
    },
    {
      "cell_type": "code",
      "source": [
        "input_shape=X.shape\n",
        "output_shape=y.shape\n",
        "input_shape,output_shape"
      ],
      "metadata": {
        "colab": {
          "base_uri": "https://localhost:8080/"
        },
        "id": "zVCieUxZgohG",
        "outputId": "35961dd3-0722-4d24-9e71-2cc15b0cfc51"
      },
      "execution_count": null,
      "outputs": [
        {
          "output_type": "execute_result",
          "data": {
            "text/plain": [
              "((8,), (8,))"
            ]
          },
          "metadata": {},
          "execution_count": 6
        }
      ]
    },
    {
      "cell_type": "code",
      "source": [
        "#Turn numpy arrays into tensors\n",
        "X=tf.cast(tf.constant(X),dtype=tf.float32)\n",
        "y=tf.cast(tf.constant(y),dtype=tf.float32)\n",
        "X,y"
      ],
      "metadata": {
        "colab": {
          "base_uri": "https://localhost:8080/"
        },
        "id": "TxvtUzkWhgP4",
        "outputId": "35cf8be6-e9c6-49df-e020-f12c44c17741"
      },
      "execution_count": null,
      "outputs": [
        {
          "output_type": "execute_result",
          "data": {
            "text/plain": [
              "(<tf.Tensor: shape=(8,), dtype=float32, numpy=array([-7., -4., -1.,  2.,  5.,  8., 11., 14.], dtype=float32)>,\n",
              " <tf.Tensor: shape=(8,), dtype=float32, numpy=array([ 3.,  6.,  9., 12., 15., 18., 21., 24.], dtype=float32)>)"
            ]
          },
          "metadata": {},
          "execution_count": 7
        }
      ]
    },
    {
      "cell_type": "markdown",
      "source": [
        "Steps in modeling with TensorFlow\n",
        "1. Creating a model- define the input and output layers as well as the hidden layers of a deep learning model.\n",
        "2. Compiling a model- define the loss function(in other words, the function which tells our model how wrong it is) and the optimizer (which tells our model how to imporve the patterns its learning) and evaluation metrics (what we can use to interpret the performance of our model)\n",
        "3. Fitting a model- letting the model try to find patterns between X and y (features and labels)"
      ],
      "metadata": {
        "id": "K2R5KchRh2xR"
      }
    },
    {
      "cell_type": "code",
      "source": [
        "tf.random.set_seed(42)\n",
        "\n",
        "#1. Create a model using the sequential API\n",
        "model=tf.keras.Sequential([tf.keras.layers.Dense(1)])#using 1 because want model to take in 1 number and to predict 1 number\n",
        "\n",
        "'''\n",
        "#Can also add by:\n",
        "model=tf.keras.Sequential()\n",
        "model.add(tf.keras.layers.Dense(1))\n",
        "model.add(tf.keras.layers.Dense(1))\n",
        "'''\n",
        "\n",
        "\n",
        "\n",
        "#2. Compile the model\n",
        "model.compile(loss=tf.keras.losses.mae,\n",
        "              optimizer=tf.keras.optimizers.SGD(),\n",
        "              metrics=[\"mae\"]) #mae for mean absolute error and sgd for stochastic gradient descent\n",
        "\n",
        "#3. Fit the model\n",
        "model.fit(tf.expand_dims(X, axis=-1), y, epochs=5)\n"
      ],
      "metadata": {
        "colab": {
          "base_uri": "https://localhost:8080/"
        },
        "id": "S3B8_tQZh6Mp",
        "outputId": "dd7b6097-8388-463a-9629-c7b10773a050"
      },
      "execution_count": null,
      "outputs": [
        {
          "output_type": "stream",
          "name": "stdout",
          "text": [
            "Epoch 1/5\n",
            "1/1 [==============================] - 1s 590ms/step - loss: 15.1239 - mae: 15.1239\n",
            "Epoch 2/5\n",
            "1/1 [==============================] - 0s 10ms/step - loss: 14.8913 - mae: 14.8913\n",
            "Epoch 3/5\n",
            "1/1 [==============================] - 0s 10ms/step - loss: 14.7588 - mae: 14.7588\n",
            "Epoch 4/5\n",
            "1/1 [==============================] - 0s 8ms/step - loss: 14.6263 - mae: 14.6263\n",
            "Epoch 5/5\n",
            "1/1 [==============================] - 0s 9ms/step - loss: 14.4938 - mae: 14.4938\n"
          ]
        },
        {
          "output_type": "execute_result",
          "data": {
            "text/plain": [
              "<keras.callbacks.History at 0x7f112a7db6a0>"
            ]
          },
          "metadata": {},
          "execution_count": 8
        }
      ]
    },
    {
      "cell_type": "code",
      "source": [
        "#Checkout X and y\n",
        "X,y"
      ],
      "metadata": {
        "colab": {
          "base_uri": "https://localhost:8080/"
        },
        "id": "4KRRiwbdq1ql",
        "outputId": "e89e789c-78ec-44aa-dfa2-e18b2278cb11"
      },
      "execution_count": null,
      "outputs": [
        {
          "output_type": "execute_result",
          "data": {
            "text/plain": [
              "(<tf.Tensor: shape=(8,), dtype=float32, numpy=array([-7., -4., -1.,  2.,  5.,  8., 11., 14.], dtype=float32)>,\n",
              " <tf.Tensor: shape=(8,), dtype=float32, numpy=array([ 3.,  6.,  9., 12., 15., 18., 21., 24.], dtype=float32)>)"
            ]
          },
          "metadata": {},
          "execution_count": 9
        }
      ]
    },
    {
      "cell_type": "code",
      "source": [
        "#Try and make a prediction of our trained model\n",
        "y_pred=model.predict([17.0])\n",
        "y_pred"
      ],
      "metadata": {
        "colab": {
          "base_uri": "https://localhost:8080/"
        },
        "id": "HXRiO8xQua1C",
        "outputId": "a81e0ee1-aa6a-43d3-8bd9-d75953f1501a"
      },
      "execution_count": null,
      "outputs": [
        {
          "output_type": "stream",
          "name": "stdout",
          "text": [
            "1/1 [==============================] - 0s 99ms/step\n"
          ]
        },
        {
          "output_type": "execute_result",
          "data": {
            "text/plain": [
              "array([[-4.3668475]], dtype=float32)"
            ]
          },
          "metadata": {},
          "execution_count": 10
        }
      ]
    },
    {
      "cell_type": "code",
      "source": [
        "y_pred-7.4"
      ],
      "metadata": {
        "colab": {
          "base_uri": "https://localhost:8080/"
        },
        "id": "WjR2crcLu2ha",
        "outputId": "416bfaa2-41e8-4a8b-c1b4-b4f39b7a694e"
      },
      "execution_count": null,
      "outputs": [
        {
          "output_type": "execute_result",
          "data": {
            "text/plain": [
              "array([[-11.766848]], dtype=float32)"
            ]
          },
          "metadata": {},
          "execution_count": 11
        }
      ]
    },
    {
      "cell_type": "markdown",
      "source": [
        "Improving our model. We can improve our model, by altering the steps we took to create a model.\n",
        "1. Creating a model - here we might add more layers, increase the number of hidden units (all call neurons) within each of the hidden layers, change the activation function of each layer.\n",
        "2. Compiling a model - here we might change the optimization function or perhaps the learning rate of the optimizer.\n",
        "3. Fitting a model - here we might fit a model for more epochs(leave it training for longer) or on more data (give the model more example to learn from)"
      ],
      "metadata": {
        "id": "KK6wga9ovBLC"
      }
    },
    {
      "cell_type": "code",
      "source": [
        "#Lets rebuild our model\n",
        "\n",
        "#1. Create the model\n",
        "model=tf.keras.Sequential([\n",
        "    tf.keras.layers.Dense(1)\n",
        "])\n",
        "\n",
        "#2. Compile the model\n",
        "model.compile(loss=tf.keras.losses.mae,\n",
        "              optimizer=tf.keras.optimizers.SGD(),\n",
        "              metrics=[\"mae\"])\n",
        "\n",
        "#3. Fit the model (this time we'll train for longer)\n",
        "model.fit(tf.expand_dims(X, axis=-1), y, epochs=100)\n"
      ],
      "metadata": {
        "id": "im9ly48lu-Xj",
        "colab": {
          "base_uri": "https://localhost:8080/"
        },
        "outputId": "a18aa588-c1ab-4239-d134-f014f3b0b8f6"
      },
      "execution_count": null,
      "outputs": [
        {
          "output_type": "stream",
          "name": "stdout",
          "text": [
            "Epoch 1/100\n",
            "1/1 [==============================] - 0s 347ms/step - loss: 11.0550 - mae: 11.0550\n",
            "Epoch 2/100\n",
            "1/1 [==============================] - 0s 13ms/step - loss: 10.9225 - mae: 10.9225\n",
            "Epoch 3/100\n",
            "1/1 [==============================] - 0s 10ms/step - loss: 10.7900 - mae: 10.7900\n",
            "Epoch 4/100\n",
            "1/1 [==============================] - 0s 12ms/step - loss: 10.6575 - mae: 10.6575\n",
            "Epoch 5/100\n",
            "1/1 [==============================] - 0s 11ms/step - loss: 10.5250 - mae: 10.5250\n",
            "Epoch 6/100\n",
            "1/1 [==============================] - 0s 9ms/step - loss: 10.3925 - mae: 10.3925\n",
            "Epoch 7/100\n",
            "1/1 [==============================] - 0s 12ms/step - loss: 10.2600 - mae: 10.2600\n",
            "Epoch 8/100\n",
            "1/1 [==============================] - 0s 9ms/step - loss: 10.1275 - mae: 10.1275\n",
            "Epoch 9/100\n",
            "1/1 [==============================] - 0s 8ms/step - loss: 9.9950 - mae: 9.9950\n",
            "Epoch 10/100\n",
            "1/1 [==============================] - 0s 8ms/step - loss: 9.8625 - mae: 9.8625\n",
            "Epoch 11/100\n",
            "1/1 [==============================] - 0s 9ms/step - loss: 9.7300 - mae: 9.7300\n",
            "Epoch 12/100\n",
            "1/1 [==============================] - 0s 10ms/step - loss: 9.5975 - mae: 9.5975\n",
            "Epoch 13/100\n",
            "1/1 [==============================] - 0s 8ms/step - loss: 9.4650 - mae: 9.4650\n",
            "Epoch 14/100\n",
            "1/1 [==============================] - 0s 8ms/step - loss: 9.3325 - mae: 9.3325\n",
            "Epoch 15/100\n",
            "1/1 [==============================] - 0s 9ms/step - loss: 9.2000 - mae: 9.2000\n",
            "Epoch 16/100\n",
            "1/1 [==============================] - 0s 9ms/step - loss: 9.0675 - mae: 9.0675\n",
            "Epoch 17/100\n",
            "1/1 [==============================] - 0s 9ms/step - loss: 8.9350 - mae: 8.9350\n",
            "Epoch 18/100\n",
            "1/1 [==============================] - 0s 9ms/step - loss: 8.8025 - mae: 8.8025\n",
            "Epoch 19/100\n",
            "1/1 [==============================] - 0s 8ms/step - loss: 8.6700 - mae: 8.6700\n",
            "Epoch 20/100\n",
            "1/1 [==============================] - 0s 10ms/step - loss: 8.5375 - mae: 8.5375\n",
            "Epoch 21/100\n",
            "1/1 [==============================] - 0s 9ms/step - loss: 8.4050 - mae: 8.4050\n",
            "Epoch 22/100\n",
            "1/1 [==============================] - 0s 9ms/step - loss: 8.2725 - mae: 8.2725\n",
            "Epoch 23/100\n",
            "1/1 [==============================] - 0s 10ms/step - loss: 8.1400 - mae: 8.1400\n",
            "Epoch 24/100\n",
            "1/1 [==============================] - 0s 9ms/step - loss: 8.0075 - mae: 8.0075\n",
            "Epoch 25/100\n",
            "1/1 [==============================] - 0s 11ms/step - loss: 7.8750 - mae: 7.8750\n",
            "Epoch 26/100\n",
            "1/1 [==============================] - 0s 10ms/step - loss: 7.7425 - mae: 7.7425\n",
            "Epoch 27/100\n",
            "1/1 [==============================] - 0s 9ms/step - loss: 7.6100 - mae: 7.6100\n",
            "Epoch 28/100\n",
            "1/1 [==============================] - 0s 11ms/step - loss: 7.4775 - mae: 7.4775\n",
            "Epoch 29/100\n",
            "1/1 [==============================] - 0s 11ms/step - loss: 7.3450 - mae: 7.3450\n",
            "Epoch 30/100\n",
            "1/1 [==============================] - 0s 9ms/step - loss: 7.2825 - mae: 7.2825\n",
            "Epoch 31/100\n",
            "1/1 [==============================] - 0s 14ms/step - loss: 7.2769 - mae: 7.2769\n",
            "Epoch 32/100\n",
            "1/1 [==============================] - 0s 10ms/step - loss: 7.2713 - mae: 7.2713\n",
            "Epoch 33/100\n",
            "1/1 [==============================] - 0s 9ms/step - loss: 7.2656 - mae: 7.2656\n",
            "Epoch 34/100\n",
            "1/1 [==============================] - 0s 12ms/step - loss: 7.2600 - mae: 7.2600\n",
            "Epoch 35/100\n",
            "1/1 [==============================] - 0s 9ms/step - loss: 7.2544 - mae: 7.2544\n",
            "Epoch 36/100\n",
            "1/1 [==============================] - 0s 8ms/step - loss: 7.2487 - mae: 7.2487\n",
            "Epoch 37/100\n",
            "1/1 [==============================] - 0s 8ms/step - loss: 7.2431 - mae: 7.2431\n",
            "Epoch 38/100\n",
            "1/1 [==============================] - 0s 10ms/step - loss: 7.2375 - mae: 7.2375\n",
            "Epoch 39/100\n",
            "1/1 [==============================] - 0s 8ms/step - loss: 7.2319 - mae: 7.2319\n",
            "Epoch 40/100\n",
            "1/1 [==============================] - 0s 8ms/step - loss: 7.2263 - mae: 7.2263\n",
            "Epoch 41/100\n",
            "1/1 [==============================] - 0s 9ms/step - loss: 7.2206 - mae: 7.2206\n",
            "Epoch 42/100\n",
            "1/1 [==============================] - 0s 8ms/step - loss: 7.2150 - mae: 7.2150\n",
            "Epoch 43/100\n",
            "1/1 [==============================] - 0s 8ms/step - loss: 7.2094 - mae: 7.2094\n",
            "Epoch 44/100\n",
            "1/1 [==============================] - 0s 10ms/step - loss: 7.2038 - mae: 7.2038\n",
            "Epoch 45/100\n",
            "1/1 [==============================] - 0s 8ms/step - loss: 7.1981 - mae: 7.1981\n",
            "Epoch 46/100\n",
            "1/1 [==============================] - 0s 13ms/step - loss: 7.1925 - mae: 7.1925\n",
            "Epoch 47/100\n",
            "1/1 [==============================] - 0s 12ms/step - loss: 7.1869 - mae: 7.1869\n",
            "Epoch 48/100\n",
            "1/1 [==============================] - 0s 7ms/step - loss: 7.1813 - mae: 7.1813\n",
            "Epoch 49/100\n",
            "1/1 [==============================] - 0s 8ms/step - loss: 7.1756 - mae: 7.1756\n",
            "Epoch 50/100\n",
            "1/1 [==============================] - 0s 8ms/step - loss: 7.1700 - mae: 7.1700\n",
            "Epoch 51/100\n",
            "1/1 [==============================] - 0s 8ms/step - loss: 7.1644 - mae: 7.1644\n",
            "Epoch 52/100\n",
            "1/1 [==============================] - 0s 8ms/step - loss: 7.1588 - mae: 7.1588\n",
            "Epoch 53/100\n",
            "1/1 [==============================] - 0s 9ms/step - loss: 7.1531 - mae: 7.1531\n",
            "Epoch 54/100\n",
            "1/1 [==============================] - 0s 9ms/step - loss: 7.1475 - mae: 7.1475\n",
            "Epoch 55/100\n",
            "1/1 [==============================] - 0s 9ms/step - loss: 7.1419 - mae: 7.1419\n",
            "Epoch 56/100\n",
            "1/1 [==============================] - 0s 8ms/step - loss: 7.1363 - mae: 7.1363\n",
            "Epoch 57/100\n",
            "1/1 [==============================] - 0s 8ms/step - loss: 7.1306 - mae: 7.1306\n",
            "Epoch 58/100\n",
            "1/1 [==============================] - 0s 9ms/step - loss: 7.1250 - mae: 7.1250\n",
            "Epoch 59/100\n",
            "1/1 [==============================] - 0s 9ms/step - loss: 7.1194 - mae: 7.1194\n",
            "Epoch 60/100\n",
            "1/1 [==============================] - 0s 9ms/step - loss: 7.1138 - mae: 7.1138\n",
            "Epoch 61/100\n",
            "1/1 [==============================] - 0s 9ms/step - loss: 7.1081 - mae: 7.1081\n",
            "Epoch 62/100\n",
            "1/1 [==============================] - 0s 8ms/step - loss: 7.1025 - mae: 7.1025\n",
            "Epoch 63/100\n",
            "1/1 [==============================] - 0s 9ms/step - loss: 7.0969 - mae: 7.0969\n",
            "Epoch 64/100\n",
            "1/1 [==============================] - 0s 9ms/step - loss: 7.0913 - mae: 7.0913\n",
            "Epoch 65/100\n",
            "1/1 [==============================] - 0s 9ms/step - loss: 7.0856 - mae: 7.0856\n",
            "Epoch 66/100\n",
            "1/1 [==============================] - 0s 10ms/step - loss: 7.0800 - mae: 7.0800\n",
            "Epoch 67/100\n",
            "1/1 [==============================] - 0s 9ms/step - loss: 7.0744 - mae: 7.0744\n",
            "Epoch 68/100\n",
            "1/1 [==============================] - 0s 9ms/step - loss: 7.0688 - mae: 7.0688\n",
            "Epoch 69/100\n",
            "1/1 [==============================] - 0s 8ms/step - loss: 7.0631 - mae: 7.0631\n",
            "Epoch 70/100\n",
            "1/1 [==============================] - 0s 8ms/step - loss: 7.0575 - mae: 7.0575\n",
            "Epoch 71/100\n",
            "1/1 [==============================] - 0s 8ms/step - loss: 7.0519 - mae: 7.0519\n",
            "Epoch 72/100\n",
            "1/1 [==============================] - 0s 9ms/step - loss: 7.0463 - mae: 7.0463\n",
            "Epoch 73/100\n",
            "1/1 [==============================] - 0s 8ms/step - loss: 7.0406 - mae: 7.0406\n",
            "Epoch 74/100\n",
            "1/1 [==============================] - 0s 9ms/step - loss: 7.0350 - mae: 7.0350\n",
            "Epoch 75/100\n",
            "1/1 [==============================] - 0s 10ms/step - loss: 7.0294 - mae: 7.0294\n",
            "Epoch 76/100\n",
            "1/1 [==============================] - 0s 9ms/step - loss: 7.0238 - mae: 7.0238\n",
            "Epoch 77/100\n",
            "1/1 [==============================] - 0s 9ms/step - loss: 7.0181 - mae: 7.0181\n",
            "Epoch 78/100\n",
            "1/1 [==============================] - 0s 9ms/step - loss: 7.0125 - mae: 7.0125\n",
            "Epoch 79/100\n",
            "1/1 [==============================] - 0s 9ms/step - loss: 7.0069 - mae: 7.0069\n",
            "Epoch 80/100\n",
            "1/1 [==============================] - 0s 9ms/step - loss: 7.0012 - mae: 7.0012\n",
            "Epoch 81/100\n",
            "1/1 [==============================] - 0s 9ms/step - loss: 6.9956 - mae: 6.9956\n",
            "Epoch 82/100\n",
            "1/1 [==============================] - 0s 9ms/step - loss: 6.9900 - mae: 6.9900\n",
            "Epoch 83/100\n",
            "1/1 [==============================] - 0s 8ms/step - loss: 6.9844 - mae: 6.9844\n",
            "Epoch 84/100\n",
            "1/1 [==============================] - 0s 17ms/step - loss: 6.9788 - mae: 6.9788\n",
            "Epoch 85/100\n",
            "1/1 [==============================] - 0s 10ms/step - loss: 6.9731 - mae: 6.9731\n",
            "Epoch 86/100\n",
            "1/1 [==============================] - 0s 10ms/step - loss: 6.9675 - mae: 6.9675\n",
            "Epoch 87/100\n",
            "1/1 [==============================] - 0s 8ms/step - loss: 6.9619 - mae: 6.9619\n",
            "Epoch 88/100\n",
            "1/1 [==============================] - 0s 8ms/step - loss: 6.9563 - mae: 6.9563\n",
            "Epoch 89/100\n",
            "1/1 [==============================] - 0s 9ms/step - loss: 6.9506 - mae: 6.9506\n",
            "Epoch 90/100\n",
            "1/1 [==============================] - 0s 8ms/step - loss: 6.9450 - mae: 6.9450\n",
            "Epoch 91/100\n",
            "1/1 [==============================] - 0s 8ms/step - loss: 6.9394 - mae: 6.9394\n",
            "Epoch 92/100\n",
            "1/1 [==============================] - 0s 8ms/step - loss: 6.9338 - mae: 6.9338\n",
            "Epoch 93/100\n",
            "1/1 [==============================] - 0s 8ms/step - loss: 6.9281 - mae: 6.9281\n",
            "Epoch 94/100\n",
            "1/1 [==============================] - 0s 8ms/step - loss: 6.9225 - mae: 6.9225\n",
            "Epoch 95/100\n",
            "1/1 [==============================] - 0s 9ms/step - loss: 6.9169 - mae: 6.9169\n",
            "Epoch 96/100\n",
            "1/1 [==============================] - 0s 8ms/step - loss: 6.9113 - mae: 6.9113\n",
            "Epoch 97/100\n",
            "1/1 [==============================] - 0s 8ms/step - loss: 6.9056 - mae: 6.9056\n",
            "Epoch 98/100\n",
            "1/1 [==============================] - 0s 9ms/step - loss: 6.9000 - mae: 6.9000\n",
            "Epoch 99/100\n",
            "1/1 [==============================] - 0s 8ms/step - loss: 6.8944 - mae: 6.8944\n",
            "Epoch 100/100\n",
            "1/1 [==============================] - 0s 8ms/step - loss: 6.8888 - mae: 6.8888\n"
          ]
        },
        {
          "output_type": "execute_result",
          "data": {
            "text/plain": [
              "<keras.callbacks.History at 0x7f1129c53970>"
            ]
          },
          "metadata": {},
          "execution_count": 12
        }
      ]
    },
    {
      "cell_type": "code",
      "source": [
        "#Remind ourselves of the data\n",
        "X,y"
      ],
      "metadata": {
        "colab": {
          "base_uri": "https://localhost:8080/"
        },
        "id": "ztCScmDLY_Vq",
        "outputId": "f5d9a43a-50d1-4e46-b517-d14f75194b96"
      },
      "execution_count": null,
      "outputs": [
        {
          "output_type": "execute_result",
          "data": {
            "text/plain": [
              "(<tf.Tensor: shape=(8,), dtype=float32, numpy=array([-7., -4., -1.,  2.,  5.,  8., 11., 14.], dtype=float32)>,\n",
              " <tf.Tensor: shape=(8,), dtype=float32, numpy=array([ 3.,  6.,  9., 12., 15., 18., 21., 24.], dtype=float32)>)"
            ]
          },
          "metadata": {},
          "execution_count": 13
        }
      ]
    },
    {
      "cell_type": "code",
      "source": [
        "#Lets see our models prediction has improved\n",
        "model.predict([17.0])"
      ],
      "metadata": {
        "colab": {
          "base_uri": "https://localhost:8080/"
        },
        "id": "MX9VQYD3ZDGh",
        "outputId": "8415d1ff-9c00-4066-c45e-db6a27652d86"
      },
      "execution_count": null,
      "outputs": [
        {
          "output_type": "stream",
          "name": "stdout",
          "text": [
            "1/1 [==============================] - 0s 62ms/step\n"
          ]
        },
        {
          "output_type": "execute_result",
          "data": {
            "text/plain": [
              "array([[29.953367]], dtype=float32)"
            ]
          },
          "metadata": {},
          "execution_count": 14
        }
      ]
    },
    {
      "cell_type": "code",
      "source": [
        "#Lets see if we can improve our model\n",
        "\n",
        "#1. Create the model this time with an extra hidden layer with 100 neurons\n",
        "model=tf.keras.Sequential([\n",
        "    tf.keras.layers.Dense(100,activation=\"relu\"),\n",
        "    tf.keras.layers.Dense(1)\n",
        "])\n",
        "\n",
        "#2. compile the model\n",
        "model.compile(loss=tf.keras.losses.mae,\n",
        "              optimizer=tf.keras.optimizers.SGD(),\n",
        "              metrics=[\"mae\"])\n",
        "\n",
        "#3. fit the model\n",
        "model.fit(tf.expand_dims(X, axis=-1), y, epochs=100)"
      ],
      "metadata": {
        "colab": {
          "base_uri": "https://localhost:8080/"
        },
        "id": "Od3Q_GBLdeNF",
        "outputId": "4af90775-4062-426a-bfc9-5660c5e0ce7d"
      },
      "execution_count": null,
      "outputs": [
        {
          "output_type": "stream",
          "name": "stdout",
          "text": [
            "Epoch 1/100\n",
            "1/1 [==============================] - 0s 474ms/step - loss: 13.3642 - mae: 13.3642\n",
            "Epoch 2/100\n",
            "1/1 [==============================] - 0s 9ms/step - loss: 12.7929 - mae: 12.7929\n",
            "Epoch 3/100\n",
            "1/1 [==============================] - 0s 10ms/step - loss: 12.2171 - mae: 12.2171\n",
            "Epoch 4/100\n",
            "1/1 [==============================] - 0s 9ms/step - loss: 11.6315 - mae: 11.6315\n",
            "Epoch 5/100\n",
            "1/1 [==============================] - 0s 8ms/step - loss: 11.0307 - mae: 11.0307\n",
            "Epoch 6/100\n",
            "1/1 [==============================] - 0s 8ms/step - loss: 10.4101 - mae: 10.4101\n",
            "Epoch 7/100\n",
            "1/1 [==============================] - 0s 9ms/step - loss: 9.7762 - mae: 9.7762\n",
            "Epoch 8/100\n",
            "1/1 [==============================] - 0s 8ms/step - loss: 9.1251 - mae: 9.1251\n",
            "Epoch 9/100\n",
            "1/1 [==============================] - 0s 9ms/step - loss: 8.4375 - mae: 8.4375\n",
            "Epoch 10/100\n",
            "1/1 [==============================] - 0s 8ms/step - loss: 7.7072 - mae: 7.7072\n",
            "Epoch 11/100\n",
            "1/1 [==============================] - 0s 9ms/step - loss: 6.9282 - mae: 6.9282\n",
            "Epoch 12/100\n",
            "1/1 [==============================] - 0s 10ms/step - loss: 6.0907 - mae: 6.0907\n",
            "Epoch 13/100\n",
            "1/1 [==============================] - 0s 7ms/step - loss: 5.1868 - mae: 5.1868\n",
            "Epoch 14/100\n",
            "1/1 [==============================] - 0s 7ms/step - loss: 4.2891 - mae: 4.2891\n",
            "Epoch 15/100\n",
            "1/1 [==============================] - 0s 8ms/step - loss: 4.1482 - mae: 4.1482\n",
            "Epoch 16/100\n",
            "1/1 [==============================] - 0s 9ms/step - loss: 4.0045 - mae: 4.0045\n",
            "Epoch 17/100\n",
            "1/1 [==============================] - 0s 9ms/step - loss: 3.9161 - mae: 3.9161\n",
            "Epoch 18/100\n",
            "1/1 [==============================] - 0s 8ms/step - loss: 3.9406 - mae: 3.9406\n",
            "Epoch 19/100\n",
            "1/1 [==============================] - 0s 8ms/step - loss: 3.9308 - mae: 3.9308\n",
            "Epoch 20/100\n",
            "1/1 [==============================] - 0s 10ms/step - loss: 3.9179 - mae: 3.9179\n",
            "Epoch 21/100\n",
            "1/1 [==============================] - 0s 15ms/step - loss: 3.9381 - mae: 3.9381\n",
            "Epoch 22/100\n",
            "1/1 [==============================] - 0s 20ms/step - loss: 3.8921 - mae: 3.8921\n",
            "Epoch 23/100\n",
            "1/1 [==============================] - 0s 13ms/step - loss: 3.9455 - mae: 3.9455\n",
            "Epoch 24/100\n",
            "1/1 [==============================] - 0s 8ms/step - loss: 3.8772 - mae: 3.8772\n",
            "Epoch 25/100\n",
            "1/1 [==============================] - 0s 11ms/step - loss: 3.9410 - mae: 3.9410\n",
            "Epoch 26/100\n",
            "1/1 [==============================] - 0s 9ms/step - loss: 3.8856 - mae: 3.8856\n",
            "Epoch 27/100\n",
            "1/1 [==============================] - 0s 8ms/step - loss: 3.9221 - mae: 3.9221\n",
            "Epoch 28/100\n",
            "1/1 [==============================] - 0s 9ms/step - loss: 3.8994 - mae: 3.8994\n",
            "Epoch 29/100\n",
            "1/1 [==============================] - 0s 9ms/step - loss: 3.8962 - mae: 3.8962\n",
            "Epoch 30/100\n",
            "1/1 [==============================] - 0s 9ms/step - loss: 3.9069 - mae: 3.9069\n",
            "Epoch 31/100\n",
            "1/1 [==============================] - 0s 9ms/step - loss: 3.8701 - mae: 3.8701\n",
            "Epoch 32/100\n",
            "1/1 [==============================] - 0s 9ms/step - loss: 3.9145 - mae: 3.9145\n",
            "Epoch 33/100\n",
            "1/1 [==============================] - 0s 9ms/step - loss: 3.8466 - mae: 3.8466\n",
            "Epoch 34/100\n",
            "1/1 [==============================] - 0s 9ms/step - loss: 3.9186 - mae: 3.9186\n",
            "Epoch 35/100\n",
            "1/1 [==============================] - 0s 9ms/step - loss: 3.8596 - mae: 3.8596\n",
            "Epoch 36/100\n",
            "1/1 [==============================] - 0s 9ms/step - loss: 3.8994 - mae: 3.8994\n",
            "Epoch 37/100\n",
            "1/1 [==============================] - 0s 10ms/step - loss: 3.8691 - mae: 3.8691\n",
            "Epoch 38/100\n",
            "1/1 [==============================] - 0s 14ms/step - loss: 3.8732 - mae: 3.8732\n",
            "Epoch 39/100\n",
            "1/1 [==============================] - 0s 10ms/step - loss: 3.8768 - mae: 3.8768\n",
            "Epoch 40/100\n",
            "1/1 [==============================] - 0s 16ms/step - loss: 3.8469 - mae: 3.8469\n",
            "Epoch 41/100\n",
            "1/1 [==============================] - 0s 8ms/step - loss: 3.8847 - mae: 3.8847\n",
            "Epoch 42/100\n",
            "1/1 [==============================] - 0s 10ms/step - loss: 3.8204 - mae: 3.8204\n",
            "Epoch 43/100\n",
            "1/1 [==============================] - 0s 12ms/step - loss: 3.8951 - mae: 3.8951\n",
            "Epoch 44/100\n",
            "1/1 [==============================] - 0s 10ms/step - loss: 3.8322 - mae: 3.8322\n",
            "Epoch 45/100\n",
            "1/1 [==============================] - 0s 9ms/step - loss: 3.8754 - mae: 3.8754\n",
            "Epoch 46/100\n",
            "1/1 [==============================] - 0s 9ms/step - loss: 3.8400 - mae: 3.8400\n",
            "Epoch 47/100\n",
            "1/1 [==============================] - 0s 8ms/step - loss: 3.8490 - mae: 3.8490\n",
            "Epoch 48/100\n",
            "1/1 [==============================] - 0s 11ms/step - loss: 3.8479 - mae: 3.8479\n",
            "Epoch 49/100\n",
            "1/1 [==============================] - 0s 9ms/step - loss: 3.8224 - mae: 3.8224\n",
            "Epoch 50/100\n",
            "1/1 [==============================] - 0s 8ms/step - loss: 3.8559 - mae: 3.8559\n",
            "Epoch 51/100\n",
            "1/1 [==============================] - 0s 8ms/step - loss: 3.7958 - mae: 3.7958\n",
            "Epoch 52/100\n",
            "1/1 [==============================] - 0s 9ms/step - loss: 3.8714 - mae: 3.8714\n",
            "Epoch 53/100\n",
            "1/1 [==============================] - 0s 8ms/step - loss: 3.8039 - mae: 3.8039\n",
            "Epoch 54/100\n",
            "1/1 [==============================] - 0s 8ms/step - loss: 3.8502 - mae: 3.8502\n",
            "Epoch 55/100\n",
            "1/1 [==============================] - 0s 9ms/step - loss: 3.8119 - mae: 3.8119\n",
            "Epoch 56/100\n",
            "1/1 [==============================] - 0s 8ms/step - loss: 3.8235 - mae: 3.8235\n",
            "Epoch 57/100\n",
            "1/1 [==============================] - 0s 8ms/step - loss: 3.8200 - mae: 3.8200\n",
            "Epoch 58/100\n",
            "1/1 [==============================] - 0s 9ms/step - loss: 3.7966 - mae: 3.7966\n",
            "Epoch 59/100\n",
            "1/1 [==============================] - 0s 8ms/step - loss: 3.8282 - mae: 3.8282\n",
            "Epoch 60/100\n",
            "1/1 [==============================] - 0s 8ms/step - loss: 3.7740 - mae: 3.7740\n",
            "Epoch 61/100\n",
            "1/1 [==============================] - 0s 9ms/step - loss: 3.8439 - mae: 3.8439\n",
            "Epoch 62/100\n",
            "1/1 [==============================] - 0s 11ms/step - loss: 3.7767 - mae: 3.7767\n",
            "Epoch 63/100\n",
            "1/1 [==============================] - 0s 10ms/step - loss: 3.8237 - mae: 3.8237\n",
            "Epoch 64/100\n",
            "1/1 [==============================] - 0s 11ms/step - loss: 3.7849 - mae: 3.7849\n",
            "Epoch 65/100\n",
            "1/1 [==============================] - 0s 8ms/step - loss: 3.7966 - mae: 3.7966\n",
            "Epoch 66/100\n",
            "1/1 [==============================] - 0s 9ms/step - loss: 3.7932 - mae: 3.7932\n",
            "Epoch 67/100\n",
            "1/1 [==============================] - 0s 11ms/step - loss: 3.7695 - mae: 3.7695\n",
            "Epoch 68/100\n",
            "1/1 [==============================] - 0s 10ms/step - loss: 3.8029 - mae: 3.8029\n",
            "Epoch 69/100\n",
            "1/1 [==============================] - 0s 9ms/step - loss: 3.7489 - mae: 3.7489\n",
            "Epoch 70/100\n",
            "1/1 [==============================] - 0s 12ms/step - loss: 3.8175 - mae: 3.8175\n",
            "Epoch 71/100\n",
            "1/1 [==============================] - 0s 9ms/step - loss: 3.7506 - mae: 3.7506\n",
            "Epoch 72/100\n",
            "1/1 [==============================] - 0s 9ms/step - loss: 3.7958 - mae: 3.7958\n",
            "Epoch 73/100\n",
            "1/1 [==============================] - 0s 9ms/step - loss: 3.7589 - mae: 3.7589\n",
            "Epoch 74/100\n",
            "1/1 [==============================] - 0s 9ms/step - loss: 3.7685 - mae: 3.7685\n",
            "Epoch 75/100\n",
            "1/1 [==============================] - 0s 9ms/step - loss: 3.7674 - mae: 3.7674\n",
            "Epoch 76/100\n",
            "1/1 [==============================] - 0s 12ms/step - loss: 3.7410 - mae: 3.7410\n",
            "Epoch 77/100\n",
            "1/1 [==============================] - 0s 9ms/step - loss: 3.7813 - mae: 3.7813\n",
            "Epoch 78/100\n",
            "1/1 [==============================] - 0s 9ms/step - loss: 3.7201 - mae: 3.7201\n",
            "Epoch 79/100\n",
            "1/1 [==============================] - 0s 8ms/step - loss: 3.7921 - mae: 3.7921\n",
            "Epoch 80/100\n",
            "1/1 [==============================] - 0s 8ms/step - loss: 3.7255 - mae: 3.7255\n",
            "Epoch 81/100\n",
            "1/1 [==============================] - 0s 9ms/step - loss: 3.7666 - mae: 3.7666\n",
            "Epoch 82/100\n",
            "1/1 [==============================] - 0s 9ms/step - loss: 3.7340 - mae: 3.7340\n",
            "Epoch 83/100\n",
            "1/1 [==============================] - 0s 9ms/step - loss: 3.7390 - mae: 3.7390\n",
            "Epoch 84/100\n",
            "1/1 [==============================] - 0s 9ms/step - loss: 3.7427 - mae: 3.7427\n",
            "Epoch 85/100\n",
            "1/1 [==============================] - 0s 9ms/step - loss: 3.7138 - mae: 3.7138\n",
            "Epoch 86/100\n",
            "1/1 [==============================] - 0s 9ms/step - loss: 3.7589 - mae: 3.7589\n",
            "Epoch 87/100\n",
            "1/1 [==============================] - 0s 8ms/step - loss: 3.6927 - mae: 3.6927\n",
            "Epoch 88/100\n",
            "1/1 [==============================] - 0s 8ms/step - loss: 3.7640 - mae: 3.7640\n",
            "Epoch 89/100\n",
            "1/1 [==============================] - 0s 11ms/step - loss: 3.7014 - mae: 3.7014\n",
            "Epoch 90/100\n",
            "1/1 [==============================] - 0s 10ms/step - loss: 3.7361 - mae: 3.7361\n",
            "Epoch 91/100\n",
            "1/1 [==============================] - 0s 9ms/step - loss: 3.7101 - mae: 3.7101\n",
            "Epoch 92/100\n",
            "1/1 [==============================] - 0s 8ms/step - loss: 3.7082 - mae: 3.7082\n",
            "Epoch 93/100\n",
            "1/1 [==============================] - 0s 8ms/step - loss: 3.7191 - mae: 3.7191\n",
            "Epoch 94/100\n",
            "1/1 [==============================] - 0s 8ms/step - loss: 3.6865 - mae: 3.6865\n",
            "Epoch 95/100\n",
            "1/1 [==============================] - 0s 9ms/step - loss: 3.7354 - mae: 3.7354\n",
            "Epoch 96/100\n",
            "1/1 [==============================] - 0s 9ms/step - loss: 3.6694 - mae: 3.6694\n",
            "Epoch 97/100\n",
            "1/1 [==============================] - 0s 8ms/step - loss: 3.7324 - mae: 3.7324\n",
            "Epoch 98/100\n",
            "1/1 [==============================] - 0s 8ms/step - loss: 3.6782 - mae: 3.6782\n",
            "Epoch 99/100\n",
            "1/1 [==============================] - 0s 8ms/step - loss: 3.7043 - mae: 3.7043\n",
            "Epoch 100/100\n",
            "1/1 [==============================] - 0s 9ms/step - loss: 3.6872 - mae: 3.6872\n"
          ]
        },
        {
          "output_type": "execute_result",
          "data": {
            "text/plain": [
              "<keras.callbacks.History at 0x7f112933db70>"
            ]
          },
          "metadata": {},
          "execution_count": 15
        }
      ]
    },
    {
      "cell_type": "code",
      "source": [
        " #Lets remind ourselves of the data\n",
        " X,y"
      ],
      "metadata": {
        "colab": {
          "base_uri": "https://localhost:8080/"
        },
        "id": "dzyWxRz1eftY",
        "outputId": "c031844e-123e-4fef-ff5e-38586ff806ec"
      },
      "execution_count": null,
      "outputs": [
        {
          "output_type": "execute_result",
          "data": {
            "text/plain": [
              "(<tf.Tensor: shape=(8,), dtype=float32, numpy=array([-7., -4., -1.,  2.,  5.,  8., 11., 14.], dtype=float32)>,\n",
              " <tf.Tensor: shape=(8,), dtype=float32, numpy=array([ 3.,  6.,  9., 12., 15., 18., 21., 24.], dtype=float32)>)"
            ]
          },
          "metadata": {},
          "execution_count": 16
        }
      ]
    },
    {
      "cell_type": "code",
      "source": [
        "#Lets try to predict again\n",
        "model.predict([17.0])\n",
        "\n",
        "\n",
        "#mae is lower for this example but the predicted number is a worse prediction. Potential case of over fitting"
      ],
      "metadata": {
        "colab": {
          "base_uri": "https://localhost:8080/"
        },
        "id": "hzGZowQ5e-F2",
        "outputId": "3dbc62d6-3bac-4f2c-d635-0c5bbb0baff0"
      },
      "execution_count": null,
      "outputs": [
        {
          "output_type": "stream",
          "name": "stdout",
          "text": [
            "1/1 [==============================] - 0s 70ms/step\n"
          ]
        },
        {
          "output_type": "execute_result",
          "data": {
            "text/plain": [
              "array([[31.56533]], dtype=float32)"
            ]
          },
          "metadata": {},
          "execution_count": 17
        }
      ]
    },
    {
      "cell_type": "markdown",
      "source": [
        "Common ways to improve a deep model (but doesnt always improve the predictive capabilities):\n",
        "1. Adding layers\n",
        "2. Increase the number of neurons in the hidden layers\n",
        "3. Changing the activation function (relu,sigmoid...)\n",
        "```\n",
        "1) and 2) tf.keras.layers.Dense(50,activation=\"relu\") ,50 corresponds to number of neurons, can have activation=none\n",
        "```\n",
        "4. Change the optimization function\n",
        "5. Change the learning rate - can be most important hyperparamter to alter\n",
        "```\n",
        "#4) and 5) optimizer=tf.keras.optimizers.Adam(lr=0.01), 0.001 is the default learning rate for Adam\n",
        "```\n",
        "6. Fitting for longer (change epochs number)\n",
        "7. Fitting on more data"
      ],
      "metadata": {
        "id": "z8TABaHxgjn4"
      }
    },
    {
      "cell_type": "markdown",
      "source": [
        "Evaluating a model. A typical workflow of building neural networks is: build -> fit it -> evaluate it ->  tweak it -> fit it -> evaluate it -> repeat\n"
      ],
      "metadata": {
        "id": "zOWr3d3plVKd"
      }
    },
    {
      "cell_type": "markdown",
      "source": [
        "When it comes to evaluation... there are 3 words you should memorize: vizualize visualize, visualize. Its a good idea to visualize:\n",
        "* the data - what data are we working with? what does it look like/\n",
        "* the model itself - what does our model look like?\n",
        "* the training of a model - how does a model perform while it learns?\n",
        "* the predictions of the modle - how do the predictions of model line up against the ground truth (the original labels)?\n",
        "\n",
        "\n",
        "\n"
      ],
      "metadata": {
        "id": "7J6CYV4hnGqF"
      }
    },
    {
      "cell_type": "code",
      "source": [
        "#Make a bigger dataset\n",
        "X=tf.range(-100,100,4)\n",
        "X"
      ],
      "metadata": {
        "colab": {
          "base_uri": "https://localhost:8080/"
        },
        "id": "wSWjSTMQjLWz",
        "outputId": "01d66b48-9d7b-4b33-a325-a4756574a318"
      },
      "execution_count": null,
      "outputs": [
        {
          "output_type": "execute_result",
          "data": {
            "text/plain": [
              "<tf.Tensor: shape=(50,), dtype=int32, numpy=\n",
              "array([-100,  -96,  -92,  -88,  -84,  -80,  -76,  -72,  -68,  -64,  -60,\n",
              "        -56,  -52,  -48,  -44,  -40,  -36,  -32,  -28,  -24,  -20,  -16,\n",
              "        -12,   -8,   -4,    0,    4,    8,   12,   16,   20,   24,   28,\n",
              "         32,   36,   40,   44,   48,   52,   56,   60,   64,   68,   72,\n",
              "         76,   80,   84,   88,   92,   96], dtype=int32)>"
            ]
          },
          "metadata": {},
          "execution_count": 18
        }
      ]
    },
    {
      "cell_type": "code",
      "source": [
        "#Make a labels for the dataset\n",
        "y=X+10\n",
        "y"
      ],
      "metadata": {
        "colab": {
          "base_uri": "https://localhost:8080/"
        },
        "id": "1NAQkRDAqJtI",
        "outputId": "117660d7-6dd9-4e6e-bc81-a399a02d1fea"
      },
      "execution_count": null,
      "outputs": [
        {
          "output_type": "execute_result",
          "data": {
            "text/plain": [
              "<tf.Tensor: shape=(50,), dtype=int32, numpy=\n",
              "array([-90, -86, -82, -78, -74, -70, -66, -62, -58, -54, -50, -46, -42,\n",
              "       -38, -34, -30, -26, -22, -18, -14, -10,  -6,  -2,   2,   6,  10,\n",
              "        14,  18,  22,  26,  30,  34,  38,  42,  46,  50,  54,  58,  62,\n",
              "        66,  70,  74,  78,  82,  86,  90,  94,  98, 102, 106], dtype=int32)>"
            ]
          },
          "metadata": {},
          "execution_count": 19
        }
      ]
    },
    {
      "cell_type": "code",
      "source": [
        "#Visualize the data\n",
        "import matplotlib.pyplot as plt\n",
        "plt.scatter(X,y)"
      ],
      "metadata": {
        "colab": {
          "base_uri": "https://localhost:8080/",
          "height": 447
        },
        "id": "N3xxpQtTqXnW",
        "outputId": "4fb278e7-0dc7-4f63-e0f0-32cd76160846"
      },
      "execution_count": null,
      "outputs": [
        {
          "output_type": "execute_result",
          "data": {
            "text/plain": [
              "<matplotlib.collections.PathCollection at 0x7f1128d945e0>"
            ]
          },
          "metadata": {},
          "execution_count": 20
        },
        {
          "output_type": "display_data",
          "data": {
            "text/plain": [
              "<Figure size 640x480 with 1 Axes>"
            ],
            "image/png": "[encoded data removed]"
          },
          "metadata": {}
        }
      ]
    },
    {
      "cell_type": "markdown",
      "source": [
        "The 3 sets...\n",
        "* Training set - the model learns from this data, which is typically 70-80% of the total data you have available\n",
        "* Validation set - the model gets tuned on this data, which is typically 10-15% of the data available\n",
        "* Test set - the model gets evaluated on this data to test what is has learned, this set is typically 10-15% of the total data available"
      ],
      "metadata": {
        "id": "tcQPkE7Zq2Rw"
      }
    },
    {
      "cell_type": "code",
      "source": [
        "#Check the length of many samples we have\n",
        "len(X)"
      ],
      "metadata": {
        "colab": {
          "base_uri": "https://localhost:8080/"
        },
        "id": "IhTRO3mFqjgX",
        "outputId": "b8e21520-64c0-4d3d-f97e-6325ac44a7e9"
      },
      "execution_count": null,
      "outputs": [
        {
          "output_type": "execute_result",
          "data": {
            "text/plain": [
              "50"
            ]
          },
          "metadata": {},
          "execution_count": 21
        }
      ]
    },
    {
      "cell_type": "code",
      "source": [
        "#Split the data into train and test sets\n",
        "X_train=X[:40] #first 40 are training samples (80% of the data)\n",
        "y_train=y[:40] #first 40 are training samples (80% of the data)\n",
        "\n",
        "X_test=X[40:] #last 10 are testing samples (20% of the data)\n",
        "y_test= y[40:] #last 10 are testing samples (20% of the data)\n",
        "\n",
        "len(X_train),len(y_train),len(X_test),len(y_test)"
      ],
      "metadata": {
        "id": "pk3F9_MZsFPP",
        "colab": {
          "base_uri": "https://localhost:8080/"
        },
        "outputId": "82004451-0d01-4cc1-8e8c-2d6695ba4864"
      },
      "execution_count": null,
      "outputs": [
        {
          "output_type": "execute_result",
          "data": {
            "text/plain": [
              "(40, 40, 10, 10)"
            ]
          },
          "metadata": {},
          "execution_count": 22
        }
      ]
    },
    {
      "cell_type": "code",
      "source": [
        "#Visualizing the data\n",
        "\n",
        "plt.figure(figsize=(10,7))\n",
        "\n",
        "plt.scatter(X_train,y_train,c=\"b\",label=\"Training Data\")\n",
        "plt.scatter(X_test,y_test,c=\"g\",label=\"Testing Data\")\n",
        "plt.legend()"
      ],
      "metadata": {
        "colab": {
          "base_uri": "https://localhost:8080/",
          "height": 616
        },
        "id": "IM1otvPhIwIs",
        "outputId": "29abba6e-2aa4-48bd-8145-cdcca5687536"
      },
      "execution_count": null,
      "outputs": [
        {
          "output_type": "execute_result",
          "data": {
            "text/plain": [
              "<matplotlib.legend.Legend at 0x7f1128e19270>"
            ]
          },
          "metadata": {},
          "execution_count": 23
        },
        {
          "output_type": "display_data",
          "data": {
            "text/plain": [
              "<Figure size 1000x700 with 1 Axes>"
            ],
            "image/png": "[encoded data removed]"
          },
          "metadata": {}
        }
      ]
    },
    {
      "cell_type": "code",
      "source": [
        "#Lets have a look at building a neural network for our data\n",
        "\n",
        "#1. Create the model\n",
        "model=tf.keras.Sequential([\n",
        "    tf.keras.layers.Dense(1)\n",
        "])\n",
        "\n",
        "#2. Compile the model\n",
        "model.compile(loss=tf.keras.losses.mae,\n",
        "              optimizer=tf.keras.optimizers.SGD(),\n",
        "              metrics=[\"mae\"])\n",
        "\n",
        "#3. Fit the model\n",
        "#model.fit(tf.expand_dims(X_train, axis=-1), y_train, epochs=100)"
      ],
      "metadata": {
        "id": "kR5RODkBJy82"
      },
      "execution_count": null,
      "outputs": []
    },
    {
      "cell_type": "markdown",
      "source": [
        "----------------------------------\n",
        "Model 1"
      ],
      "metadata": {
        "id": "ilJ4eTqIj36j"
      }
    },
    {
      "cell_type": "code",
      "source": [
        "tf.random.set_seed(42)\n",
        "\n",
        "#1 create the mode\n",
        "model=tf.keras.Sequential([\n",
        "    tf.keras.layers.Dense(10,input_shape=[1],name=\"input_layer\"),\n",
        "    tf.keras.layers.Dense(1,name=\"output_layer\") #1 input for 1 output\n",
        "],name=\"one_of_many_models_to_be_built\")\n",
        "\n",
        "#2 compile the model\n",
        "model.compile(loss=tf.keras.losses.mae,\n",
        "              #optimizer=tf.keras.optimizers.Adam(lr=0.1),\n",
        "              optimizer=tf.keras.optimizers.SGD(),\n",
        "              metrics=[\"mae\"])"
      ],
      "metadata": {
        "id": "npHet50eKcJV"
      },
      "execution_count": null,
      "outputs": []
    },
    {
      "cell_type": "code",
      "source": [
        "model.summary()"
      ],
      "metadata": {
        "colab": {
          "base_uri": "https://localhost:8080/"
        },
        "id": "ibQiVsUaLSI3",
        "outputId": "ab4da441-2fbe-4069-c03c-1dd2eb3e4bc4"
      },
      "execution_count": null,
      "outputs": [
        {
          "output_type": "stream",
          "name": "stdout",
          "text": [
            "Model: \"one_of_many_models_to_be_built\"\n",
            "_________________________________________________________________\n",
            " Layer (type)                Output Shape              Param #   \n",
            "=================================================================\n",
            " input_layer (Dense)         (None, 10)                20        \n",
            "                                                                 \n",
            " output_layer (Dense)        (None, 1)                 11        \n",
            "                                                                 \n",
            "=================================================================\n",
            "Total params: 31\n",
            "Trainable params: 31\n",
            "Non-trainable params: 0\n",
            "_________________________________________________________________\n"
          ]
        }
      ]
    },
    {
      "cell_type": "markdown",
      "source": [
        "* Total params=total number of paramters in the model\n",
        "* Trainable params= these are the paramters (patterns) the model can update as it trains\n",
        "* Non-trainable params= these paramters arent updated during training. (this is typical when you bring in already learn patterns or parameters from other models during transfer learning)"
      ],
      "metadata": {
        "id": "4Ri9WNxJLiwg"
      }
    },
    {
      "cell_type": "code",
      "source": [
        "#3 fit our model to the training data\n",
        "model.fit(tf.expand_dims(X_train, axis=-1), y_train, epochs=100,verbose=0)"
      ],
      "metadata": {
        "colab": {
          "base_uri": "https://localhost:8080/"
        },
        "id": "e_ZO26qXMMJW",
        "outputId": "4797aae6-3dce-4780-fc1e-af842c02d358"
      },
      "execution_count": null,
      "outputs": [
        {
          "output_type": "execute_result",
          "data": {
            "text/plain": [
              "<keras.callbacks.History at 0x7f112acb93f0>"
            ]
          },
          "metadata": {},
          "execution_count": 27
        }
      ]
    },
    {
      "cell_type": "code",
      "source": [
        "from tensorflow.keras.utils import plot_model\n",
        "plot_model(model,show_shapes=True)"
      ],
      "metadata": {
        "colab": {
          "base_uri": "https://localhost:8080/",
          "height": 312
        },
        "id": "Xde_73m3OfT5",
        "outputId": "162d43ca-f599-4b67-e9ad-a08371ac7766"
      },
      "execution_count": null,
      "outputs": [
        {
          "output_type": "execute_result",
          "data": {
            "image/png": "[encoded data removed]",
            "text/plain": [
              "<IPython.core.display.Image object>"
            ]
          },
          "metadata": {},
          "execution_count": 28
        }
      ]
    },
    {
      "cell_type": "markdown",
      "source": [
        "To visualize our model's predictions its a good idea to plot them against the true values"
      ],
      "metadata": {
        "id": "akIdPHukRfBV"
      }
    },
    {
      "cell_type": "code",
      "source": [
        "#Make some predictions\n",
        "y_pred=model.predict(X_test)\n",
        "y_pred,y_test\n",
        "\n",
        "'''\n",
        "#Lets create a plotting function\n",
        "def plot_predictions(train_data=X_train,\n",
        "                     train_labels=y_train,\n",
        "                     test_data=X_test,\n",
        "                     test_labels=y_test,\n",
        "                     predictions=y_pred):\n",
        "'''\n",
        "\n",
        "plt.figure(figsize=(10,7))\n",
        "plt.scatter(X_train,y_train,c=\"b\",label=\"training data\")\n",
        "plt.scatter(X_test,y_test,c=\"g\",label=\"testing data\")\n",
        "plt.scatter(X_test,y_pred,c=\"r\",label=\"predictions\")\n",
        "plt.legend()"
      ],
      "metadata": {
        "colab": {
          "base_uri": "https://localhost:8080/",
          "height": 634
        },
        "id": "5G3mJIzdRpNm",
        "outputId": "62bb97a8-bab9-4ca1-cfcf-30bfaf2e6797"
      },
      "execution_count": null,
      "outputs": [
        {
          "output_type": "stream",
          "name": "stdout",
          "text": [
            "1/1 [==============================] - 0s 61ms/step\n"
          ]
        },
        {
          "output_type": "execute_result",
          "data": {
            "text/plain": [
              "<matplotlib.legend.Legend at 0x7f112af4a500>"
            ]
          },
          "metadata": {},
          "execution_count": 29
        },
        {
          "output_type": "display_data",
          "data": {
            "text/plain": [
              "<Figure size 1000x700 with 1 Axes>"
            ],
            "image/png": "[encoded data removed]"
          },
          "metadata": {}
        }
      ]
    },
    {
      "cell_type": "markdown",
      "source": [
        "Evaluating our models predictions with regression evaluation metrics\n",
        "* depending on the problem youre working on, there will be different evaluation metrics to evaluate your models performance\n",
        "* since were working on a regression, two of the main metrics are:\n",
        "  * mae-mean absolute error\n",
        "  * mse-mean square error"
      ],
      "metadata": {
        "id": "pfaXxF1Cjxx0"
      }
    },
    {
      "cell_type": "code",
      "source": [
        "#Evaluate the model on the test\n",
        "model.evaluate(X_test,y_test)"
      ],
      "metadata": {
        "colab": {
          "base_uri": "https://localhost:8080/"
        },
        "id": "geYgVidNtiFK",
        "outputId": "50bddb1a-ca3c-40ac-9892-f7fcbc411af0"
      },
      "execution_count": null,
      "outputs": [
        {
          "output_type": "stream",
          "name": "stdout",
          "text": [
            "1/1 [==============================] - 0s 218ms/step - loss: 10.9538 - mae: 10.9538\n"
          ]
        },
        {
          "output_type": "execute_result",
          "data": {
            "text/plain": [
              "[10.953768730163574, 10.953768730163574]"
            ]
          },
          "metadata": {},
          "execution_count": 30
        }
      ]
    },
    {
      "cell_type": "code",
      "source": [
        "#just compare y_pred to y_test\n",
        "\n",
        "#calculate the mean absolute error\n",
        "mae=tf.metrics.mean_absolute_error(y_true=tf.constant(y_test),\n",
        "                                   y_pred=tf.squeeze(tf.constant(y_pred))) #rework tensors so that mae returns 1 value.\n",
        "mae #same value as model.evaluate above."
      ],
      "metadata": {
        "colab": {
          "base_uri": "https://localhost:8080/"
        },
        "id": "sombYVLCu0_y",
        "outputId": "82dab07c-a48f-4a70-e664-43cce347dd6a"
      },
      "execution_count": null,
      "outputs": [
        {
          "output_type": "execute_result",
          "data": {
            "text/plain": [
              "<tf.Tensor: shape=(), dtype=float32, numpy=10.953765>"
            ]
          },
          "metadata": {},
          "execution_count": 31
        }
      ]
    },
    {
      "cell_type": "code",
      "source": [
        "#calculate the mean squared error\n",
        "mse=tf.metrics.mean_squared_error(y_true=y_test,\n",
        "                                  y_pred=tf.squeeze(y_pred))\n",
        "mse"
      ],
      "metadata": {
        "colab": {
          "base_uri": "https://localhost:8080/"
        },
        "id": "YwuWoKZXwnuM",
        "outputId": "ff9f00c0-0fc2-47df-a0a1-98738f4d967a"
      },
      "execution_count": null,
      "outputs": [
        {
          "output_type": "execute_result",
          "data": {
            "text/plain": [
              "<tf.Tensor: shape=(), dtype=float32, numpy=128.00075>"
            ]
          },
          "metadata": {},
          "execution_count": 32
        }
      ]
    },
    {
      "cell_type": "code",
      "source": [
        "#Make function to reuse mse mae\n",
        "def mae(y_true,y_pred):\n",
        "  return tf.metrics.mean_absolute_error(y_true=y_true,\n",
        "                                        y_pred=y_pred)\n",
        "def mse(y_true,y_pred):\n",
        "  return tf.metrics.mean_squared_error(y_true=y_true,\n",
        "                                       y_pred=y_pred)\n"
      ],
      "metadata": {
        "id": "aI1D1sv8Bv1c"
      },
      "execution_count": null,
      "outputs": []
    },
    {
      "cell_type": "markdown",
      "source": [
        "Running experiments to imrpve the model\n",
        "* build, fit, eval, tweak it, repeat. do this by:\n",
        "1. get more data-get more example for your model to train on\n",
        "2. make your model larger/more complex-more layers,more neurons per hidden layer\n",
        "3. train for longer-give your model more of a chance to find patterns in the data"
      ],
      "metadata": {
        "id": "sJpvkZnlCqYG"
      }
    },
    {
      "cell_type": "markdown",
      "source": [
        "Lets do 3 modeling experiments:\n",
        "1. model_1 : same as the original model, 1 layer, trained for 100 epochs\n",
        "2. model_2 : 2 layers, trained for 100 epochs\n",
        "3. model_3 : 2 layers, trained for 500 epochs"
      ],
      "metadata": {
        "id": "z6PnC6FNEGj8"
      }
    },
    {
      "cell_type": "markdown",
      "source": [
        "Build model_1"
      ],
      "metadata": {
        "id": "SfxAGDNZEr4d"
      }
    },
    {
      "cell_type": "code",
      "source": [
        "#set random seed\n",
        "tf.random.set_seed(42)\n",
        "\n",
        "#1 create the model\n",
        "model_1=tf.keras.Sequential([\n",
        "    tf.keras.layers.Dense(1)\n",
        "])\n",
        "\n",
        "#2 compile the model\n",
        "model_1.compile(loss=tf.keras.losses.mae,\n",
        "                optimizer=tf.keras.optimizers.SGD(),\n",
        "                metrics=[\"mae\"])\n",
        "\n"
      ],
      "metadata": {
        "id": "LB3l5Lf-Cpj-"
      },
      "execution_count": null,
      "outputs": []
    },
    {
      "cell_type": "code",
      "source": [
        "#3 fit the model\n",
        "model_1.fit(tf.expand_dims(X_train, axis=-1), y_train, epochs=100,verbose=0)"
      ],
      "metadata": {
        "colab": {
          "base_uri": "https://localhost:8080/"
        },
        "id": "7h1Zdei8IJiq",
        "outputId": "fa58a417-3aba-4c9f-867c-3ccc240c5b8a"
      },
      "execution_count": null,
      "outputs": [
        {
          "output_type": "execute_result",
          "data": {
            "text/plain": [
              "<keras.callbacks.History at 0x7f112afe75e0>"
            ]
          },
          "metadata": {},
          "execution_count": 35
        }
      ]
    },
    {
      "cell_type": "code",
      "source": [
        "#make and plot predictions for model_1\n",
        "y_preds_1=model_1.predict(X_test)\n",
        "\n",
        "\n",
        "plt.figure(figsize=(10,7))\n",
        "plt.scatter(X_train,y_train,c=\"b\",label=\"training data\")\n",
        "plt.scatter(X_test,y_test,c=\"g\",label=\"testing data\")\n",
        "plt.scatter(X_test,y_preds_1,c=\"r\",label=\"predictions\")\n",
        "plt.legend()\n",
        "\n"
      ],
      "metadata": {
        "colab": {
          "base_uri": "https://localhost:8080/",
          "height": 671
        },
        "id": "8t7A6uHOF44q",
        "outputId": "136f8418-db2e-4374-cece-782981790479"
      },
      "execution_count": null,
      "outputs": [
        {
          "output_type": "stream",
          "name": "stderr",
          "text": [
            "WARNING:tensorflow:5 out of the last 5 calls to <function Model.make_predict_function.<locals>.predict_function at 0x7f112af38670> triggered tf.function retracing. Tracing is expensive and the excessive number of tracings could be due to (1) creating @tf.function repeatedly in a loop, (2) passing tensors with different shapes, (3) passing Python objects instead of tensors. For (1), please define your @tf.function outside of the loop. For (2), @tf.function has reduce_retracing=True option that can avoid unnecessary retracing. For (3), please refer to https://www.tensorflow.org/guide/function#controlling_retracing and https://www.tensorflow.org/api_docs/python/tf/function for  more details.\n"
          ]
        },
        {
          "output_type": "stream",
          "name": "stdout",
          "text": [
            "1/1 [==============================] - 0s 69ms/step\n"
          ]
        },
        {
          "output_type": "execute_result",
          "data": {
            "text/plain": [
              "<matplotlib.legend.Legend at 0x7f112aeaf310>"
            ]
          },
          "metadata": {},
          "execution_count": 36
        },
        {
          "output_type": "display_data",
          "data": {
            "text/plain": [
              "<Figure size 1000x700 with 1 Axes>"
            ],
            "image/png": "[encoded data removed]"
          },
          "metadata": {}
        }
      ]
    },
    {
      "cell_type": "code",
      "source": [
        "#calculate model_1 evaluation\n",
        "mae_1=tf.metrics.mean_absolute_error(y_true=y_test,\n",
        "                                        y_pred=tf.squeeze(y_preds_1))\n",
        "mse_1=tf.metrics.mean_squared_error(y_true=y_test,\n",
        "                                       y_pred=tf.squeeze(y_preds_1))\n",
        "\n",
        "mae_1,mse_1"
      ],
      "metadata": {
        "colab": {
          "base_uri": "https://localhost:8080/"
        },
        "id": "k_ksA9qlJWqW",
        "outputId": "fa586f1c-643f-46f1-ced2-bb4fb829dd9a"
      },
      "execution_count": null,
      "outputs": [
        {
          "output_type": "execute_result",
          "data": {
            "text/plain": [
              "(<tf.Tensor: shape=(), dtype=float32, numpy=14.933337>,\n",
              " <tf.Tensor: shape=(), dtype=float32, numpy=223.84502>)"
            ]
          },
          "metadata": {},
          "execution_count": 37
        }
      ]
    },
    {
      "cell_type": "markdown",
      "source": [
        "Build model_2"
      ],
      "metadata": {
        "id": "JtM6hF6aKzhq"
      }
    },
    {
      "cell_type": "code",
      "source": [
        "tf.random.set_seed(42)\n",
        "\n",
        "#1 create the model\n",
        "model_2=tf.keras.Sequential([\n",
        "    tf.keras.layers.Dense(11),\n",
        "    tf.keras.layers.Dense(1)\n",
        "])\n",
        "\n",
        "#2 compile the model\n",
        "model_2.compile(loss=tf.keras.losses.mae,\n",
        "                optimizer=tf.keras.optimizers.SGD(),\n",
        "                metrics=[\"mae\"])\n"
      ],
      "metadata": {
        "id": "Cdxj5VMHK06C"
      },
      "execution_count": null,
      "outputs": []
    },
    {
      "cell_type": "code",
      "source": [
        "#3 fit the model\n",
        "model_2.fit(tf.expand_dims(X_train, axis=-1), y_train, epochs=100,verbose=0)"
      ],
      "metadata": {
        "colab": {
          "base_uri": "https://localhost:8080/"
        },
        "id": "I1rR9ImoLW_7",
        "outputId": "cbcde829-addb-4690-a9e3-0ddc0d1dc765"
      },
      "execution_count": null,
      "outputs": [
        {
          "output_type": "execute_result",
          "data": {
            "text/plain": [
              "<keras.callbacks.History at 0x7f112aba9e40>"
            ]
          },
          "metadata": {},
          "execution_count": 39
        }
      ]
    },
    {
      "cell_type": "code",
      "source": [
        "#make and plot predictions for model_1\n",
        "y_preds_2=model_2.predict(X_test)\n",
        "\n",
        "\n",
        "plt.figure(figsize=(10,7))\n",
        "plt.scatter(X_train,y_train,label=\"training data\")\n",
        "plt.scatter(X_test,y_test,label=\"testing data\")\n",
        "plt.scatter(X_test,y_preds_1,label=\"predictions 1\")\n",
        "plt.scatter(X_test,y_preds_2,label=\"predictions 2\")\n",
        "plt.legend()"
      ],
      "metadata": {
        "colab": {
          "base_uri": "https://localhost:8080/",
          "height": 671
        },
        "id": "LYsZEyliL2-2",
        "outputId": "718ad4c8-bb2b-4b6c-eed1-de375d2a7936"
      },
      "execution_count": null,
      "outputs": [
        {
          "output_type": "stream",
          "name": "stderr",
          "text": [
            "WARNING:tensorflow:6 out of the last 6 calls to <function Model.make_predict_function.<locals>.predict_function at 0x7f112ab99f30> triggered tf.function retracing. Tracing is expensive and the excessive number of tracings could be due to (1) creating @tf.function repeatedly in a loop, (2) passing tensors with different shapes, (3) passing Python objects instead of tensors. For (1), please define your @tf.function outside of the loop. For (2), @tf.function has reduce_retracing=True option that can avoid unnecessary retracing. For (3), please refer to https://www.tensorflow.org/guide/function#controlling_retracing and https://www.tensorflow.org/api_docs/python/tf/function for  more details.\n"
          ]
        },
        {
          "output_type": "stream",
          "name": "stdout",
          "text": [
            "1/1 [==============================] - 0s 52ms/step\n"
          ]
        },
        {
          "output_type": "execute_result",
          "data": {
            "text/plain": [
              "<matplotlib.legend.Legend at 0x7f112aa8e710>"
            ]
          },
          "metadata": {},
          "execution_count": 40
        },
        {
          "output_type": "display_data",
          "data": {
            "text/plain": [
              "<Figure size 1000x700 with 1 Axes>"
            ],
            "image/png": "[encoded data removed]"
          },
          "metadata": {}
        }
      ]
    },
    {
      "cell_type": "code",
      "source": [
        "#calculate model_2 evaluation\n",
        "mae_2=tf.metrics.mean_absolute_error(y_true=y_test,\n",
        "                                        y_pred=tf.squeeze(y_preds_2))\n",
        "mse_2=tf.metrics.mean_squared_error(y_true=y_test,\n",
        "                                       y_pred=tf.squeeze(y_preds_2))\n",
        "\n",
        "mae_2,mse_2"
      ],
      "metadata": {
        "colab": {
          "base_uri": "https://localhost:8080/"
        },
        "id": "ZwlNzF3eMXFG",
        "outputId": "bbbaa336-2804-4d5c-c858-0fcc5ef23e48"
      },
      "execution_count": null,
      "outputs": [
        {
          "output_type": "execute_result",
          "data": {
            "text/plain": [
              "(<tf.Tensor: shape=(), dtype=float32, numpy=10.919024>,\n",
              " <tf.Tensor: shape=(), dtype=float32, numpy=127.21397>)"
            ]
          },
          "metadata": {},
          "execution_count": 41
        }
      ]
    },
    {
      "cell_type": "markdown",
      "source": [
        "Build model_3"
      ],
      "metadata": {
        "id": "dc_AJW3pND4Q"
      }
    },
    {
      "cell_type": "code",
      "source": [
        "#set random seed\n",
        "tf.random.set_seed(42)\n",
        "\n",
        "#1 create the model\n",
        "model_3=tf.keras.Sequential([\n",
        "    tf.keras.layers.Dense(11),\n",
        "    tf.keras.layers.Dense(1)\n",
        "])\n",
        "\n",
        "#2 compile the model\n",
        "model_3.compile(loss=tf.keras.losses.mae,\n",
        "                optimizer=tf.keras.optimizers.SGD(),\n",
        "                metrics=[\"mae\"])"
      ],
      "metadata": {
        "id": "-Cgdqg2ANDUY"
      },
      "execution_count": null,
      "outputs": []
    },
    {
      "cell_type": "code",
      "source": [
        "#3 fit the model\n",
        "model_3.fit(tf.expand_dims(X_train, axis=-1), y_train, epochs=250,verbose=0)"
      ],
      "metadata": {
        "colab": {
          "base_uri": "https://localhost:8080/"
        },
        "id": "KSDRRxJeNbs6",
        "outputId": "3cb41799-4baa-4d3b-e6a2-b45b65796941"
      },
      "execution_count": null,
      "outputs": [
        {
          "output_type": "execute_result",
          "data": {
            "text/plain": [
              "<keras.callbacks.History at 0x7f112aa70940>"
            ]
          },
          "metadata": {},
          "execution_count": 43
        }
      ]
    },
    {
      "cell_type": "code",
      "source": [
        "#make and plot predictions for model_1\n",
        "y_preds_3=model_3.predict(X_test)\n",
        "\n",
        "\n",
        "plt.figure(figsize=(10,7))\n",
        "plt.scatter(X_train,y_train,label=\"training data\")\n",
        "plt.scatter(X_test,y_test,label=\"testing data\")\n",
        "plt.scatter(X_test,y_preds_1,label=\"predictions (1 layer,100 epochs)\")\n",
        "plt.scatter(X_test,y_preds_2,label=\"predictions (2 layers,100 epochs)\")\n",
        "plt.scatter(X_test,y_preds_3,label=\"predictions (2 layers,250 epochs)\")\n",
        "plt.legend()"
      ],
      "metadata": {
        "colab": {
          "base_uri": "https://localhost:8080/",
          "height": 634
        },
        "id": "SQdm7nazNiSR",
        "outputId": "06575f80-6a0d-46f6-870f-29383d9ebd40"
      },
      "execution_count": null,
      "outputs": [
        {
          "output_type": "stream",
          "name": "stdout",
          "text": [
            "1/1 [==============================] - 0s 50ms/step\n"
          ]
        },
        {
          "output_type": "execute_result",
          "data": {
            "text/plain": [
              "<matplotlib.legend.Legend at 0x7f112a9f3c10>"
            ]
          },
          "metadata": {},
          "execution_count": 44
        },
        {
          "output_type": "display_data",
          "data": {
            "text/plain": [
              "<Figure size 1000x700 with 1 Axes>"
            ],
            "image/png": "[encoded data removed]"
          },
          "metadata": {}
        }
      ]
    },
    {
      "cell_type": "code",
      "source": [
        "#calculate model_3 evaluation\n",
        "mae_3=tf.metrics.mean_absolute_error(y_true=y_test,\n",
        "                                        y_pred=tf.squeeze(y_preds_3))\n",
        "mse_3=tf.metrics.mean_squared_error(y_true=y_test,\n",
        "                                       y_pred=tf.squeeze(y_preds_3))\n",
        "\n",
        "mae_3,mse_3"
      ],
      "metadata": {
        "colab": {
          "base_uri": "https://localhost:8080/"
        },
        "id": "anIm6ciPOYz0",
        "outputId": "8cdd98fb-bd4d-4bf3-b359-3f2c25c87e63"
      },
      "execution_count": null,
      "outputs": [
        {
          "output_type": "execute_result",
          "data": {
            "text/plain": [
              "(<tf.Tensor: shape=(), dtype=float32, numpy=8.243634>,\n",
              " <tf.Tensor: shape=(), dtype=float32, numpy=68.04004>)"
            ]
          },
          "metadata": {},
          "execution_count": 45
        }
      ]
    },
    {
      "cell_type": "markdown",
      "source": [
        "Time to compare the results of the 3 models"
      ],
      "metadata": {
        "id": "3w9oVHlnQsqb"
      }
    },
    {
      "cell_type": "code",
      "source": [
        "#Lets compare our models resuilts using a pandas dataframe\n",
        "import pandas as pd\n",
        "model_results=[[\"model_1\",mae_1.numpy(),mse_1.numpy()],\n",
        "               [\"model_2\",mae_2.numpy(),mse_2.numpy()],\n",
        "               [\"model_3\",mae_3.numpy(),mse_3.numpy()]]\n",
        "all_results=pd.DataFrame(model_results,columns=[\"model\",\"mae\",\"mse\"])\n",
        "all_results"
      ],
      "metadata": {
        "colab": {
          "base_uri": "https://localhost:8080/",
          "height": 143
        },
        "id": "8SZVrKo1RGds",
        "outputId": "a7df274d-8aa1-47ea-cf19-b1305c5fce67"
      },
      "execution_count": null,
      "outputs": [
        {
          "output_type": "execute_result",
          "data": {
            "text/plain": [
              "     model        mae         mse\n",
              "0  model_1  14.933337  223.845016\n",
              "1  model_2  10.919024  127.213966\n",
              "2  model_3   8.243634   68.040039"
            ],
            "text/html": [
              "\n",
              "  <div id=\"df-a5f8d142-3cf2-4404-97e2-c070fc4f23f7\">\n",
              "    <div class=\"colab-df-container\">\n",
              "      <div>\n",
              "<style scoped>\n",
              "    .dataframe tbody tr th:only-of-type {\n",
              "        vertical-align: middle;\n",
              "    }\n",
              "\n",
              "    .dataframe tbody tr th {\n",
              "        vertical-align: top;\n",
              "    }\n",
              "\n",
              "    .dataframe thead th {\n",
              "        text-align: right;\n",
              "    }\n",
              "</style>\n",
              "<table border=\"1\" class=\"dataframe\">\n",
              "  <thead>\n",
              "    <tr style=\"text-align: right;\">\n",
              "      <th></th>\n",
              "      <th>model</th>\n",
              "      <th>mae</th>\n",
              "      <th>mse</th>\n",
              "    </tr>\n",
              "  </thead>\n",
              "  <tbody>\n",
              "    <tr>\n",
              "      <th>0</th>\n",
              "      <td>model_1</td>\n",
              "      <td>14.933337</td>\n",
              "      <td>223.845016</td>\n",
              "    </tr>\n",
              "    <tr>\n",
              "      <th>1</th>\n",
              "      <td>model_2</td>\n",
              "      <td>10.919024</td>\n",
              "      <td>127.213966</td>\n",
              "    </tr>\n",
              "    <tr>\n",
              "      <th>2</th>\n",
              "      <td>model_3</td>\n",
              "      <td>8.243634</td>\n",
              "      <td>68.040039</td>\n",
              "    </tr>\n",
              "  </tbody>\n",
              "</table>\n",
              "</div>\n",
              "      <button class=\"colab-df-convert\" onclick=\"convertToInteractive('df-a5f8d142-3cf2-4404-97e2-c070fc4f23f7')\"\n",
              "              title=\"Convert this dataframe to an interactive table.\"\n",
              "              style=\"display:none;\">\n",
              "        \n",
              "  <svg xmlns=\"http://www.w3.org/2000/svg\" height=\"24px\"viewBox=\"0 0 24 24\"\n",
              "       width=\"24px\">\n",
              "    <path d=\"M0 0h24v24H0V0z\" fill=\"none\"/>\n",
              "    <path d=\"M18.56 5.44l.94 2.06.94-2.06 2.06-.94-2.06-.94-.94-2.06-.94 2.06-2.06.94zm-11 1L8.5 8.5l.94-2.06 2.06-.94-2.06-.94L8.5 2.5l-.94 2.06-2.06.94zm10 10l.94 2.06.94-2.06 2.06-.94-2.06-.94-.94-2.06-.94 2.06-2.06.94z\"/><path d=\"M17.41 7.96l-1.37-1.37c-.4-.4-.92-.59-1.43-.59-.52 0-1.04.2-1.43.59L10.3 9.45l-7.72 7.72c-.78.78-.78 2.05 0 2.83L4 21.41c.39.39.9.59 1.41.59.51 0 1.02-.2 1.41-.59l7.78-7.78 2.81-2.81c.8-.78.8-2.07 0-2.86zM5.41 20L4 18.59l7.72-7.72 1.47 1.35L5.41 20z\"/>\n",
              "  </svg>\n",
              "      </button>\n",
              "      \n",
              "  <style>\n",
              "    .colab-df-container {\n",
              "      display:flex;\n",
              "      flex-wrap:wrap;\n",
              "      gap: 12px;\n",
              "    }\n",
              "\n",
              "    .colab-df-convert {\n",
              "      background-color: #E8F0FE;\n",
              "      border: none;\n",
              "      border-radius: 50%;\n",
              "      cursor: pointer;\n",
              "      display: none;\n",
              "      fill: #1967D2;\n",
              "      height: 32px;\n",
              "      padding: 0 0 0 0;\n",
              "      width: 32px;\n",
              "    }\n",
              "\n",
              "    .colab-df-convert:hover {\n",
              "      background-color: #E2EBFA;\n",
              "      box-shadow: 0px 1px 2px rgba(60, 64, 67, 0.3), 0px 1px 3px 1px rgba(60, 64, 67, 0.15);\n",
              "      fill: #174EA6;\n",
              "    }\n",
              "\n",
              "    [theme=dark] .colab-df-convert {\n",
              "      background-color: #3B4455;\n",
              "      fill: #D2E3FC;\n",
              "    }\n",
              "\n",
              "    [theme=dark] .colab-df-convert:hover {\n",
              "      background-color: #434B5C;\n",
              "      box-shadow: 0px 1px 3px 1px rgba(0, 0, 0, 0.15);\n",
              "      filter: drop-shadow(0px 1px 2px rgba(0, 0, 0, 0.3));\n",
              "      fill: #FFFFFF;\n",
              "    }\n",
              "  </style>\n",
              "\n",
              "      <script>\n",
              "        const buttonEl =\n",
              "          document.querySelector('#df-a5f8d142-3cf2-4404-97e2-c070fc4f23f7 button.colab-df-convert');\n",
              "        buttonEl.style.display =\n",
              "          google.colab.kernel.accessAllowed ? 'block' : 'none';\n",
              "\n",
              "        async function convertToInteractive(key) {\n",
              "          const element = document.querySelector('#df-a5f8d142-3cf2-4404-97e2-c070fc4f23f7');\n",
              "          const dataTable =\n",
              "            await google.colab.kernel.invokeFunction('convertToInteractive',\n",
              "                                                     [key], {});\n",
              "          if (!dataTable) return;\n",
              "\n",
              "          const docLinkHtml = 'Like what you see? Visit the ' +\n",
              "            '<a target=\"_blank\" href=https://colab.research.google.com/notebooks/data_table.ipynb>data table notebook</a>'\n",
              "            + ' to learn more about interactive tables.';\n",
              "          element.innerHTML = '';\n",
              "          dataTable['output_type'] = 'display_data';\n",
              "          await google.colab.output.renderOutput(dataTable, element);\n",
              "          const docLink = document.createElement('div');\n",
              "          docLink.innerHTML = docLinkHtml;\n",
              "          element.appendChild(docLink);\n",
              "        }\n",
              "      </script>\n",
              "    </div>\n",
              "  </div>\n",
              "  "
            ]
          },
          "metadata": {},
          "execution_count": 46
        }
      ]
    },
    {
      "cell_type": "markdown",
      "source": [
        "One of our main goals should be to minimize the time between your experiments. the more experiments you do the more things youll figure out which dont work and in turn, get closer to figuring out what does work. remember the machine learning practictioners motto: experiment, experiment, experiment"
      ],
      "metadata": {
        "id": "PZkjy3IDTqn7"
      }
    },
    {
      "cell_type": "markdown",
      "source": [
        "Tracking your experiments\n",
        "\n",
        "\n",
        "One really good habit in machine learning modelling is to track the results of your experience\n",
        "\n",
        "And when doing so, it can be tedious if youre running lots of experiments\n",
        "\n"
      ],
      "metadata": {
        "id": "M1RvtcCNYnY6"
      }
    },
    {
      "cell_type": "markdown",
      "source": [
        "Resource: As you build more models, youll want to look into using:\n",
        "\n",
        "* tensorboard - a component of the tensorflow library to help track modelling experiments\n",
        "* Weights & Biases - a tool for tracking all kinds of machine learning experiments (plus straight into tensorboard)"
      ],
      "metadata": {
        "id": "rlzQVrmPaWCh"
      }
    },
    {
      "cell_type": "markdown",
      "source": [
        "Saving our models\n",
        "\n",
        "Saving them allows us to use them outside of google colab (or wherever they are trained) such as in a web application or mobile app\n",
        "\n",
        "there are 2 main formats we can save our models too:\n",
        "* the SavedModel format\n",
        "* the HDF5 format"
      ],
      "metadata": {
        "id": "KDIZzCgVb699"
      }
    },
    {
      "cell_type": "code",
      "source": [
        "model_3.save(\"best_model_SavedModel_format\")"
      ],
      "metadata": {
        "id": "0Cznr-qwT79s",
        "colab": {
          "base_uri": "https://localhost:8080/"
        },
        "outputId": "b55c38f8-0d43-404f-e03a-4e4c79a7a8e3"
      },
      "execution_count": null,
      "outputs": [
        {
          "output_type": "stream",
          "name": "stderr",
          "text": [
            "WARNING:absl:Found untraced functions such as _update_step_xla while saving (showing 1 of 1). These functions will not be directly callable after loading.\n"
          ]
        }
      ]
    },
    {
      "cell_type": "code",
      "source": [
        "#Save model using the hdf5 format\n",
        "model_3.save(\"best_model_HDF5_format.h5\")"
      ],
      "metadata": {
        "id": "liBT1ijCjcRC"
      },
      "execution_count": null,
      "outputs": []
    },
    {
      "cell_type": "markdown",
      "source": [
        "Loading in a saved model"
      ],
      "metadata": {
        "id": "7EWOSpdliSn-"
      }
    },
    {
      "cell_type": "code",
      "source": [
        "#Load in SavedModel format model\n",
        "loaded_SavedModel_format=tf.keras.models.load_model(\"/content/best_model_SavedModel_format\")\n",
        "loaded_SavedModel_format.summary()"
      ],
      "metadata": {
        "colab": {
          "base_uri": "https://localhost:8080/"
        },
        "id": "ikDzHoj8iR1_",
        "outputId": "5cd63203-509c-4adb-aa86-4060a25ca840"
      },
      "execution_count": null,
      "outputs": [
        {
          "output_type": "stream",
          "name": "stdout",
          "text": [
            "Model: \"sequential_6\"\n",
            "_________________________________________________________________\n",
            " Layer (type)                Output Shape              Param #   \n",
            "=================================================================\n",
            " dense_8 (Dense)             (None, 11)                22        \n",
            "                                                                 \n",
            " dense_9 (Dense)             (None, 1)                 12        \n",
            "                                                                 \n",
            "=================================================================\n",
            "Total params: 34\n",
            "Trainable params: 34\n",
            "Non-trainable params: 0\n",
            "_________________________________________________________________\n"
          ]
        }
      ]
    },
    {
      "cell_type": "code",
      "source": [
        "model_3.summary() #We can see the model and saved model loaded in is the same"
      ],
      "metadata": {
        "colab": {
          "base_uri": "https://localhost:8080/"
        },
        "id": "MNTfT2shjuqP",
        "outputId": "4edd277c-d468-456e-dbb8-146e5f9d9089"
      },
      "execution_count": null,
      "outputs": [
        {
          "output_type": "stream",
          "name": "stdout",
          "text": [
            "Model: \"sequential_6\"\n",
            "_________________________________________________________________\n",
            " Layer (type)                Output Shape              Param #   \n",
            "=================================================================\n",
            " dense_8 (Dense)             (None, 11)                22        \n",
            "                                                                 \n",
            " dense_9 (Dense)             (None, 1)                 12        \n",
            "                                                                 \n",
            "=================================================================\n",
            "Total params: 34\n",
            "Trainable params: 34\n",
            "Non-trainable params: 0\n",
            "_________________________________________________________________\n"
          ]
        }
      ]
    },
    {
      "cell_type": "code",
      "source": [
        "#Compare model 3 predictions and loaded model to see if\n",
        "model_3_preds=model_3.predict(X_test)\n",
        "loaded_SavedModel_format_preds=loaded_SavedModel_format.predict(X_test)\n",
        "model_3_preds==loaded_SavedModel_format_preds"
      ],
      "metadata": {
        "colab": {
          "base_uri": "https://localhost:8080/"
        },
        "id": "Li3Lf8Xjj_Tg",
        "outputId": "72a95b4b-f039-435a-d216-b0511495fdba"
      },
      "execution_count": null,
      "outputs": [
        {
          "output_type": "stream",
          "name": "stdout",
          "text": [
            "1/1 [==============================] - 0s 30ms/step\n",
            "1/1 [==============================] - 0s 60ms/step\n"
          ]
        },
        {
          "output_type": "execute_result",
          "data": {
            "text/plain": [
              "array([[ True],\n",
              "       [ True],\n",
              "       [ True],\n",
              "       [ True],\n",
              "       [ True],\n",
              "       [ True],\n",
              "       [ True],\n",
              "       [ True],\n",
              "       [ True],\n",
              "       [ True]])"
            ]
          },
          "metadata": {},
          "execution_count": 51
        }
      ]
    },
    {
      "cell_type": "code",
      "source": [
        "#Load in .h5 format\n",
        "loaded_h5_model=tf.keras.models.load_model(\"/content/best_model_HDF5_format.h5\")\n",
        "loaded_h5_model.summary()"
      ],
      "metadata": {
        "colab": {
          "base_uri": "https://localhost:8080/"
        },
        "id": "RpcCXgeXmZtt",
        "outputId": "16663f69-27cd-4956-a19b-a2ab2bef04a7"
      },
      "execution_count": null,
      "outputs": [
        {
          "output_type": "stream",
          "name": "stdout",
          "text": [
            "Model: \"sequential_6\"\n",
            "_________________________________________________________________\n",
            " Layer (type)                Output Shape              Param #   \n",
            "=================================================================\n",
            " dense_8 (Dense)             (None, 11)                22        \n",
            "                                                                 \n",
            " dense_9 (Dense)             (None, 1)                 12        \n",
            "                                                                 \n",
            "=================================================================\n",
            "Total params: 34\n",
            "Trainable params: 34\n",
            "Non-trainable params: 0\n",
            "_________________________________________________________________\n"
          ]
        }
      ]
    },
    {
      "cell_type": "code",
      "source": [
        "model_3.summary()"
      ],
      "metadata": {
        "colab": {
          "base_uri": "https://localhost:8080/"
        },
        "id": "lM4_4hjNnJDt",
        "outputId": "eaf3cf58-4b25-44f1-bbc4-7d5385597b4d"
      },
      "execution_count": null,
      "outputs": [
        {
          "output_type": "stream",
          "name": "stdout",
          "text": [
            "Model: \"sequential_6\"\n",
            "_________________________________________________________________\n",
            " Layer (type)                Output Shape              Param #   \n",
            "=================================================================\n",
            " dense_8 (Dense)             (None, 11)                22        \n",
            "                                                                 \n",
            " dense_9 (Dense)             (None, 1)                 12        \n",
            "                                                                 \n",
            "=================================================================\n",
            "Total params: 34\n",
            "Trainable params: 34\n",
            "Non-trainable params: 0\n",
            "_________________________________________________________________\n"
          ]
        }
      ]
    },
    {
      "cell_type": "code",
      "source": [
        "#Compare .h5 format predictions to model 3 predictions\n",
        "model_3_preds=model_3.predict(X_test)\n",
        "loaded_h5_model_preds=loaded_h5_model.predict(X_test)\n",
        "model_3_preds==loaded_h5_model_preds"
      ],
      "metadata": {
        "colab": {
          "base_uri": "https://localhost:8080/"
        },
        "id": "kF1cigj5nYUF",
        "outputId": "ec0340b3-d982-4b8c-e1ea-48b7ef7fcfc4"
      },
      "execution_count": null,
      "outputs": [
        {
          "output_type": "stream",
          "name": "stdout",
          "text": [
            "1/1 [==============================] - 0s 27ms/step\n",
            "1/1 [==============================] - 0s 67ms/step\n"
          ]
        },
        {
          "output_type": "execute_result",
          "data": {
            "text/plain": [
              "array([[ True],\n",
              "       [ True],\n",
              "       [ True],\n",
              "       [ True],\n",
              "       [ True],\n",
              "       [ True],\n",
              "       [ True],\n",
              "       [ True],\n",
              "       [ True],\n",
              "       [ True]])"
            ]
          },
          "metadata": {},
          "execution_count": 54
        }
      ]
    },
    {
      "cell_type": "markdown",
      "source": [
        "How to downlaod a model (or any other file) from google colab\n",
        "\n",
        "If you want to download your files from google colab:\n",
        "* you can go to the files tab and right click on the file youre after and click download\n",
        "* use code (see the cell below)\n",
        "* save it to google drive by connecting google drive and copying it there (see 2nd cell below)\n"
      ],
      "metadata": {
        "id": "cIxjqyNppEao"
      }
    },
    {
      "cell_type": "code",
      "source": [
        "#download a file from google colab\n",
        "from google.colab import files\n",
        "files.download(\"/content/best_model_HDF5_format.h5\")"
      ],
      "metadata": {
        "colab": {
          "base_uri": "https://localhost:8080/",
          "height": 17
        },
        "id": "OZqvPv-Pp3MG",
        "outputId": "98c0868a-74bd-46a5-972e-4722b7e4139b"
      },
      "execution_count": null,
      "outputs": [
        {
          "output_type": "display_data",
          "data": {
            "text/plain": [
              "<IPython.core.display.Javascript object>"
            ],
            "application/javascript": [
              "\n",
              "    async function download(id, filename, size) {\n",
              "      if (!google.colab.kernel.accessAllowed) {\n",
              "        return;\n",
              "      }\n",
              "      const div = document.createElement('div');\n",
              "      const label = document.createElement('label');\n",
              "      label.textContent = `Downloading \"${filename}\": `;\n",
              "      div.appendChild(label);\n",
              "      const progress = document.createElement('progress');\n",
              "      progress.max = size;\n",
              "      div.appendChild(progress);\n",
              "      document.body.appendChild(div);\n",
              "\n",
              "      const buffers = [];\n",
              "      let downloaded = 0;\n",
              "\n",
              "      const channel = await google.colab.kernel.comms.open(id);\n",
              "      // Send a message to notify the kernel that we're ready.\n",
              "      channel.send({})\n",
              "\n",
              "      for await (const message of channel.messages) {\n",
              "        // Send a message to notify the kernel that we're ready.\n",
              "        channel.send({})\n",
              "        if (message.buffers) {\n",
              "          for (const buffer of message.buffers) {\n",
              "            buffers.push(buffer);\n",
              "            downloaded += buffer.byteLength;\n",
              "            progress.value = downloaded;\n",
              "          }\n",
              "        }\n",
              "      }\n",
              "      const blob = new Blob(buffers, {type: 'application/binary'});\n",
              "      const a = document.createElement('a');\n",
              "      a.href = window.URL.createObjectURL(blob);\n",
              "      a.download = filename;\n",
              "      div.appendChild(a);\n",
              "      a.click();\n",
              "      div.remove();\n",
              "    }\n",
              "  "
            ]
          },
          "metadata": {}
        },
        {
          "output_type": "display_data",
          "data": {
            "text/plain": [
              "<IPython.core.display.Javascript object>"
            ],
            "application/javascript": [
              "download(\"download_f26c65d8-fde6-4af1-b75c-9014e5fdd39b\", \"best_model_HDF5_format.h5\", 21952)"
            ]
          },
          "metadata": {}
        }
      ]
    },
    {
      "cell_type": "code",
      "source": [
        "#save a file from google colab to google drive. this requires mounting google drive\n",
        "!cp /content/best_model_HDF5_format.h5 /content/drive/MyDrive/Tensorflow_Course"
      ],
      "metadata": {
        "id": "1fOwunwEpBmR"
      },
      "execution_count": null,
      "outputs": []
    },
    {
      "cell_type": "code",
      "source": [
        "!ls /content/drive/MyDrive/Tensorflow_Course"
      ],
      "metadata": {
        "colab": {
          "base_uri": "https://localhost:8080/"
        },
        "id": "hIv-sKyZrhYO",
        "outputId": "34f47a4b-e000-4fd6-9e58-a2ea0a69a755"
      },
      "execution_count": null,
      "outputs": [
        {
          "output_type": "stream",
          "name": "stdout",
          "text": [
            "best_model_HDF5_format.h5\n"
          ]
        }
      ]
    },
    {
      "cell_type": "markdown",
      "source": [
        "---------------------------------------------------------------\n",
        "\n",
        "Taking a look at a larger example"
      ],
      "metadata": {
        "id": "cu0WUGStsEqc"
      }
    },
    {
      "cell_type": "code",
      "source": [
        "#import required libraries\n",
        "import pandas as pd\n",
        "import tensorflow as tf\n",
        "import matplotlib.pyplot as plt\n"
      ],
      "metadata": {
        "id": "YnUEAsLYsEKE"
      },
      "execution_count": null,
      "outputs": []
    },
    {
      "cell_type": "code",
      "source": [
        "#Read in insurance data\n",
        "insurance=pd.read_csv(\"https://raw.githubusercontent.com/stedy/Machine-Learning-with-R-datasets/master/insurance.csv\")\n",
        "insurance"
      ],
      "metadata": {
        "colab": {
          "base_uri": "https://localhost:8080/",
          "height": 424
        },
        "id": "heTS-XCFtd6O",
        "outputId": "b6ef2fd0-4686-4db5-c5f2-07a721f7e547"
      },
      "execution_count": null,
      "outputs": [
        {
          "output_type": "execute_result",
          "data": {
            "text/plain": [
              "      age     sex     bmi  children smoker     region      charges\n",
              "0      19  female  27.900         0    yes  southwest  16884.92400\n",
              "1      18    male  33.770         1     no  southeast   1725.55230\n",
              "2      28    male  33.000         3     no  southeast   4449.46200\n",
              "3      33    male  22.705         0     no  northwest  21984.47061\n",
              "4      32    male  28.880         0     no  northwest   3866.85520\n",
              "...   ...     ...     ...       ...    ...        ...          ...\n",
              "1333   50    male  30.970         3     no  northwest  10600.54830\n",
              "1334   18  female  31.920         0     no  northeast   2205.98080\n",
              "1335   18  female  36.850         0     no  southeast   1629.83350\n",
              "1336   21  female  25.800         0     no  southwest   2007.94500\n",
              "1337   61  female  29.070         0    yes  northwest  29141.36030\n",
              "\n",
              "[1338 rows x 7 columns]"
            ],
            "text/html": [
              "\n",
              "  <div id=\"df-d1d0dd35-14f3-4f42-87e3-a8a71e2ad91d\">\n",
              "    <div class=\"colab-df-container\">\n",
              "      <div>\n",
              "<style scoped>\n",
              "    .dataframe tbody tr th:only-of-type {\n",
              "        vertical-align: middle;\n",
              "    }\n",
              "\n",
              "    .dataframe tbody tr th {\n",
              "        vertical-align: top;\n",
              "    }\n",
              "\n",
              "    .dataframe thead th {\n",
              "        text-align: right;\n",
              "    }\n",
              "</style>\n",
              "<table border=\"1\" class=\"dataframe\">\n",
              "  <thead>\n",
              "    <tr style=\"text-align: right;\">\n",
              "      <th></th>\n",
              "      <th>age</th>\n",
              "      <th>sex</th>\n",
              "      <th>bmi</th>\n",
              "      <th>children</th>\n",
              "      <th>smoker</th>\n",
              "      <th>region</th>\n",
              "      <th>charges</th>\n",
              "    </tr>\n",
              "  </thead>\n",
              "  <tbody>\n",
              "    <tr>\n",
              "      <th>0</th>\n",
              "      <td>19</td>\n",
              "      <td>female</td>\n",
              "      <td>27.900</td>\n",
              "      <td>0</td>\n",
              "      <td>yes</td>\n",
              "      <td>southwest</td>\n",
              "      <td>16884.92400</td>\n",
              "    </tr>\n",
              "    <tr>\n",
              "      <th>1</th>\n",
              "      <td>18</td>\n",
              "      <td>male</td>\n",
              "      <td>33.770</td>\n",
              "      <td>1</td>\n",
              "      <td>no</td>\n",
              "      <td>southeast</td>\n",
              "      <td>1725.55230</td>\n",
              "    </tr>\n",
              "    <tr>\n",
              "      <th>2</th>\n",
              "      <td>28</td>\n",
              "      <td>male</td>\n",
              "      <td>33.000</td>\n",
              "      <td>3</td>\n",
              "      <td>no</td>\n",
              "      <td>southeast</td>\n",
              "      <td>4449.46200</td>\n",
              "    </tr>\n",
              "    <tr>\n",
              "      <th>3</th>\n",
              "      <td>33</td>\n",
              "      <td>male</td>\n",
              "      <td>22.705</td>\n",
              "      <td>0</td>\n",
              "      <td>no</td>\n",
              "      <td>northwest</td>\n",
              "      <td>21984.47061</td>\n",
              "    </tr>\n",
              "    <tr>\n",
              "      <th>4</th>\n",
              "      <td>32</td>\n",
              "      <td>male</td>\n",
              "      <td>28.880</td>\n",
              "      <td>0</td>\n",
              "      <td>no</td>\n",
              "      <td>northwest</td>\n",
              "      <td>3866.85520</td>\n",
              "    </tr>\n",
              "    <tr>\n",
              "      <th>...</th>\n",
              "      <td>...</td>\n",
              "      <td>...</td>\n",
              "      <td>...</td>\n",
              "      <td>...</td>\n",
              "      <td>...</td>\n",
              "      <td>...</td>\n",
              "      <td>...</td>\n",
              "    </tr>\n",
              "    <tr>\n",
              "      <th>1333</th>\n",
              "      <td>50</td>\n",
              "      <td>male</td>\n",
              "      <td>30.970</td>\n",
              "      <td>3</td>\n",
              "      <td>no</td>\n",
              "      <td>northwest</td>\n",
              "      <td>10600.54830</td>\n",
              "    </tr>\n",
              "    <tr>\n",
              "      <th>1334</th>\n",
              "      <td>18</td>\n",
              "      <td>female</td>\n",
              "      <td>31.920</td>\n",
              "      <td>0</td>\n",
              "      <td>no</td>\n",
              "      <td>northeast</td>\n",
              "      <td>2205.98080</td>\n",
              "    </tr>\n",
              "    <tr>\n",
              "      <th>1335</th>\n",
              "      <td>18</td>\n",
              "      <td>female</td>\n",
              "      <td>36.850</td>\n",
              "      <td>0</td>\n",
              "      <td>no</td>\n",
              "      <td>southeast</td>\n",
              "      <td>1629.83350</td>\n",
              "    </tr>\n",
              "    <tr>\n",
              "      <th>1336</th>\n",
              "      <td>21</td>\n",
              "      <td>female</td>\n",
              "      <td>25.800</td>\n",
              "      <td>0</td>\n",
              "      <td>no</td>\n",
              "      <td>southwest</td>\n",
              "      <td>2007.94500</td>\n",
              "    </tr>\n",
              "    <tr>\n",
              "      <th>1337</th>\n",
              "      <td>61</td>\n",
              "      <td>female</td>\n",
              "      <td>29.070</td>\n",
              "      <td>0</td>\n",
              "      <td>yes</td>\n",
              "      <td>northwest</td>\n",
              "      <td>29141.36030</td>\n",
              "    </tr>\n",
              "  </tbody>\n",
              "</table>\n",
              "<p>1338 rows × 7 columns</p>\n",
              "</div>\n",
              "      <button class=\"colab-df-convert\" onclick=\"convertToInteractive('df-d1d0dd35-14f3-4f42-87e3-a8a71e2ad91d')\"\n",
              "              title=\"Convert this dataframe to an interactive table.\"\n",
              "              style=\"display:none;\">\n",
              "        \n",
              "  <svg xmlns=\"http://www.w3.org/2000/svg\" height=\"24px\"viewBox=\"0 0 24 24\"\n",
              "       width=\"24px\">\n",
              "    <path d=\"M0 0h24v24H0V0z\" fill=\"none\"/>\n",
              "    <path d=\"M18.56 5.44l.94 2.06.94-2.06 2.06-.94-2.06-.94-.94-2.06-.94 2.06-2.06.94zm-11 1L8.5 8.5l.94-2.06 2.06-.94-2.06-.94L8.5 2.5l-.94 2.06-2.06.94zm10 10l.94 2.06.94-2.06 2.06-.94-2.06-.94-.94-2.06-.94 2.06-2.06.94z\"/><path d=\"M17.41 7.96l-1.37-1.37c-.4-.4-.92-.59-1.43-.59-.52 0-1.04.2-1.43.59L10.3 9.45l-7.72 7.72c-.78.78-.78 2.05 0 2.83L4 21.41c.39.39.9.59 1.41.59.51 0 1.02-.2 1.41-.59l7.78-7.78 2.81-2.81c.8-.78.8-2.07 0-2.86zM5.41 20L4 18.59l7.72-7.72 1.47 1.35L5.41 20z\"/>\n",
              "  </svg>\n",
              "      </button>\n",
              "      \n",
              "  <style>\n",
              "    .colab-df-container {\n",
              "      display:flex;\n",
              "      flex-wrap:wrap;\n",
              "      gap: 12px;\n",
              "    }\n",
              "\n",
              "    .colab-df-convert {\n",
              "      background-color: #E8F0FE;\n",
              "      border: none;\n",
              "      border-radius: 50%;\n",
              "      cursor: pointer;\n",
              "      display: none;\n",
              "      fill: #1967D2;\n",
              "      height: 32px;\n",
              "      padding: 0 0 0 0;\n",
              "      width: 32px;\n",
              "    }\n",
              "\n",
              "    .colab-df-convert:hover {\n",
              "      background-color: #E2EBFA;\n",
              "      box-shadow: 0px 1px 2px rgba(60, 64, 67, 0.3), 0px 1px 3px 1px rgba(60, 64, 67, 0.15);\n",
              "      fill: #174EA6;\n",
              "    }\n",
              "\n",
              "    [theme=dark] .colab-df-convert {\n",
              "      background-color: #3B4455;\n",
              "      fill: #D2E3FC;\n",
              "    }\n",
              "\n",
              "    [theme=dark] .colab-df-convert:hover {\n",
              "      background-color: #434B5C;\n",
              "      box-shadow: 0px 1px 3px 1px rgba(0, 0, 0, 0.15);\n",
              "      filter: drop-shadow(0px 1px 2px rgba(0, 0, 0, 0.3));\n",
              "      fill: #FFFFFF;\n",
              "    }\n",
              "  </style>\n",
              "\n",
              "      <script>\n",
              "        const buttonEl =\n",
              "          document.querySelector('#df-d1d0dd35-14f3-4f42-87e3-a8a71e2ad91d button.colab-df-convert');\n",
              "        buttonEl.style.display =\n",
              "          google.colab.kernel.accessAllowed ? 'block' : 'none';\n",
              "\n",
              "        async function convertToInteractive(key) {\n",
              "          const element = document.querySelector('#df-d1d0dd35-14f3-4f42-87e3-a8a71e2ad91d');\n",
              "          const dataTable =\n",
              "            await google.colab.kernel.invokeFunction('convertToInteractive',\n",
              "                                                     [key], {});\n",
              "          if (!dataTable) return;\n",
              "\n",
              "          const docLinkHtml = 'Like what you see? Visit the ' +\n",
              "            '<a target=\"_blank\" href=https://colab.research.google.com/notebooks/data_table.ipynb>data table notebook</a>'\n",
              "            + ' to learn more about interactive tables.';\n",
              "          element.innerHTML = '';\n",
              "          dataTable['output_type'] = 'display_data';\n",
              "          await google.colab.output.renderOutput(dataTable, element);\n",
              "          const docLink = document.createElement('div');\n",
              "          docLink.innerHTML = docLinkHtml;\n",
              "          element.appendChild(docLink);\n",
              "        }\n",
              "      </script>\n",
              "    </div>\n",
              "  </div>\n",
              "  "
            ]
          },
          "metadata": {},
          "execution_count": 3
        }
      ]
    },
    {
      "cell_type": "markdown",
      "source": [
        "In table above we have numerical and non numerical data.\n",
        "\n",
        "we have to create a numerical encoding -> one hot encoding"
      ],
      "metadata": {
        "id": "AESmkiOovRyJ"
      }
    },
    {
      "cell_type": "code",
      "source": [
        "#lets try to one hot encode our data frame so that it is all numbers\n",
        "insurance_one_hot=pd.get_dummies(insurance)\n",
        "insurance_one_hot.head()"
      ],
      "metadata": {
        "colab": {
          "base_uri": "https://localhost:8080/",
          "height": 206
        },
        "id": "PXhA6TThuAwt",
        "outputId": "3fd56bca-1e5b-488a-fbb6-13311147305e"
      },
      "execution_count": null,
      "outputs": [
        {
          "output_type": "execute_result",
          "data": {
            "text/plain": [
              "   age     bmi  children      charges  sex_female  sex_male  smoker_no  \\\n",
              "0   19  27.900         0  16884.92400           1         0          0   \n",
              "1   18  33.770         1   1725.55230           0         1          1   \n",
              "2   28  33.000         3   4449.46200           0         1          1   \n",
              "3   33  22.705         0  21984.47061           0         1          1   \n",
              "4   32  28.880         0   3866.85520           0         1          1   \n",
              "\n",
              "   smoker_yes  region_northeast  region_northwest  region_southeast  \\\n",
              "0           1                 0                 0                 0   \n",
              "1           0                 0                 0                 1   \n",
              "2           0                 0                 0                 1   \n",
              "3           0                 0                 1                 0   \n",
              "4           0                 0                 1                 0   \n",
              "\n",
              "   region_southwest  \n",
              "0                 1  \n",
              "1                 0  \n",
              "2                 0  \n",
              "3                 0  \n",
              "4                 0  "
            ],
            "text/html": [
              "\n",
              "  <div id=\"df-4c64a1e9-8b34-4647-81cb-ad4efe9e9cdf\">\n",
              "    <div class=\"colab-df-container\">\n",
              "      <div>\n",
              "<style scoped>\n",
              "    .dataframe tbody tr th:only-of-type {\n",
              "        vertical-align: middle;\n",
              "    }\n",
              "\n",
              "    .dataframe tbody tr th {\n",
              "        vertical-align: top;\n",
              "    }\n",
              "\n",
              "    .dataframe thead th {\n",
              "        text-align: right;\n",
              "    }\n",
              "</style>\n",
              "<table border=\"1\" class=\"dataframe\">\n",
              "  <thead>\n",
              "    <tr style=\"text-align: right;\">\n",
              "      <th></th>\n",
              "      <th>age</th>\n",
              "      <th>bmi</th>\n",
              "      <th>children</th>\n",
              "      <th>charges</th>\n",
              "      <th>sex_female</th>\n",
              "      <th>sex_male</th>\n",
              "      <th>smoker_no</th>\n",
              "      <th>smoker_yes</th>\n",
              "      <th>region_northeast</th>\n",
              "      <th>region_northwest</th>\n",
              "      <th>region_southeast</th>\n",
              "      <th>region_southwest</th>\n",
              "    </tr>\n",
              "  </thead>\n",
              "  <tbody>\n",
              "    <tr>\n",
              "      <th>0</th>\n",
              "      <td>19</td>\n",
              "      <td>27.900</td>\n",
              "      <td>0</td>\n",
              "      <td>16884.92400</td>\n",
              "      <td>1</td>\n",
              "      <td>0</td>\n",
              "      <td>0</td>\n",
              "      <td>1</td>\n",
              "      <td>0</td>\n",
              "      <td>0</td>\n",
              "      <td>0</td>\n",
              "      <td>1</td>\n",
              "    </tr>\n",
              "    <tr>\n",
              "      <th>1</th>\n",
              "      <td>18</td>\n",
              "      <td>33.770</td>\n",
              "      <td>1</td>\n",
              "      <td>1725.55230</td>\n",
              "      <td>0</td>\n",
              "      <td>1</td>\n",
              "      <td>1</td>\n",
              "      <td>0</td>\n",
              "      <td>0</td>\n",
              "      <td>0</td>\n",
              "      <td>1</td>\n",
              "      <td>0</td>\n",
              "    </tr>\n",
              "    <tr>\n",
              "      <th>2</th>\n",
              "      <td>28</td>\n",
              "      <td>33.000</td>\n",
              "      <td>3</td>\n",
              "      <td>4449.46200</td>\n",
              "      <td>0</td>\n",
              "      <td>1</td>\n",
              "      <td>1</td>\n",
              "      <td>0</td>\n",
              "      <td>0</td>\n",
              "      <td>0</td>\n",
              "      <td>1</td>\n",
              "      <td>0</td>\n",
              "    </tr>\n",
              "    <tr>\n",
              "      <th>3</th>\n",
              "      <td>33</td>\n",
              "      <td>22.705</td>\n",
              "      <td>0</td>\n",
              "      <td>21984.47061</td>\n",
              "      <td>0</td>\n",
              "      <td>1</td>\n",
              "      <td>1</td>\n",
              "      <td>0</td>\n",
              "      <td>0</td>\n",
              "      <td>1</td>\n",
              "      <td>0</td>\n",
              "      <td>0</td>\n",
              "    </tr>\n",
              "    <tr>\n",
              "      <th>4</th>\n",
              "      <td>32</td>\n",
              "      <td>28.880</td>\n",
              "      <td>0</td>\n",
              "      <td>3866.85520</td>\n",
              "      <td>0</td>\n",
              "      <td>1</td>\n",
              "      <td>1</td>\n",
              "      <td>0</td>\n",
              "      <td>0</td>\n",
              "      <td>1</td>\n",
              "      <td>0</td>\n",
              "      <td>0</td>\n",
              "    </tr>\n",
              "  </tbody>\n",
              "</table>\n",
              "</div>\n",
              "      <button class=\"colab-df-convert\" onclick=\"convertToInteractive('df-4c64a1e9-8b34-4647-81cb-ad4efe9e9cdf')\"\n",
              "              title=\"Convert this dataframe to an interactive table.\"\n",
              "              style=\"display:none;\">\n",
              "        \n",
              "  <svg xmlns=\"http://www.w3.org/2000/svg\" height=\"24px\"viewBox=\"0 0 24 24\"\n",
              "       width=\"24px\">\n",
              "    <path d=\"M0 0h24v24H0V0z\" fill=\"none\"/>\n",
              "    <path d=\"M18.56 5.44l.94 2.06.94-2.06 2.06-.94-2.06-.94-.94-2.06-.94 2.06-2.06.94zm-11 1L8.5 8.5l.94-2.06 2.06-.94-2.06-.94L8.5 2.5l-.94 2.06-2.06.94zm10 10l.94 2.06.94-2.06 2.06-.94-2.06-.94-.94-2.06-.94 2.06-2.06.94z\"/><path d=\"M17.41 7.96l-1.37-1.37c-.4-.4-.92-.59-1.43-.59-.52 0-1.04.2-1.43.59L10.3 9.45l-7.72 7.72c-.78.78-.78 2.05 0 2.83L4 21.41c.39.39.9.59 1.41.59.51 0 1.02-.2 1.41-.59l7.78-7.78 2.81-2.81c.8-.78.8-2.07 0-2.86zM5.41 20L4 18.59l7.72-7.72 1.47 1.35L5.41 20z\"/>\n",
              "  </svg>\n",
              "      </button>\n",
              "      \n",
              "  <style>\n",
              "    .colab-df-container {\n",
              "      display:flex;\n",
              "      flex-wrap:wrap;\n",
              "      gap: 12px;\n",
              "    }\n",
              "\n",
              "    .colab-df-convert {\n",
              "      background-color: #E8F0FE;\n",
              "      border: none;\n",
              "      border-radius: 50%;\n",
              "      cursor: pointer;\n",
              "      display: none;\n",
              "      fill: #1967D2;\n",
              "      height: 32px;\n",
              "      padding: 0 0 0 0;\n",
              "      width: 32px;\n",
              "    }\n",
              "\n",
              "    .colab-df-convert:hover {\n",
              "      background-color: #E2EBFA;\n",
              "      box-shadow: 0px 1px 2px rgba(60, 64, 67, 0.3), 0px 1px 3px 1px rgba(60, 64, 67, 0.15);\n",
              "      fill: #174EA6;\n",
              "    }\n",
              "\n",
              "    [theme=dark] .colab-df-convert {\n",
              "      background-color: #3B4455;\n",
              "      fill: #D2E3FC;\n",
              "    }\n",
              "\n",
              "    [theme=dark] .colab-df-convert:hover {\n",
              "      background-color: #434B5C;\n",
              "      box-shadow: 0px 1px 3px 1px rgba(0, 0, 0, 0.15);\n",
              "      filter: drop-shadow(0px 1px 2px rgba(0, 0, 0, 0.3));\n",
              "      fill: #FFFFFF;\n",
              "    }\n",
              "  </style>\n",
              "\n",
              "      <script>\n",
              "        const buttonEl =\n",
              "          document.querySelector('#df-4c64a1e9-8b34-4647-81cb-ad4efe9e9cdf button.colab-df-convert');\n",
              "        buttonEl.style.display =\n",
              "          google.colab.kernel.accessAllowed ? 'block' : 'none';\n",
              "\n",
              "        async function convertToInteractive(key) {\n",
              "          const element = document.querySelector('#df-4c64a1e9-8b34-4647-81cb-ad4efe9e9cdf');\n",
              "          const dataTable =\n",
              "            await google.colab.kernel.invokeFunction('convertToInteractive',\n",
              "                                                     [key], {});\n",
              "          if (!dataTable) return;\n",
              "\n",
              "          const docLinkHtml = 'Like what you see? Visit the ' +\n",
              "            '<a target=\"_blank\" href=https://colab.research.google.com/notebooks/data_table.ipynb>data table notebook</a>'\n",
              "            + ' to learn more about interactive tables.';\n",
              "          element.innerHTML = '';\n",
              "          dataTable['output_type'] = 'display_data';\n",
              "          await google.colab.output.renderOutput(dataTable, element);\n",
              "          const docLink = document.createElement('div');\n",
              "          docLink.innerHTML = docLinkHtml;\n",
              "          element.appendChild(docLink);\n",
              "        }\n",
              "      </script>\n",
              "    </div>\n",
              "  </div>\n",
              "  "
            ]
          },
          "metadata": {},
          "execution_count": 4
        }
      ]
    },
    {
      "cell_type": "code",
      "source": [
        "#create X and y values (features and labels) method 1:\n",
        "X=insurance_one_hot[['age','bmi','children','sex_female','sex_male','smoker_no','smoker_yes','region_northeast','region_northwest','region_southeast','region_southwest']]\n",
        "y=insurance_one_hot[['charges']]\n"
      ],
      "metadata": {
        "id": "BT5wLS_cw48U"
      },
      "execution_count": null,
      "outputs": []
    },
    {
      "cell_type": "code",
      "source": [
        "#import the function to randombly split the dataset into training and test sets\n",
        "from sklearn.model_selection import train_test_split\n",
        "\n",
        "X_train,X_test,y_train,y_test=train_test_split(X,y,\n",
        "                                               test_size=0.2,\n",
        "                                               random_state=22)"
      ],
      "metadata": {
        "id": "lwqga6mk3g5y"
      },
      "execution_count": null,
      "outputs": []
    },
    {
      "cell_type": "markdown",
      "source": [
        "----------------------"
      ],
      "metadata": {
        "id": "BdcxRe2K4x6l"
      }
    },
    {
      "cell_type": "code",
      "source": [
        "#create X and y values (features and labels) method 2:\n",
        "X=insurance_one_hot.drop(\"charges\",axis=1)\n",
        "y=insurance_one_hot[\"charges\"]"
      ],
      "metadata": {
        "id": "2Do1Zw1l2ytS"
      },
      "execution_count": null,
      "outputs": []
    },
    {
      "cell_type": "code",
      "source": [
        "#view X\n",
        "X.head()"
      ],
      "metadata": {
        "colab": {
          "base_uri": "https://localhost:8080/",
          "height": 206
        },
        "id": "Ri-bb4nr3Fz7",
        "outputId": "8959dae5-05d1-4e8e-8a2a-d0c13701129a"
      },
      "execution_count": null,
      "outputs": [
        {
          "output_type": "execute_result",
          "data": {
            "text/plain": [
              "   age     bmi  children  sex_female  sex_male  smoker_no  smoker_yes  \\\n",
              "0   19  27.900         0           1         0          0           1   \n",
              "1   18  33.770         1           0         1          1           0   \n",
              "2   28  33.000         3           0         1          1           0   \n",
              "3   33  22.705         0           0         1          1           0   \n",
              "4   32  28.880         0           0         1          1           0   \n",
              "\n",
              "   region_northeast  region_northwest  region_southeast  region_southwest  \n",
              "0                 0                 0                 0                 1  \n",
              "1                 0                 0                 1                 0  \n",
              "2                 0                 0                 1                 0  \n",
              "3                 0                 1                 0                 0  \n",
              "4                 0                 1                 0                 0  "
            ],
            "text/html": [
              "\n",
              "  <div id=\"df-783e01fc-7a1c-49bc-af2a-515c7c124e46\">\n",
              "    <div class=\"colab-df-container\">\n",
              "      <div>\n",
              "<style scoped>\n",
              "    .dataframe tbody tr th:only-of-type {\n",
              "        vertical-align: middle;\n",
              "    }\n",
              "\n",
              "    .dataframe tbody tr th {\n",
              "        vertical-align: top;\n",
              "    }\n",
              "\n",
              "    .dataframe thead th {\n",
              "        text-align: right;\n",
              "    }\n",
              "</style>\n",
              "<table border=\"1\" class=\"dataframe\">\n",
              "  <thead>\n",
              "    <tr style=\"text-align: right;\">\n",
              "      <th></th>\n",
              "      <th>age</th>\n",
              "      <th>bmi</th>\n",
              "      <th>children</th>\n",
              "      <th>sex_female</th>\n",
              "      <th>sex_male</th>\n",
              "      <th>smoker_no</th>\n",
              "      <th>smoker_yes</th>\n",
              "      <th>region_northeast</th>\n",
              "      <th>region_northwest</th>\n",
              "      <th>region_southeast</th>\n",
              "      <th>region_southwest</th>\n",
              "    </tr>\n",
              "  </thead>\n",
              "  <tbody>\n",
              "    <tr>\n",
              "      <th>0</th>\n",
              "      <td>19</td>\n",
              "      <td>27.900</td>\n",
              "      <td>0</td>\n",
              "      <td>1</td>\n",
              "      <td>0</td>\n",
              "      <td>0</td>\n",
              "      <td>1</td>\n",
              "      <td>0</td>\n",
              "      <td>0</td>\n",
              "      <td>0</td>\n",
              "      <td>1</td>\n",
              "    </tr>\n",
              "    <tr>\n",
              "      <th>1</th>\n",
              "      <td>18</td>\n",
              "      <td>33.770</td>\n",
              "      <td>1</td>\n",
              "      <td>0</td>\n",
              "      <td>1</td>\n",
              "      <td>1</td>\n",
              "      <td>0</td>\n",
              "      <td>0</td>\n",
              "      <td>0</td>\n",
              "      <td>1</td>\n",
              "      <td>0</td>\n",
              "    </tr>\n",
              "    <tr>\n",
              "      <th>2</th>\n",
              "      <td>28</td>\n",
              "      <td>33.000</td>\n",
              "      <td>3</td>\n",
              "      <td>0</td>\n",
              "      <td>1</td>\n",
              "      <td>1</td>\n",
              "      <td>0</td>\n",
              "      <td>0</td>\n",
              "      <td>0</td>\n",
              "      <td>1</td>\n",
              "      <td>0</td>\n",
              "    </tr>\n",
              "    <tr>\n",
              "      <th>3</th>\n",
              "      <td>33</td>\n",
              "      <td>22.705</td>\n",
              "      <td>0</td>\n",
              "      <td>0</td>\n",
              "      <td>1</td>\n",
              "      <td>1</td>\n",
              "      <td>0</td>\n",
              "      <td>0</td>\n",
              "      <td>1</td>\n",
              "      <td>0</td>\n",
              "      <td>0</td>\n",
              "    </tr>\n",
              "    <tr>\n",
              "      <th>4</th>\n",
              "      <td>32</td>\n",
              "      <td>28.880</td>\n",
              "      <td>0</td>\n",
              "      <td>0</td>\n",
              "      <td>1</td>\n",
              "      <td>1</td>\n",
              "      <td>0</td>\n",
              "      <td>0</td>\n",
              "      <td>1</td>\n",
              "      <td>0</td>\n",
              "      <td>0</td>\n",
              "    </tr>\n",
              "  </tbody>\n",
              "</table>\n",
              "</div>\n",
              "      <button class=\"colab-df-convert\" onclick=\"convertToInteractive('df-783e01fc-7a1c-49bc-af2a-515c7c124e46')\"\n",
              "              title=\"Convert this dataframe to an interactive table.\"\n",
              "              style=\"display:none;\">\n",
              "        \n",
              "  <svg xmlns=\"http://www.w3.org/2000/svg\" height=\"24px\"viewBox=\"0 0 24 24\"\n",
              "       width=\"24px\">\n",
              "    <path d=\"M0 0h24v24H0V0z\" fill=\"none\"/>\n",
              "    <path d=\"M18.56 5.44l.94 2.06.94-2.06 2.06-.94-2.06-.94-.94-2.06-.94 2.06-2.06.94zm-11 1L8.5 8.5l.94-2.06 2.06-.94-2.06-.94L8.5 2.5l-.94 2.06-2.06.94zm10 10l.94 2.06.94-2.06 2.06-.94-2.06-.94-.94-2.06-.94 2.06-2.06.94z\"/><path d=\"M17.41 7.96l-1.37-1.37c-.4-.4-.92-.59-1.43-.59-.52 0-1.04.2-1.43.59L10.3 9.45l-7.72 7.72c-.78.78-.78 2.05 0 2.83L4 21.41c.39.39.9.59 1.41.59.51 0 1.02-.2 1.41-.59l7.78-7.78 2.81-2.81c.8-.78.8-2.07 0-2.86zM5.41 20L4 18.59l7.72-7.72 1.47 1.35L5.41 20z\"/>\n",
              "  </svg>\n",
              "      </button>\n",
              "      \n",
              "  <style>\n",
              "    .colab-df-container {\n",
              "      display:flex;\n",
              "      flex-wrap:wrap;\n",
              "      gap: 12px;\n",
              "    }\n",
              "\n",
              "    .colab-df-convert {\n",
              "      background-color: #E8F0FE;\n",
              "      border: none;\n",
              "      border-radius: 50%;\n",
              "      cursor: pointer;\n",
              "      display: none;\n",
              "      fill: #1967D2;\n",
              "      height: 32px;\n",
              "      padding: 0 0 0 0;\n",
              "      width: 32px;\n",
              "    }\n",
              "\n",
              "    .colab-df-convert:hover {\n",
              "      background-color: #E2EBFA;\n",
              "      box-shadow: 0px 1px 2px rgba(60, 64, 67, 0.3), 0px 1px 3px 1px rgba(60, 64, 67, 0.15);\n",
              "      fill: #174EA6;\n",
              "    }\n",
              "\n",
              "    [theme=dark] .colab-df-convert {\n",
              "      background-color: #3B4455;\n",
              "      fill: #D2E3FC;\n",
              "    }\n",
              "\n",
              "    [theme=dark] .colab-df-convert:hover {\n",
              "      background-color: #434B5C;\n",
              "      box-shadow: 0px 1px 3px 1px rgba(0, 0, 0, 0.15);\n",
              "      filter: drop-shadow(0px 1px 2px rgba(0, 0, 0, 0.3));\n",
              "      fill: #FFFFFF;\n",
              "    }\n",
              "  </style>\n",
              "\n",
              "      <script>\n",
              "        const buttonEl =\n",
              "          document.querySelector('#df-783e01fc-7a1c-49bc-af2a-515c7c124e46 button.colab-df-convert');\n",
              "        buttonEl.style.display =\n",
              "          google.colab.kernel.accessAllowed ? 'block' : 'none';\n",
              "\n",
              "        async function convertToInteractive(key) {\n",
              "          const element = document.querySelector('#df-783e01fc-7a1c-49bc-af2a-515c7c124e46');\n",
              "          const dataTable =\n",
              "            await google.colab.kernel.invokeFunction('convertToInteractive',\n",
              "                                                     [key], {});\n",
              "          if (!dataTable) return;\n",
              "\n",
              "          const docLinkHtml = 'Like what you see? Visit the ' +\n",
              "            '<a target=\"_blank\" href=https://colab.research.google.com/notebooks/data_table.ipynb>data table notebook</a>'\n",
              "            + ' to learn more about interactive tables.';\n",
              "          element.innerHTML = '';\n",
              "          dataTable['output_type'] = 'display_data';\n",
              "          await google.colab.output.renderOutput(dataTable, element);\n",
              "          const docLink = document.createElement('div');\n",
              "          docLink.innerHTML = docLinkHtml;\n",
              "          element.appendChild(docLink);\n",
              "        }\n",
              "      </script>\n",
              "    </div>\n",
              "  </div>\n",
              "  "
            ]
          },
          "metadata": {},
          "execution_count": 8
        }
      ]
    },
    {
      "cell_type": "code",
      "source": [
        "#view y\n",
        "y.head()"
      ],
      "metadata": {
        "colab": {
          "base_uri": "https://localhost:8080/"
        },
        "id": "Zkxijbn03dUK",
        "outputId": "795699af-e488-4f37-9808-85ecf3f4932b"
      },
      "execution_count": null,
      "outputs": [
        {
          "output_type": "execute_result",
          "data": {
            "text/plain": [
              "0    16884.92400\n",
              "1     1725.55230\n",
              "2     4449.46200\n",
              "3    21984.47061\n",
              "4     3866.85520\n",
              "Name: charges, dtype: float64"
            ]
          },
          "metadata": {},
          "execution_count": 9
        }
      ]
    },
    {
      "cell_type": "code",
      "source": [
        "#import the function to randombly split the dataframe into training and test sets\n",
        "from sklearn.model_selection import train_test_split\n",
        "\n",
        "X_train,X_test,y_train,y_test=train_test_split(X,y,\n",
        "                                               test_size=0.2,\n",
        "                                               random_state=42)\n",
        "len(X),len(X_train),len(X_test)"
      ],
      "metadata": {
        "colab": {
          "base_uri": "https://localhost:8080/"
        },
        "id": "Do0CVIvO16qC",
        "outputId": "ef867858-aadc-4bce-852a-8a66b74d3673"
      },
      "execution_count": null,
      "outputs": [
        {
          "output_type": "execute_result",
          "data": {
            "text/plain": [
              "(1338, 1070, 268)"
            ]
          },
          "metadata": {},
          "execution_count": 10
        }
      ]
    },
    {
      "cell_type": "code",
      "source": [
        "0.2*1338"
      ],
      "metadata": {
        "colab": {
          "base_uri": "https://localhost:8080/"
        },
        "id": "3m15_1sz6eAd",
        "outputId": "621db834-8d32-4b85-c4bf-483236b1a172"
      },
      "execution_count": null,
      "outputs": [
        {
          "output_type": "execute_result",
          "data": {
            "text/plain": [
              "267.6"
            ]
          },
          "metadata": {},
          "execution_count": 11
        }
      ]
    },
    {
      "cell_type": "code",
      "source": [
        "#build a neural network (sort of like model_2,model_3 above)\n",
        "tf.random.set_seed(42)\n",
        "\n",
        "#1 create a model\n",
        "insurance_model=tf.keras.Sequential([\n",
        "    tf.keras.layers.Dense(10),\n",
        "    tf.keras.layers.Dense(1)\n",
        "])\n",
        "\n",
        "#2 compile the model\n",
        "insurance_model.compile(loss=tf.keras.losses.mae,\n",
        "                        optimizer=tf.keras.optimizers.SGD(),\n",
        "                        metrics=[\"mae\"])"
      ],
      "metadata": {
        "id": "Erx4pDQ76R5N"
      },
      "execution_count": null,
      "outputs": []
    },
    {
      "cell_type": "code",
      "source": [
        "#3 fit the model\n",
        "insurance_model.fit(tf.expand_dims(X_train, axis=-1), y_train, epochs=100)"
      ],
      "metadata": {
        "colab": {
          "base_uri": "https://localhost:8080/"
        },
        "id": "eapEV-yn9E0Q",
        "outputId": "0325c9c3-4726-4e3e-9008-8494c5784897"
      },
      "execution_count": null,
      "outputs": [
        {
          "output_type": "stream",
          "name": "stdout",
          "text": [
            "Epoch 1/100\n",
            "34/34 [==============================] - 1s 2ms/step - loss: 13215.8887 - mae: 13215.8887\n",
            "Epoch 2/100\n",
            "34/34 [==============================] - 0s 1ms/step - loss: 12289.4297 - mae: 12289.4297\n",
            "Epoch 3/100\n",
            "34/34 [==============================] - 0s 2ms/step - loss: 12171.8926 - mae: 12171.8926\n",
            "Epoch 4/100\n",
            "34/34 [==============================] - 0s 2ms/step - loss: 12096.7305 - mae: 12096.7305\n",
            "Epoch 5/100\n",
            "34/34 [==============================] - 0s 2ms/step - loss: 11981.3037 - mae: 11981.3037\n",
            "Epoch 6/100\n",
            "34/34 [==============================] - 0s 1ms/step - loss: 11793.5625 - mae: 11793.5625\n",
            "Epoch 7/100\n",
            "34/34 [==============================] - 0s 2ms/step - loss: 11465.7988 - mae: 11465.7988\n",
            "Epoch 8/100\n",
            "34/34 [==============================] - 0s 1ms/step - loss: 10952.7109 - mae: 10952.7109\n",
            "Epoch 9/100\n",
            "34/34 [==============================] - 0s 2ms/step - loss: 10336.0215 - mae: 10336.0215\n",
            "Epoch 10/100\n",
            "34/34 [==============================] - 0s 2ms/step - loss: 9691.8369 - mae: 9691.8369\n",
            "Epoch 11/100\n",
            "34/34 [==============================] - 0s 2ms/step - loss: 9188.2334 - mae: 9188.2334\n",
            "Epoch 12/100\n",
            "34/34 [==============================] - 0s 2ms/step - loss: 8827.6377 - mae: 8827.6377\n",
            "Epoch 13/100\n",
            "34/34 [==============================] - 0s 2ms/step - loss: 8665.8213 - mae: 8665.8213\n",
            "Epoch 14/100\n",
            "34/34 [==============================] - 0s 2ms/step - loss: 8594.1631 - mae: 8594.1631\n",
            "Epoch 15/100\n",
            "34/34 [==============================] - 0s 1ms/step - loss: 8473.8545 - mae: 8473.8545\n",
            "Epoch 16/100\n",
            "34/34 [==============================] - 0s 2ms/step - loss: 8516.6250 - mae: 8516.6250\n",
            "Epoch 17/100\n",
            "34/34 [==============================] - 0s 2ms/step - loss: 8553.0674 - mae: 8553.0674\n",
            "Epoch 18/100\n",
            "34/34 [==============================] - 0s 1ms/step - loss: 8527.3574 - mae: 8527.3574\n",
            "Epoch 19/100\n",
            "34/34 [==============================] - 0s 2ms/step - loss: 8472.9766 - mae: 8472.9766\n",
            "Epoch 20/100\n",
            "34/34 [==============================] - 0s 1ms/step - loss: 8538.1631 - mae: 8538.1631\n",
            "Epoch 21/100\n",
            "34/34 [==============================] - 0s 2ms/step - loss: 8475.4365 - mae: 8475.4365\n",
            "Epoch 22/100\n",
            "34/34 [==============================] - 0s 2ms/step - loss: 8616.7305 - mae: 8616.7305\n",
            "Epoch 23/100\n",
            "34/34 [==============================] - 0s 1ms/step - loss: 8538.7549 - mae: 8538.7549\n",
            "Epoch 24/100\n",
            "34/34 [==============================] - 0s 2ms/step - loss: 8482.7803 - mae: 8482.7803\n",
            "Epoch 25/100\n",
            "34/34 [==============================] - 0s 2ms/step - loss: 8496.9082 - mae: 8496.9082\n",
            "Epoch 26/100\n",
            "34/34 [==============================] - 0s 1ms/step - loss: 8432.3242 - mae: 8432.3242\n",
            "Epoch 27/100\n",
            "34/34 [==============================] - 0s 2ms/step - loss: 8532.6699 - mae: 8532.6699\n",
            "Epoch 28/100\n",
            "34/34 [==============================] - 0s 2ms/step - loss: 8428.6777 - mae: 8428.6777\n",
            "Epoch 29/100\n",
            "34/34 [==============================] - 0s 2ms/step - loss: 8406.3525 - mae: 8406.3525\n",
            "Epoch 30/100\n",
            "34/34 [==============================] - 0s 2ms/step - loss: 8496.4355 - mae: 8496.4355\n",
            "Epoch 31/100\n",
            "34/34 [==============================] - 0s 2ms/step - loss: 8432.4512 - mae: 8432.4512\n",
            "Epoch 32/100\n",
            "34/34 [==============================] - 0s 2ms/step - loss: 8467.1553 - mae: 8467.1553\n",
            "Epoch 33/100\n",
            "34/34 [==============================] - 0s 2ms/step - loss: 8393.6465 - mae: 8393.6465\n",
            "Epoch 34/100\n",
            "34/34 [==============================] - 0s 2ms/step - loss: 8417.7881 - mae: 8417.7881\n",
            "Epoch 35/100\n",
            "34/34 [==============================] - 0s 2ms/step - loss: 8433.6299 - mae: 8433.6299\n",
            "Epoch 36/100\n",
            "34/34 [==============================] - 0s 2ms/step - loss: 8428.6895 - mae: 8428.6895\n",
            "Epoch 37/100\n",
            "34/34 [==============================] - 0s 2ms/step - loss: 8464.0098 - mae: 8464.0098\n",
            "Epoch 38/100\n",
            "34/34 [==============================] - 0s 2ms/step - loss: 8399.3486 - mae: 8399.3486\n",
            "Epoch 39/100\n",
            "34/34 [==============================] - 0s 2ms/step - loss: 8421.1553 - mae: 8421.1553\n",
            "Epoch 40/100\n",
            "34/34 [==============================] - 0s 2ms/step - loss: 8352.0039 - mae: 8352.0039\n",
            "Epoch 41/100\n",
            "34/34 [==============================] - 0s 3ms/step - loss: 8435.6855 - mae: 8435.6855\n",
            "Epoch 42/100\n",
            "34/34 [==============================] - 0s 2ms/step - loss: 8404.2891 - mae: 8404.2891\n",
            "Epoch 43/100\n",
            "34/34 [==============================] - 0s 2ms/step - loss: 8476.3037 - mae: 8476.3037\n",
            "Epoch 44/100\n",
            "34/34 [==============================] - 0s 2ms/step - loss: 8372.1904 - mae: 8372.1904\n",
            "Epoch 45/100\n",
            "34/34 [==============================] - 0s 2ms/step - loss: 8414.4043 - mae: 8414.4043\n",
            "Epoch 46/100\n",
            "34/34 [==============================] - 0s 2ms/step - loss: 8397.8975 - mae: 8397.8975\n",
            "Epoch 47/100\n",
            "34/34 [==============================] - 0s 2ms/step - loss: 8402.7568 - mae: 8402.7568\n",
            "Epoch 48/100\n",
            "34/34 [==============================] - 0s 2ms/step - loss: 8363.5107 - mae: 8363.5107\n",
            "Epoch 49/100\n",
            "34/34 [==============================] - 0s 2ms/step - loss: 8413.0811 - mae: 8413.0811\n",
            "Epoch 50/100\n",
            "34/34 [==============================] - 0s 2ms/step - loss: 8385.7725 - mae: 8385.7725\n",
            "Epoch 51/100\n",
            "34/34 [==============================] - 0s 3ms/step - loss: 8363.1182 - mae: 8363.1182\n",
            "Epoch 52/100\n",
            "34/34 [==============================] - 0s 2ms/step - loss: 8366.3008 - mae: 8366.3008\n",
            "Epoch 53/100\n",
            "34/34 [==============================] - 0s 2ms/step - loss: 8442.1846 - mae: 8442.1846\n",
            "Epoch 54/100\n",
            "34/34 [==============================] - 0s 2ms/step - loss: 8391.1865 - mae: 8391.1865\n",
            "Epoch 55/100\n",
            "34/34 [==============================] - 0s 2ms/step - loss: 8344.3027 - mae: 8344.3027\n",
            "Epoch 56/100\n",
            "34/34 [==============================] - 0s 2ms/step - loss: 8372.3291 - mae: 8372.3291\n",
            "Epoch 57/100\n",
            "34/34 [==============================] - 0s 2ms/step - loss: 8388.7900 - mae: 8388.7900\n",
            "Epoch 58/100\n",
            "34/34 [==============================] - 0s 2ms/step - loss: 8343.9434 - mae: 8343.9434\n",
            "Epoch 59/100\n",
            "34/34 [==============================] - 0s 2ms/step - loss: 8419.4180 - mae: 8419.4180\n",
            "Epoch 60/100\n",
            "34/34 [==============================] - 0s 2ms/step - loss: 8434.9189 - mae: 8434.9189\n",
            "Epoch 61/100\n",
            "34/34 [==============================] - 0s 3ms/step - loss: 8414.8818 - mae: 8414.8818\n",
            "Epoch 62/100\n",
            "34/34 [==============================] - 0s 3ms/step - loss: 8335.7725 - mae: 8335.7725\n",
            "Epoch 63/100\n",
            "34/34 [==============================] - 0s 3ms/step - loss: 8375.3604 - mae: 8375.3604\n",
            "Epoch 64/100\n",
            "34/34 [==============================] - 0s 3ms/step - loss: 8410.6680 - mae: 8410.6680\n",
            "Epoch 65/100\n",
            "34/34 [==============================] - 0s 2ms/step - loss: 8385.3320 - mae: 8385.3320\n",
            "Epoch 66/100\n",
            "34/34 [==============================] - 0s 2ms/step - loss: 8357.6143 - mae: 8357.6143\n",
            "Epoch 67/100\n",
            "34/34 [==============================] - 0s 2ms/step - loss: 8326.3037 - mae: 8326.3037\n",
            "Epoch 68/100\n",
            "34/34 [==============================] - 0s 2ms/step - loss: 8349.7393 - mae: 8349.7393\n",
            "Epoch 69/100\n",
            "34/34 [==============================] - 0s 2ms/step - loss: 8355.4863 - mae: 8355.4863\n",
            "Epoch 70/100\n",
            "34/34 [==============================] - 0s 2ms/step - loss: 8410.9854 - mae: 8410.9854\n",
            "Epoch 71/100\n",
            "34/34 [==============================] - 0s 2ms/step - loss: 8348.7520 - mae: 8348.7520\n",
            "Epoch 72/100\n",
            "34/34 [==============================] - 0s 2ms/step - loss: 8358.2402 - mae: 8358.2402\n",
            "Epoch 73/100\n",
            "34/34 [==============================] - 0s 2ms/step - loss: 8353.8730 - mae: 8353.8730\n",
            "Epoch 74/100\n",
            "34/34 [==============================] - 0s 2ms/step - loss: 8368.9434 - mae: 8368.9434\n",
            "Epoch 75/100\n",
            "34/34 [==============================] - 0s 2ms/step - loss: 8327.7383 - mae: 8327.7383\n",
            "Epoch 76/100\n",
            "34/34 [==============================] - 0s 2ms/step - loss: 8333.1895 - mae: 8333.1895\n",
            "Epoch 77/100\n",
            "34/34 [==============================] - 0s 2ms/step - loss: 8368.1475 - mae: 8368.1475\n",
            "Epoch 78/100\n",
            "34/34 [==============================] - 0s 2ms/step - loss: 8355.2422 - mae: 8355.2422\n",
            "Epoch 79/100\n",
            "34/34 [==============================] - 0s 2ms/step - loss: 8398.4023 - mae: 8398.4023\n",
            "Epoch 80/100\n",
            "34/34 [==============================] - 0s 3ms/step - loss: 8323.3027 - mae: 8323.3027\n",
            "Epoch 81/100\n",
            "34/34 [==============================] - 0s 2ms/step - loss: 8364.3330 - mae: 8364.3330\n",
            "Epoch 82/100\n",
            "34/34 [==============================] - 0s 2ms/step - loss: 8347.0322 - mae: 8347.0322\n",
            "Epoch 83/100\n",
            "34/34 [==============================] - 0s 2ms/step - loss: 8425.8516 - mae: 8425.8516\n",
            "Epoch 84/100\n",
            "34/34 [==============================] - 0s 2ms/step - loss: 8349.2129 - mae: 8349.2129\n",
            "Epoch 85/100\n",
            "34/34 [==============================] - 0s 2ms/step - loss: 8372.6963 - mae: 8372.6963\n",
            "Epoch 86/100\n",
            "34/34 [==============================] - 0s 2ms/step - loss: 8363.2656 - mae: 8363.2656\n",
            "Epoch 87/100\n",
            "34/34 [==============================] - 0s 2ms/step - loss: 8359.4189 - mae: 8359.4189\n",
            "Epoch 88/100\n",
            "34/34 [==============================] - 0s 3ms/step - loss: 8363.5664 - mae: 8363.5664\n",
            "Epoch 89/100\n",
            "34/34 [==============================] - 0s 2ms/step - loss: 8386.9805 - mae: 8386.9805\n",
            "Epoch 90/100\n",
            "34/34 [==============================] - 0s 2ms/step - loss: 8328.1289 - mae: 8328.1289\n",
            "Epoch 91/100\n",
            "34/34 [==============================] - 0s 2ms/step - loss: 8362.0771 - mae: 8362.0771\n",
            "Epoch 92/100\n",
            "34/34 [==============================] - 0s 2ms/step - loss: 8378.8115 - mae: 8378.8115\n",
            "Epoch 93/100\n",
            "34/34 [==============================] - 0s 3ms/step - loss: 8341.9395 - mae: 8341.9395\n",
            "Epoch 94/100\n",
            "34/34 [==============================] - 0s 2ms/step - loss: 8321.2754 - mae: 8321.2754\n",
            "Epoch 95/100\n",
            "34/34 [==============================] - 0s 2ms/step - loss: 8341.2500 - mae: 8341.2500\n",
            "Epoch 96/100\n",
            "34/34 [==============================] - 0s 2ms/step - loss: 8344.5869 - mae: 8344.5869\n",
            "Epoch 97/100\n",
            "34/34 [==============================] - 0s 2ms/step - loss: 8358.1729 - mae: 8358.1729\n",
            "Epoch 98/100\n",
            "34/34 [==============================] - 0s 2ms/step - loss: 8348.5088 - mae: 8348.5088\n",
            "Epoch 99/100\n",
            "34/34 [==============================] - 0s 2ms/step - loss: 8326.1074 - mae: 8326.1074\n",
            "Epoch 100/100\n",
            "34/34 [==============================] - 0s 2ms/step - loss: 8339.5801 - mae: 8339.5801\n"
          ]
        },
        {
          "output_type": "execute_result",
          "data": {
            "text/plain": [
              "<keras.callbacks.History at 0x7f112a7d9930>"
            ]
          },
          "metadata": {},
          "execution_count": 69
        }
      ]
    },
    {
      "cell_type": "code",
      "source": [
        "#4 check the results of the insurance model on the test data\n",
        "insurance_model.evaluate(X_test,y_test)"
      ],
      "metadata": {
        "colab": {
          "base_uri": "https://localhost:8080/"
        },
        "id": "kW3-Kzda-apa",
        "outputId": "2becbab4-6d25-4cb6-bc1c-3c827677364c"
      },
      "execution_count": null,
      "outputs": [
        {
          "output_type": "stream",
          "name": "stdout",
          "text": [
            "9/9 [==============================] - 0s 3ms/step - loss: 8916.1562 - mae: 8916.1562\n"
          ]
        },
        {
          "output_type": "execute_result",
          "data": {
            "text/plain": [
              "[8916.15625, 8916.15625]"
            ]
          },
          "metadata": {},
          "execution_count": 70
        }
      ]
    },
    {
      "cell_type": "code",
      "source": [
        "y_train.median(),y_train.mean(),\n"
      ],
      "metadata": {
        "colab": {
          "base_uri": "https://localhost:8080/"
        },
        "id": "EQwnDOVDvSo5",
        "outputId": "fe880f5c-9581-4ebe-e79a-695161edef29"
      },
      "execution_count": null,
      "outputs": [
        {
          "output_type": "execute_result",
          "data": {
            "text/plain": [
              "(9575.4421, 13346.089736364485)"
            ]
          },
          "metadata": {},
          "execution_count": 71
        }
      ]
    },
    {
      "cell_type": "markdown",
      "source": [
        "very clear the model is not working/predicting well"
      ],
      "metadata": {
        "id": "jUKfPIcQxABw"
      }
    },
    {
      "cell_type": "markdown",
      "source": [
        "\n",
        "\n",
        "To try and improve our model, we'll run 2 more experiments:\n",
        "1. add an extra layer with more hidden units\n",
        "2. train for longer\n",
        "3. insert your own experiment here"
      ],
      "metadata": {
        "id": "ZJ1H_Eh7whcO"
      }
    },
    {
      "cell_type": "code",
      "source": [
        "#set random seed\n",
        "tf.random.set_seed(42)\n",
        "\n",
        "#1 create the model\n",
        "insurance_model_2=tf.keras.Sequential([\n",
        "    tf.keras.layers.Dense(100),\n",
        "    tf.keras.layers.Dense(10),\n",
        "    tf.keras.layers.Dense(1)\n",
        "])\n",
        "\n",
        "#2 compile the model\n",
        "insurance_model_2.compile(loss=tf.keras.losses.mae,\n",
        "                          optimizer=tf.keras.optimizers.SGD(),\n",
        "                          metrics=[\"mae\"])\n"
      ],
      "metadata": {
        "id": "s7dYqfJrwk8W"
      },
      "execution_count": null,
      "outputs": []
    },
    {
      "cell_type": "code",
      "source": [
        "#3 fit the model\n",
        "insurance_model_2.fit(tf.expand_dims(X_train, axis=-1), y_train, epochs=100,verbose=0)"
      ],
      "metadata": {
        "colab": {
          "base_uri": "https://localhost:8080/"
        },
        "id": "Ra5kWXZXx7OE",
        "outputId": "14243147-1059-46b2-ad26-feee91a9aa15"
      },
      "execution_count": null,
      "outputs": [
        {
          "output_type": "execute_result",
          "data": {
            "text/plain": [
              "<keras.callbacks.History at 0x7f112a5abd30>"
            ]
          },
          "metadata": {},
          "execution_count": 73
        }
      ]
    },
    {
      "cell_type": "code",
      "source": [
        "# evaluate the larger model\n",
        "insurance_model_2.evaluate(X_test,y_test)"
      ],
      "metadata": {
        "colab": {
          "base_uri": "https://localhost:8080/"
        },
        "id": "tkgSNpmCydKP",
        "outputId": "764e9ec2-50d2-4ec8-b9b9-b38e47a1f9be"
      },
      "execution_count": null,
      "outputs": [
        {
          "output_type": "stream",
          "name": "stdout",
          "text": [
            "9/9 [==============================] - 0s 2ms/step - loss: 9944.7676 - mae: 9944.7676\n"
          ]
        },
        {
          "output_type": "execute_result",
          "data": {
            "text/plain": [
              "[9944.767578125, 9944.767578125]"
            ]
          },
          "metadata": {},
          "execution_count": 74
        }
      ]
    },
    {
      "cell_type": "code",
      "source": [
        "# set random seed\n",
        "tf.random.set_seed(42)\n",
        "\n",
        "#1 create the model\n",
        "insurance_model_3=tf.keras.Sequential([\n",
        "    tf.keras.layers.Dense(100),\n",
        "    tf.keras.layers.Dense(10),\n",
        "    tf.keras.layers.Dense(1)\n",
        "])\n",
        "\n",
        "#2 compile the model\n",
        "insurance_model_3.compile(loss=tf.keras.losses.mae,\n",
        "                          optimizer=tf.keras.optimizers.Adam(),\n",
        "                          metrics=[\"mae\"])"
      ],
      "metadata": {
        "id": "YRaQp7Ja1XdW"
      },
      "execution_count": null,
      "outputs": []
    },
    {
      "cell_type": "code",
      "source": [
        "#3 fit the model\n",
        "history=insurance_model_3.fit(tf.expand_dims(X_train, axis=-1), y_train, epochs=200)"
      ],
      "metadata": {
        "colab": {
          "base_uri": "https://localhost:8080/"
        },
        "id": "LbqcGw_x2vKy",
        "outputId": "2c79779e-9b67-42f7-d895-90bf1cbc3bc4"
      },
      "execution_count": null,
      "outputs": [
        {
          "output_type": "stream",
          "name": "stdout",
          "text": [
            "Epoch 1/200\n",
            "34/34 [==============================] - 1s 2ms/step - loss: 13340.0449 - mae: 13340.0449\n",
            "Epoch 2/200\n",
            "34/34 [==============================] - 0s 2ms/step - loss: 13320.0244 - mae: 13320.0244\n",
            "Epoch 3/200\n",
            "34/34 [==============================] - 0s 2ms/step - loss: 13280.7275 - mae: 13280.7275\n",
            "Epoch 4/200\n",
            "34/34 [==============================] - 0s 2ms/step - loss: 13206.3945 - mae: 13206.3945\n",
            "Epoch 5/200\n",
            "34/34 [==============================] - 0s 2ms/step - loss: 13080.7842 - mae: 13080.7842\n",
            "Epoch 6/200\n",
            "34/34 [==============================] - 0s 2ms/step - loss: 12892.1318 - mae: 12892.1318\n",
            "Epoch 7/200\n",
            "34/34 [==============================] - 0s 2ms/step - loss: 12650.2910 - mae: 12650.2910\n",
            "Epoch 8/200\n",
            "34/34 [==============================] - 0s 2ms/step - loss: 12391.5498 - mae: 12391.5498\n",
            "Epoch 9/200\n",
            "34/34 [==============================] - 0s 2ms/step - loss: 12188.6279 - mae: 12188.6279\n",
            "Epoch 10/200\n",
            "34/34 [==============================] - 0s 2ms/step - loss: 12109.3340 - mae: 12109.3340\n",
            "Epoch 11/200\n",
            "34/34 [==============================] - 0s 2ms/step - loss: 12083.0283 - mae: 12083.0283\n",
            "Epoch 12/200\n",
            "34/34 [==============================] - 0s 2ms/step - loss: 12061.1445 - mae: 12061.1445\n",
            "Epoch 13/200\n",
            "34/34 [==============================] - 0s 2ms/step - loss: 12039.5859 - mae: 12039.5859\n",
            "Epoch 14/200\n",
            "34/34 [==============================] - 0s 2ms/step - loss: 12016.9141 - mae: 12016.9141\n",
            "Epoch 15/200\n",
            "34/34 [==============================] - 0s 2ms/step - loss: 11993.0361 - mae: 11993.0361\n",
            "Epoch 16/200\n",
            "34/34 [==============================] - 0s 2ms/step - loss: 11966.9893 - mae: 11966.9893\n",
            "Epoch 17/200\n",
            "34/34 [==============================] - 0s 2ms/step - loss: 11938.6641 - mae: 11938.6641\n",
            "Epoch 18/200\n",
            "34/34 [==============================] - 0s 2ms/step - loss: 11907.3379 - mae: 11907.3379\n",
            "Epoch 19/200\n",
            "34/34 [==============================] - 0s 2ms/step - loss: 11872.4424 - mae: 11872.4424\n",
            "Epoch 20/200\n",
            "34/34 [==============================] - 0s 2ms/step - loss: 11832.4404 - mae: 11832.4404\n",
            "Epoch 21/200\n",
            "34/34 [==============================] - 0s 2ms/step - loss: 11786.9512 - mae: 11786.9512\n",
            "Epoch 22/200\n",
            "34/34 [==============================] - 0s 2ms/step - loss: 11734.1084 - mae: 11734.1084\n",
            "Epoch 23/200\n",
            "34/34 [==============================] - 0s 2ms/step - loss: 11672.3740 - mae: 11672.3740\n",
            "Epoch 24/200\n",
            "34/34 [==============================] - 0s 2ms/step - loss: 11599.5723 - mae: 11599.5723\n",
            "Epoch 25/200\n",
            "34/34 [==============================] - 0s 2ms/step - loss: 11514.2695 - mae: 11514.2695\n",
            "Epoch 26/200\n",
            "34/34 [==============================] - 0s 2ms/step - loss: 11411.0723 - mae: 11411.0723\n",
            "Epoch 27/200\n",
            "34/34 [==============================] - 0s 2ms/step - loss: 11290.8096 - mae: 11290.8096\n",
            "Epoch 28/200\n",
            "34/34 [==============================] - 0s 2ms/step - loss: 11151.5400 - mae: 11151.5400\n",
            "Epoch 29/200\n",
            "34/34 [==============================] - 0s 3ms/step - loss: 10993.4277 - mae: 10993.4277\n",
            "Epoch 30/200\n",
            "34/34 [==============================] - 0s 3ms/step - loss: 10823.7695 - mae: 10823.7695\n",
            "Epoch 31/200\n",
            "34/34 [==============================] - 0s 3ms/step - loss: 10645.5107 - mae: 10645.5107\n",
            "Epoch 32/200\n",
            "34/34 [==============================] - 0s 3ms/step - loss: 10464.2559 - mae: 10464.2559\n",
            "Epoch 33/200\n",
            "34/34 [==============================] - 0s 3ms/step - loss: 10279.4463 - mae: 10279.4463\n",
            "Epoch 34/200\n",
            "34/34 [==============================] - 0s 3ms/step - loss: 10094.9121 - mae: 10094.9121\n",
            "Epoch 35/200\n",
            "34/34 [==============================] - 0s 3ms/step - loss: 9902.0596 - mae: 9902.0596\n",
            "Epoch 36/200\n",
            "34/34 [==============================] - 0s 3ms/step - loss: 9713.8506 - mae: 9713.8506\n",
            "Epoch 37/200\n",
            "34/34 [==============================] - 0s 3ms/step - loss: 9529.2275 - mae: 9529.2275\n",
            "Epoch 38/200\n",
            "34/34 [==============================] - 0s 3ms/step - loss: 9354.8672 - mae: 9354.8672\n",
            "Epoch 39/200\n",
            "34/34 [==============================] - 0s 3ms/step - loss: 9193.9941 - mae: 9193.9941\n",
            "Epoch 40/200\n",
            "34/34 [==============================] - 0s 3ms/step - loss: 9050.6641 - mae: 9050.6641\n",
            "Epoch 41/200\n",
            "34/34 [==============================] - 0s 3ms/step - loss: 8922.4287 - mae: 8922.4287\n",
            "Epoch 42/200\n",
            "34/34 [==============================] - 0s 3ms/step - loss: 8804.0107 - mae: 8804.0107\n",
            "Epoch 43/200\n",
            "34/34 [==============================] - 0s 3ms/step - loss: 8698.2803 - mae: 8698.2803\n",
            "Epoch 44/200\n",
            "34/34 [==============================] - 0s 3ms/step - loss: 8599.5605 - mae: 8599.5605\n",
            "Epoch 45/200\n",
            "34/34 [==============================] - 0s 3ms/step - loss: 8529.7646 - mae: 8529.7646\n",
            "Epoch 46/200\n",
            "34/34 [==============================] - 0s 3ms/step - loss: 8467.6191 - mae: 8467.6191\n",
            "Epoch 47/200\n",
            "34/34 [==============================] - 0s 3ms/step - loss: 8428.8301 - mae: 8428.8301\n",
            "Epoch 48/200\n",
            "34/34 [==============================] - 0s 3ms/step - loss: 8387.1211 - mae: 8387.1211\n",
            "Epoch 49/200\n",
            "34/34 [==============================] - 0s 3ms/step - loss: 8359.9072 - mae: 8359.9072\n",
            "Epoch 50/200\n",
            "34/34 [==============================] - 0s 3ms/step - loss: 8335.6904 - mae: 8335.6904\n",
            "Epoch 51/200\n",
            "34/34 [==============================] - 0s 3ms/step - loss: 8319.9365 - mae: 8319.9365\n",
            "Epoch 52/200\n",
            "34/34 [==============================] - 0s 3ms/step - loss: 8311.9648 - mae: 8311.9648\n",
            "Epoch 53/200\n",
            "34/34 [==============================] - 0s 3ms/step - loss: 8295.8760 - mae: 8295.8760\n",
            "Epoch 54/200\n",
            "34/34 [==============================] - 0s 3ms/step - loss: 8289.3672 - mae: 8289.3672\n",
            "Epoch 55/200\n",
            "34/34 [==============================] - 0s 3ms/step - loss: 8286.9893 - mae: 8286.9893\n",
            "Epoch 56/200\n",
            "34/34 [==============================] - 0s 3ms/step - loss: 8282.6279 - mae: 8282.6279\n",
            "Epoch 57/200\n",
            "34/34 [==============================] - 0s 3ms/step - loss: 8280.0918 - mae: 8280.0918\n",
            "Epoch 58/200\n",
            "34/34 [==============================] - 0s 3ms/step - loss: 8278.3203 - mae: 8278.3203\n",
            "Epoch 59/200\n",
            "34/34 [==============================] - 0s 3ms/step - loss: 8278.5352 - mae: 8278.5352\n",
            "Epoch 60/200\n",
            "34/34 [==============================] - 0s 3ms/step - loss: 8280.2646 - mae: 8280.2646\n",
            "Epoch 61/200\n",
            "34/34 [==============================] - 0s 3ms/step - loss: 8278.3457 - mae: 8278.3457\n",
            "Epoch 62/200\n",
            "34/34 [==============================] - 0s 3ms/step - loss: 8275.1758 - mae: 8275.1758\n",
            "Epoch 63/200\n",
            "34/34 [==============================] - 0s 3ms/step - loss: 8275.8760 - mae: 8275.8760\n",
            "Epoch 64/200\n",
            "34/34 [==============================] - 0s 3ms/step - loss: 8274.5439 - mae: 8274.5439\n",
            "Epoch 65/200\n",
            "34/34 [==============================] - 0s 3ms/step - loss: 8274.1846 - mae: 8274.1846\n",
            "Epoch 66/200\n",
            "34/34 [==============================] - 0s 3ms/step - loss: 8273.5811 - mae: 8273.5811\n",
            "Epoch 67/200\n",
            "34/34 [==============================] - 0s 3ms/step - loss: 8276.8887 - mae: 8276.8887\n",
            "Epoch 68/200\n",
            "34/34 [==============================] - 0s 3ms/step - loss: 8274.4541 - mae: 8274.4541\n",
            "Epoch 69/200\n",
            "34/34 [==============================] - 0s 3ms/step - loss: 8274.3398 - mae: 8274.3398\n",
            "Epoch 70/200\n",
            "34/34 [==============================] - 0s 3ms/step - loss: 8276.8916 - mae: 8276.8916\n",
            "Epoch 71/200\n",
            "34/34 [==============================] - 0s 3ms/step - loss: 8275.5674 - mae: 8275.5674\n",
            "Epoch 72/200\n",
            "34/34 [==============================] - 0s 3ms/step - loss: 8276.0381 - mae: 8276.0381\n",
            "Epoch 73/200\n",
            "34/34 [==============================] - 0s 3ms/step - loss: 8274.3047 - mae: 8274.3047\n",
            "Epoch 74/200\n",
            "34/34 [==============================] - 0s 3ms/step - loss: 8273.6758 - mae: 8273.6758\n",
            "Epoch 75/200\n",
            "34/34 [==============================] - 0s 3ms/step - loss: 8273.7393 - mae: 8273.7393\n",
            "Epoch 76/200\n",
            "34/34 [==============================] - 0s 3ms/step - loss: 8276.5693 - mae: 8276.5693\n",
            "Epoch 77/200\n",
            "34/34 [==============================] - 0s 3ms/step - loss: 8273.1699 - mae: 8273.1699\n",
            "Epoch 78/200\n",
            "34/34 [==============================] - 0s 3ms/step - loss: 8274.0596 - mae: 8274.0596\n",
            "Epoch 79/200\n",
            "34/34 [==============================] - 0s 3ms/step - loss: 8275.2441 - mae: 8275.2441\n",
            "Epoch 80/200\n",
            "34/34 [==============================] - 0s 2ms/step - loss: 8273.0723 - mae: 8273.0723\n",
            "Epoch 81/200\n",
            "34/34 [==============================] - 0s 2ms/step - loss: 8274.0566 - mae: 8274.0566\n",
            "Epoch 82/200\n",
            "34/34 [==============================] - 0s 2ms/step - loss: 8275.0342 - mae: 8275.0342\n",
            "Epoch 83/200\n",
            "34/34 [==============================] - 0s 2ms/step - loss: 8279.0010 - mae: 8279.0010\n",
            "Epoch 84/200\n",
            "34/34 [==============================] - 0s 2ms/step - loss: 8273.3857 - mae: 8273.3857\n",
            "Epoch 85/200\n",
            "34/34 [==============================] - 0s 2ms/step - loss: 8277.5107 - mae: 8277.5107\n",
            "Epoch 86/200\n",
            "34/34 [==============================] - 0s 2ms/step - loss: 8275.0498 - mae: 8275.0498\n",
            "Epoch 87/200\n",
            "34/34 [==============================] - 0s 2ms/step - loss: 8275.9189 - mae: 8275.9189\n",
            "Epoch 88/200\n",
            "34/34 [==============================] - 0s 2ms/step - loss: 8273.7627 - mae: 8273.7627\n",
            "Epoch 89/200\n",
            "34/34 [==============================] - 0s 2ms/step - loss: 8273.5273 - mae: 8273.5273\n",
            "Epoch 90/200\n",
            "34/34 [==============================] - 0s 2ms/step - loss: 8275.5703 - mae: 8275.5703\n",
            "Epoch 91/200\n",
            "34/34 [==============================] - 0s 2ms/step - loss: 8273.6426 - mae: 8273.6426\n",
            "Epoch 92/200\n",
            "34/34 [==============================] - 0s 2ms/step - loss: 8274.7920 - mae: 8274.7920\n",
            "Epoch 93/200\n",
            "34/34 [==============================] - 0s 2ms/step - loss: 8274.6650 - mae: 8274.6650\n",
            "Epoch 94/200\n",
            "34/34 [==============================] - 0s 2ms/step - loss: 8275.4678 - mae: 8275.4678\n",
            "Epoch 95/200\n",
            "34/34 [==============================] - 0s 2ms/step - loss: 8274.9277 - mae: 8274.9277\n",
            "Epoch 96/200\n",
            "34/34 [==============================] - 0s 2ms/step - loss: 8274.3721 - mae: 8274.3721\n",
            "Epoch 97/200\n",
            "34/34 [==============================] - 0s 2ms/step - loss: 8276.6768 - mae: 8276.6768\n",
            "Epoch 98/200\n",
            "34/34 [==============================] - 0s 2ms/step - loss: 8273.8018 - mae: 8273.8018\n",
            "Epoch 99/200\n",
            "34/34 [==============================] - 0s 2ms/step - loss: 8274.2031 - mae: 8274.2031\n",
            "Epoch 100/200\n",
            "34/34 [==============================] - 0s 2ms/step - loss: 8273.8213 - mae: 8273.8213\n",
            "Epoch 101/200\n",
            "34/34 [==============================] - 0s 2ms/step - loss: 8276.0381 - mae: 8276.0381\n",
            "Epoch 102/200\n",
            "34/34 [==============================] - 0s 2ms/step - loss: 8276.0088 - mae: 8276.0088\n",
            "Epoch 103/200\n",
            "34/34 [==============================] - 0s 2ms/step - loss: 8274.7559 - mae: 8274.7559\n",
            "Epoch 104/200\n",
            "34/34 [==============================] - 0s 2ms/step - loss: 8273.5498 - mae: 8273.5498\n",
            "Epoch 105/200\n",
            "34/34 [==============================] - 0s 2ms/step - loss: 8273.9180 - mae: 8273.9180\n",
            "Epoch 106/200\n",
            "34/34 [==============================] - 0s 2ms/step - loss: 8273.5869 - mae: 8273.5869\n",
            "Epoch 107/200\n",
            "34/34 [==============================] - 0s 2ms/step - loss: 8275.6553 - mae: 8275.6553\n",
            "Epoch 108/200\n",
            "34/34 [==============================] - 0s 2ms/step - loss: 8279.2021 - mae: 8279.2021\n",
            "Epoch 109/200\n",
            "34/34 [==============================] - 0s 2ms/step - loss: 8275.2754 - mae: 8275.2754\n",
            "Epoch 110/200\n",
            "34/34 [==============================] - 0s 2ms/step - loss: 8276.6055 - mae: 8276.6055\n",
            "Epoch 111/200\n",
            "34/34 [==============================] - 0s 2ms/step - loss: 8276.4854 - mae: 8276.4854\n",
            "Epoch 112/200\n",
            "34/34 [==============================] - 0s 2ms/step - loss: 8273.4561 - mae: 8273.4561\n",
            "Epoch 113/200\n",
            "34/34 [==============================] - 0s 2ms/step - loss: 8273.8486 - mae: 8273.8486\n",
            "Epoch 114/200\n",
            "34/34 [==============================] - 0s 2ms/step - loss: 8273.9209 - mae: 8273.9209\n",
            "Epoch 115/200\n",
            "34/34 [==============================] - 0s 2ms/step - loss: 8275.6123 - mae: 8275.6123\n",
            "Epoch 116/200\n",
            "34/34 [==============================] - 0s 2ms/step - loss: 8275.2637 - mae: 8275.2637\n",
            "Epoch 117/200\n",
            "34/34 [==============================] - 0s 2ms/step - loss: 8275.4160 - mae: 8275.4160\n",
            "Epoch 118/200\n",
            "34/34 [==============================] - 0s 2ms/step - loss: 8274.5615 - mae: 8274.5615\n",
            "Epoch 119/200\n",
            "34/34 [==============================] - 0s 2ms/step - loss: 8276.0977 - mae: 8276.0977\n",
            "Epoch 120/200\n",
            "34/34 [==============================] - 0s 2ms/step - loss: 8273.6719 - mae: 8273.6719\n",
            "Epoch 121/200\n",
            "34/34 [==============================] - 0s 2ms/step - loss: 8273.8994 - mae: 8273.8994\n",
            "Epoch 122/200\n",
            "34/34 [==============================] - 0s 2ms/step - loss: 8273.7354 - mae: 8273.7354\n",
            "Epoch 123/200\n",
            "34/34 [==============================] - 0s 2ms/step - loss: 8274.2773 - mae: 8274.2773\n",
            "Epoch 124/200\n",
            "34/34 [==============================] - 0s 2ms/step - loss: 8274.0889 - mae: 8274.0889\n",
            "Epoch 125/200\n",
            "34/34 [==============================] - 0s 2ms/step - loss: 8275.4336 - mae: 8275.4336\n",
            "Epoch 126/200\n",
            "34/34 [==============================] - 0s 2ms/step - loss: 8275.4492 - mae: 8275.4492\n",
            "Epoch 127/200\n",
            "34/34 [==============================] - 0s 2ms/step - loss: 8274.8594 - mae: 8274.8594\n",
            "Epoch 128/200\n",
            "34/34 [==============================] - 0s 2ms/step - loss: 8274.6045 - mae: 8274.6045\n",
            "Epoch 129/200\n",
            "34/34 [==============================] - 0s 2ms/step - loss: 8274.9824 - mae: 8274.9824\n",
            "Epoch 130/200\n",
            "34/34 [==============================] - 0s 2ms/step - loss: 8274.6729 - mae: 8274.6729\n",
            "Epoch 131/200\n",
            "34/34 [==============================] - 0s 2ms/step - loss: 8276.8809 - mae: 8276.8809\n",
            "Epoch 132/200\n",
            "34/34 [==============================] - 0s 2ms/step - loss: 8276.2773 - mae: 8276.2773\n",
            "Epoch 133/200\n",
            "34/34 [==============================] - 0s 3ms/step - loss: 8275.0459 - mae: 8275.0459\n",
            "Epoch 134/200\n",
            "34/34 [==============================] - 0s 2ms/step - loss: 8273.4902 - mae: 8273.4902\n",
            "Epoch 135/200\n",
            "34/34 [==============================] - 0s 2ms/step - loss: 8273.8438 - mae: 8273.8438\n",
            "Epoch 136/200\n",
            "34/34 [==============================] - 0s 2ms/step - loss: 8273.6797 - mae: 8273.6797\n",
            "Epoch 137/200\n",
            "34/34 [==============================] - 0s 2ms/step - loss: 8274.1191 - mae: 8274.1191\n",
            "Epoch 138/200\n",
            "34/34 [==============================] - 0s 3ms/step - loss: 8274.3516 - mae: 8274.3516\n",
            "Epoch 139/200\n",
            "34/34 [==============================] - 0s 2ms/step - loss: 8274.4521 - mae: 8274.4521\n",
            "Epoch 140/200\n",
            "34/34 [==============================] - 0s 2ms/step - loss: 8273.7559 - mae: 8273.7559\n",
            "Epoch 141/200\n",
            "34/34 [==============================] - 0s 2ms/step - loss: 8274.3271 - mae: 8274.3271\n",
            "Epoch 142/200\n",
            "34/34 [==============================] - 0s 2ms/step - loss: 8276.6191 - mae: 8276.6191\n",
            "Epoch 143/200\n",
            "34/34 [==============================] - 0s 2ms/step - loss: 8276.6045 - mae: 8276.6045\n",
            "Epoch 144/200\n",
            "34/34 [==============================] - 0s 2ms/step - loss: 8279.0566 - mae: 8279.0566\n",
            "Epoch 145/200\n",
            "34/34 [==============================] - 0s 2ms/step - loss: 8275.0498 - mae: 8275.0498\n",
            "Epoch 146/200\n",
            "34/34 [==============================] - 0s 2ms/step - loss: 8275.6855 - mae: 8275.6855\n",
            "Epoch 147/200\n",
            "34/34 [==============================] - 0s 2ms/step - loss: 8275.8154 - mae: 8275.8154\n",
            "Epoch 148/200\n",
            "34/34 [==============================] - 0s 2ms/step - loss: 8275.2578 - mae: 8275.2578\n",
            "Epoch 149/200\n",
            "34/34 [==============================] - 0s 2ms/step - loss: 8274.8906 - mae: 8274.8906\n",
            "Epoch 150/200\n",
            "34/34 [==============================] - 0s 2ms/step - loss: 8273.7568 - mae: 8273.7568\n",
            "Epoch 151/200\n",
            "34/34 [==============================] - 0s 2ms/step - loss: 8274.3779 - mae: 8274.3779\n",
            "Epoch 152/200\n",
            "34/34 [==============================] - 0s 2ms/step - loss: 8274.0479 - mae: 8274.0479\n",
            "Epoch 153/200\n",
            "34/34 [==============================] - 0s 2ms/step - loss: 8277.1162 - mae: 8277.1162\n",
            "Epoch 154/200\n",
            "34/34 [==============================] - 0s 2ms/step - loss: 8276.4785 - mae: 8276.4785\n",
            "Epoch 155/200\n",
            "34/34 [==============================] - 0s 2ms/step - loss: 8274.1973 - mae: 8274.1973\n",
            "Epoch 156/200\n",
            "34/34 [==============================] - 0s 2ms/step - loss: 8273.6592 - mae: 8273.6592\n",
            "Epoch 157/200\n",
            "34/34 [==============================] - 0s 2ms/step - loss: 8275.7500 - mae: 8275.7500\n",
            "Epoch 158/200\n",
            "34/34 [==============================] - 0s 2ms/step - loss: 8274.5293 - mae: 8274.5293\n",
            "Epoch 159/200\n",
            "34/34 [==============================] - 0s 2ms/step - loss: 8273.4912 - mae: 8273.4912\n",
            "Epoch 160/200\n",
            "34/34 [==============================] - 0s 2ms/step - loss: 8274.8574 - mae: 8274.8574\n",
            "Epoch 161/200\n",
            "34/34 [==============================] - 0s 2ms/step - loss: 8273.6816 - mae: 8273.6816\n",
            "Epoch 162/200\n",
            "34/34 [==============================] - 0s 2ms/step - loss: 8274.6377 - mae: 8274.6377\n",
            "Epoch 163/200\n",
            "34/34 [==============================] - 0s 2ms/step - loss: 8274.2715 - mae: 8274.2715\n",
            "Epoch 164/200\n",
            "34/34 [==============================] - 0s 2ms/step - loss: 8273.9160 - mae: 8273.9160\n",
            "Epoch 165/200\n",
            "34/34 [==============================] - 0s 2ms/step - loss: 8276.5430 - mae: 8276.5430\n",
            "Epoch 166/200\n",
            "34/34 [==============================] - 0s 2ms/step - loss: 8275.6475 - mae: 8275.6475\n",
            "Epoch 167/200\n",
            "34/34 [==============================] - 0s 2ms/step - loss: 8274.4111 - mae: 8274.4111\n",
            "Epoch 168/200\n",
            "34/34 [==============================] - 0s 2ms/step - loss: 8274.2119 - mae: 8274.2119\n",
            "Epoch 169/200\n",
            "34/34 [==============================] - 0s 2ms/step - loss: 8273.6523 - mae: 8273.6523\n",
            "Epoch 170/200\n",
            "34/34 [==============================] - 0s 2ms/step - loss: 8275.2461 - mae: 8275.2461\n",
            "Epoch 171/200\n",
            "34/34 [==============================] - 0s 2ms/step - loss: 8274.3496 - mae: 8274.3496\n",
            "Epoch 172/200\n",
            "34/34 [==============================] - 0s 2ms/step - loss: 8275.2451 - mae: 8275.2451\n",
            "Epoch 173/200\n",
            "34/34 [==============================] - 0s 2ms/step - loss: 8274.9902 - mae: 8274.9902\n",
            "Epoch 174/200\n",
            "34/34 [==============================] - 0s 2ms/step - loss: 8274.4238 - mae: 8274.4238\n",
            "Epoch 175/200\n",
            "34/34 [==============================] - 0s 2ms/step - loss: 8275.8213 - mae: 8275.8213\n",
            "Epoch 176/200\n",
            "34/34 [==============================] - 0s 2ms/step - loss: 8275.7568 - mae: 8275.7568\n",
            "Epoch 177/200\n",
            "34/34 [==============================] - 0s 2ms/step - loss: 8274.0713 - mae: 8274.0713\n",
            "Epoch 178/200\n",
            "34/34 [==============================] - 0s 2ms/step - loss: 8274.1992 - mae: 8274.1992\n",
            "Epoch 179/200\n",
            "34/34 [==============================] - 0s 2ms/step - loss: 8274.1553 - mae: 8274.1553\n",
            "Epoch 180/200\n",
            "34/34 [==============================] - 0s 2ms/step - loss: 8274.5742 - mae: 8274.5742\n",
            "Epoch 181/200\n",
            "34/34 [==============================] - 0s 2ms/step - loss: 8274.4922 - mae: 8274.4922\n",
            "Epoch 182/200\n",
            "34/34 [==============================] - 0s 2ms/step - loss: 8273.7510 - mae: 8273.7510\n",
            "Epoch 183/200\n",
            "34/34 [==============================] - 0s 2ms/step - loss: 8274.4971 - mae: 8274.4971\n",
            "Epoch 184/200\n",
            "34/34 [==============================] - 0s 2ms/step - loss: 8276.9453 - mae: 8276.9453\n",
            "Epoch 185/200\n",
            "34/34 [==============================] - 0s 2ms/step - loss: 8276.2891 - mae: 8276.2891\n",
            "Epoch 186/200\n",
            "34/34 [==============================] - 0s 2ms/step - loss: 8275.7822 - mae: 8275.7822\n",
            "Epoch 187/200\n",
            "34/34 [==============================] - 0s 2ms/step - loss: 8277.0322 - mae: 8277.0322\n",
            "Epoch 188/200\n",
            "34/34 [==============================] - 0s 2ms/step - loss: 8273.4678 - mae: 8273.4678\n",
            "Epoch 189/200\n",
            "34/34 [==============================] - 0s 2ms/step - loss: 8275.0967 - mae: 8275.0967\n",
            "Epoch 190/200\n",
            "34/34 [==============================] - 0s 2ms/step - loss: 8276.2500 - mae: 8276.2500\n",
            "Epoch 191/200\n",
            "34/34 [==============================] - 0s 2ms/step - loss: 8273.7002 - mae: 8273.7002\n",
            "Epoch 192/200\n",
            "34/34 [==============================] - 0s 2ms/step - loss: 8274.0195 - mae: 8274.0195\n",
            "Epoch 193/200\n",
            "34/34 [==============================] - 0s 2ms/step - loss: 8275.5547 - mae: 8275.5547\n",
            "Epoch 194/200\n",
            "34/34 [==============================] - 0s 2ms/step - loss: 8273.5391 - mae: 8273.5391\n",
            "Epoch 195/200\n",
            "34/34 [==============================] - 0s 2ms/step - loss: 8274.7842 - mae: 8274.7842\n",
            "Epoch 196/200\n",
            "34/34 [==============================] - 0s 2ms/step - loss: 8274.8994 - mae: 8274.8994\n",
            "Epoch 197/200\n",
            "34/34 [==============================] - 0s 2ms/step - loss: 8274.8760 - mae: 8274.8760\n",
            "Epoch 198/200\n",
            "34/34 [==============================] - 0s 2ms/step - loss: 8274.9023 - mae: 8274.9023\n",
            "Epoch 199/200\n",
            "34/34 [==============================] - 0s 2ms/step - loss: 8273.7812 - mae: 8273.7812\n",
            "Epoch 200/200\n",
            "34/34 [==============================] - 0s 2ms/step - loss: 8276.8984 - mae: 8276.8984\n"
          ]
        }
      ]
    },
    {
      "cell_type": "code",
      "source": [
        "# evaluate our third model\n",
        "insurance_model_3.evaluate(X_test,y_test)"
      ],
      "metadata": {
        "colab": {
          "base_uri": "https://localhost:8080/"
        },
        "id": "IowUh2vS31bu",
        "outputId": "c48ce78c-46cd-4950-e3d0-91c952156167"
      },
      "execution_count": null,
      "outputs": [
        {
          "output_type": "stream",
          "name": "stdout",
          "text": [
            "9/9 [==============================] - 0s 2ms/step - loss: 8632.6074 - mae: 8632.6074\n"
          ]
        },
        {
          "output_type": "execute_result",
          "data": {
            "text/plain": [
              "[8632.607421875, 8632.607421875]"
            ]
          },
          "metadata": {},
          "execution_count": 21
        }
      ]
    },
    {
      "cell_type": "code",
      "source": [
        "insurance_model_3.summary()"
      ],
      "metadata": {
        "colab": {
          "base_uri": "https://localhost:8080/"
        },
        "id": "2i88p1O3ofbb",
        "outputId": "202596cf-4c47-46f6-ee9c-3a0694e1bd95"
      },
      "execution_count": null,
      "outputs": [
        {
          "output_type": "stream",
          "name": "stdout",
          "text": [
            "Model: \"sequential_9\"\n",
            "_________________________________________________________________\n",
            " Layer (type)                Output Shape              Param #   \n",
            "=================================================================\n",
            " dense_15 (Dense)            (None, 11, 100)           200       \n",
            "                                                                 \n",
            " dense_16 (Dense)            (None, 11, 10)            1010      \n",
            "                                                                 \n",
            " dense_17 (Dense)            (None, 11, 1)             11        \n",
            "                                                                 \n",
            "=================================================================\n",
            "Total params: 1,221\n",
            "Trainable params: 1,221\n",
            "Non-trainable params: 0\n",
            "_________________________________________________________________\n"
          ]
        }
      ]
    },
    {
      "cell_type": "code",
      "source": [
        "insurance_model.evaluate(X_test,y_test)"
      ],
      "metadata": {
        "colab": {
          "base_uri": "https://localhost:8080/"
        },
        "id": "fTP641Fh4PP4",
        "outputId": "16696d3b-378f-40fc-d239-fd09d1f42b05"
      },
      "execution_count": null,
      "outputs": [
        {
          "output_type": "stream",
          "name": "stdout",
          "text": [
            "9/9 [==============================] - 0s 2ms/step - loss: 8915.1445 - mae: 8915.1445\n"
          ]
        },
        {
          "output_type": "execute_result",
          "data": {
            "text/plain": [
              "[8915.14453125, 8915.14453125]"
            ]
          },
          "metadata": {},
          "execution_count": 22
        }
      ]
    },
    {
      "cell_type": "code",
      "source": [
        "#plot history (known as loss curve or a training curve)\n",
        "pd.DataFrame(history.history).plot()\n",
        "plt.ylabel(\"loss\")\n",
        "plt.xlabel(\"epochs\")"
      ],
      "metadata": {
        "colab": {
          "base_uri": "https://localhost:8080/",
          "height": 466
        },
        "id": "fxr6ldQn4V94",
        "outputId": "23adca71-29e6-483b-c10d-9295aa974f2d"
      },
      "execution_count": null,
      "outputs": [
        {
          "output_type": "execute_result",
          "data": {
            "text/plain": [
              "Text(0.5, 0, 'epochs')"
            ]
          },
          "metadata": {},
          "execution_count": 23
        },
        {
          "output_type": "display_data",
          "data": {
            "text/plain": [
              "<Figure size 640x480 with 1 Axes>"
            ],
            "image/png": "[encoded data removed]"
          },
          "metadata": {}
        }
      ]
    },
    {
      "cell_type": "markdown",
      "source": [
        "How long you should train for???\n",
        "\n",
        "Loss curve flattening out above... Why"
      ],
      "metadata": {
        "id": "Emn4K1165QN0"
      }
    },
    {
      "cell_type": "markdown",
      "source": [
        "Tensor flow as early stopping callback to solve the issue for how long to train"
      ],
      "metadata": {
        "id": "gYY9biZG5a2l"
      }
    },
    {
      "cell_type": "markdown",
      "source": [
        "Preprocessing data (normalization and standardization)"
      ],
      "metadata": {
        "id": "1qR2dmBt550W"
      }
    },
    {
      "cell_type": "markdown",
      "source": [
        "In terms of scaling values, neural netoworks tend to prefer normalization. If not sure, can try both"
      ],
      "metadata": {
        "id": "X-LOtVejzcVv"
      }
    },
    {
      "cell_type": "code",
      "source": [
        "import pandas as pd\n",
        "import matplotlib.pyplot as plt\n",
        "import tensorflow as tf\n",
        "\n",
        "#read in the insurance dataframe\n",
        "insurance=pd.read_csv(\"https://raw.githubusercontent.com/stedy/Machine-Learning-with-R-datasets/master/insurance.csv\")\n",
        "\n"
      ],
      "metadata": {
        "id": "aLaKYiin5ivd",
        "colab": {
          "base_uri": "https://localhost:8080/",
          "height": 424
        },
        "outputId": "a47e5b72-cdbe-423e-e4bf-a9a70c3996df"
      },
      "execution_count": null,
      "outputs": [
        {
          "output_type": "execute_result",
          "data": {
            "text/plain": [
              "      age     sex     bmi  children smoker     region      charges\n",
              "0      19  female  27.900         0    yes  southwest  16884.92400\n",
              "1      18    male  33.770         1     no  southeast   1725.55230\n",
              "2      28    male  33.000         3     no  southeast   4449.46200\n",
              "3      33    male  22.705         0     no  northwest  21984.47061\n",
              "4      32    male  28.880         0     no  northwest   3866.85520\n",
              "...   ...     ...     ...       ...    ...        ...          ...\n",
              "1333   50    male  30.970         3     no  northwest  10600.54830\n",
              "1334   18  female  31.920         0     no  northeast   2205.98080\n",
              "1335   18  female  36.850         0     no  southeast   1629.83350\n",
              "1336   21  female  25.800         0     no  southwest   2007.94500\n",
              "1337   61  female  29.070         0    yes  northwest  29141.36030\n",
              "\n",
              "[1338 rows x 7 columns]"
            ],
            "text/html": [
              "\n",
              "  <div id=\"df-2fbfac19-6e71-4591-a2f1-4fc51b1ba127\">\n",
              "    <div class=\"colab-df-container\">\n",
              "      <div>\n",
              "<style scoped>\n",
              "    .dataframe tbody tr th:only-of-type {\n",
              "        vertical-align: middle;\n",
              "    }\n",
              "\n",
              "    .dataframe tbody tr th {\n",
              "        vertical-align: top;\n",
              "    }\n",
              "\n",
              "    .dataframe thead th {\n",
              "        text-align: right;\n",
              "    }\n",
              "</style>\n",
              "<table border=\"1\" class=\"dataframe\">\n",
              "  <thead>\n",
              "    <tr style=\"text-align: right;\">\n",
              "      <th></th>\n",
              "      <th>age</th>\n",
              "      <th>sex</th>\n",
              "      <th>bmi</th>\n",
              "      <th>children</th>\n",
              "      <th>smoker</th>\n",
              "      <th>region</th>\n",
              "      <th>charges</th>\n",
              "    </tr>\n",
              "  </thead>\n",
              "  <tbody>\n",
              "    <tr>\n",
              "      <th>0</th>\n",
              "      <td>19</td>\n",
              "      <td>female</td>\n",
              "      <td>27.900</td>\n",
              "      <td>0</td>\n",
              "      <td>yes</td>\n",
              "      <td>southwest</td>\n",
              "      <td>16884.92400</td>\n",
              "    </tr>\n",
              "    <tr>\n",
              "      <th>1</th>\n",
              "      <td>18</td>\n",
              "      <td>male</td>\n",
              "      <td>33.770</td>\n",
              "      <td>1</td>\n",
              "      <td>no</td>\n",
              "      <td>southeast</td>\n",
              "      <td>1725.55230</td>\n",
              "    </tr>\n",
              "    <tr>\n",
              "      <th>2</th>\n",
              "      <td>28</td>\n",
              "      <td>male</td>\n",
              "      <td>33.000</td>\n",
              "      <td>3</td>\n",
              "      <td>no</td>\n",
              "      <td>southeast</td>\n",
              "      <td>4449.46200</td>\n",
              "    </tr>\n",
              "    <tr>\n",
              "      <th>3</th>\n",
              "      <td>33</td>\n",
              "      <td>male</td>\n",
              "      <td>22.705</td>\n",
              "      <td>0</td>\n",
              "      <td>no</td>\n",
              "      <td>northwest</td>\n",
              "      <td>21984.47061</td>\n",
              "    </tr>\n",
              "    <tr>\n",
              "      <th>4</th>\n",
              "      <td>32</td>\n",
              "      <td>male</td>\n",
              "      <td>28.880</td>\n",
              "      <td>0</td>\n",
              "      <td>no</td>\n",
              "      <td>northwest</td>\n",
              "      <td>3866.85520</td>\n",
              "    </tr>\n",
              "    <tr>\n",
              "      <th>...</th>\n",
              "      <td>...</td>\n",
              "      <td>...</td>\n",
              "      <td>...</td>\n",
              "      <td>...</td>\n",
              "      <td>...</td>\n",
              "      <td>...</td>\n",
              "      <td>...</td>\n",
              "    </tr>\n",
              "    <tr>\n",
              "      <th>1333</th>\n",
              "      <td>50</td>\n",
              "      <td>male</td>\n",
              "      <td>30.970</td>\n",
              "      <td>3</td>\n",
              "      <td>no</td>\n",
              "      <td>northwest</td>\n",
              "      <td>10600.54830</td>\n",
              "    </tr>\n",
              "    <tr>\n",
              "      <th>1334</th>\n",
              "      <td>18</td>\n",
              "      <td>female</td>\n",
              "      <td>31.920</td>\n",
              "      <td>0</td>\n",
              "      <td>no</td>\n",
              "      <td>northeast</td>\n",
              "      <td>2205.98080</td>\n",
              "    </tr>\n",
              "    <tr>\n",
              "      <th>1335</th>\n",
              "      <td>18</td>\n",
              "      <td>female</td>\n",
              "      <td>36.850</td>\n",
              "      <td>0</td>\n",
              "      <td>no</td>\n",
              "      <td>southeast</td>\n",
              "      <td>1629.83350</td>\n",
              "    </tr>\n",
              "    <tr>\n",
              "      <th>1336</th>\n",
              "      <td>21</td>\n",
              "      <td>female</td>\n",
              "      <td>25.800</td>\n",
              "      <td>0</td>\n",
              "      <td>no</td>\n",
              "      <td>southwest</td>\n",
              "      <td>2007.94500</td>\n",
              "    </tr>\n",
              "    <tr>\n",
              "      <th>1337</th>\n",
              "      <td>61</td>\n",
              "      <td>female</td>\n",
              "      <td>29.070</td>\n",
              "      <td>0</td>\n",
              "      <td>yes</td>\n",
              "      <td>northwest</td>\n",
              "      <td>29141.36030</td>\n",
              "    </tr>\n",
              "  </tbody>\n",
              "</table>\n",
              "<p>1338 rows × 7 columns</p>\n",
              "</div>\n",
              "      <button class=\"colab-df-convert\" onclick=\"convertToInteractive('df-2fbfac19-6e71-4591-a2f1-4fc51b1ba127')\"\n",
              "              title=\"Convert this dataframe to an interactive table.\"\n",
              "              style=\"display:none;\">\n",
              "        \n",
              "  <svg xmlns=\"http://www.w3.org/2000/svg\" height=\"24px\"viewBox=\"0 0 24 24\"\n",
              "       width=\"24px\">\n",
              "    <path d=\"M0 0h24v24H0V0z\" fill=\"none\"/>\n",
              "    <path d=\"M18.56 5.44l.94 2.06.94-2.06 2.06-.94-2.06-.94-.94-2.06-.94 2.06-2.06.94zm-11 1L8.5 8.5l.94-2.06 2.06-.94-2.06-.94L8.5 2.5l-.94 2.06-2.06.94zm10 10l.94 2.06.94-2.06 2.06-.94-2.06-.94-.94-2.06-.94 2.06-2.06.94z\"/><path d=\"M17.41 7.96l-1.37-1.37c-.4-.4-.92-.59-1.43-.59-.52 0-1.04.2-1.43.59L10.3 9.45l-7.72 7.72c-.78.78-.78 2.05 0 2.83L4 21.41c.39.39.9.59 1.41.59.51 0 1.02-.2 1.41-.59l7.78-7.78 2.81-2.81c.8-.78.8-2.07 0-2.86zM5.41 20L4 18.59l7.72-7.72 1.47 1.35L5.41 20z\"/>\n",
              "  </svg>\n",
              "      </button>\n",
              "      \n",
              "  <style>\n",
              "    .colab-df-container {\n",
              "      display:flex;\n",
              "      flex-wrap:wrap;\n",
              "      gap: 12px;\n",
              "    }\n",
              "\n",
              "    .colab-df-convert {\n",
              "      background-color: #E8F0FE;\n",
              "      border: none;\n",
              "      border-radius: 50%;\n",
              "      cursor: pointer;\n",
              "      display: none;\n",
              "      fill: #1967D2;\n",
              "      height: 32px;\n",
              "      padding: 0 0 0 0;\n",
              "      width: 32px;\n",
              "    }\n",
              "\n",
              "    .colab-df-convert:hover {\n",
              "      background-color: #E2EBFA;\n",
              "      box-shadow: 0px 1px 2px rgba(60, 64, 67, 0.3), 0px 1px 3px 1px rgba(60, 64, 67, 0.15);\n",
              "      fill: #174EA6;\n",
              "    }\n",
              "\n",
              "    [theme=dark] .colab-df-convert {\n",
              "      background-color: #3B4455;\n",
              "      fill: #D2E3FC;\n",
              "    }\n",
              "\n",
              "    [theme=dark] .colab-df-convert:hover {\n",
              "      background-color: #434B5C;\n",
              "      box-shadow: 0px 1px 3px 1px rgba(0, 0, 0, 0.15);\n",
              "      filter: drop-shadow(0px 1px 2px rgba(0, 0, 0, 0.3));\n",
              "      fill: #FFFFFF;\n",
              "    }\n",
              "  </style>\n",
              "\n",
              "      <script>\n",
              "        const buttonEl =\n",
              "          document.querySelector('#df-2fbfac19-6e71-4591-a2f1-4fc51b1ba127 button.colab-df-convert');\n",
              "        buttonEl.style.display =\n",
              "          google.colab.kernel.accessAllowed ? 'block' : 'none';\n",
              "\n",
              "        async function convertToInteractive(key) {\n",
              "          const element = document.querySelector('#df-2fbfac19-6e71-4591-a2f1-4fc51b1ba127');\n",
              "          const dataTable =\n",
              "            await google.colab.kernel.invokeFunction('convertToInteractive',\n",
              "                                                     [key], {});\n",
              "          if (!dataTable) return;\n",
              "\n",
              "          const docLinkHtml = 'Like what you see? Visit the ' +\n",
              "            '<a target=\"_blank\" href=https://colab.research.google.com/notebooks/data_table.ipynb>data table notebook</a>'\n",
              "            + ' to learn more about interactive tables.';\n",
              "          element.innerHTML = '';\n",
              "          dataTable['output_type'] = 'display_data';\n",
              "          await google.colab.output.renderOutput(dataTable, element);\n",
              "          const docLink = document.createElement('div');\n",
              "          docLink.innerHTML = docLinkHtml;\n",
              "          element.appendChild(docLink);\n",
              "        }\n",
              "      </script>\n",
              "    </div>\n",
              "  </div>\n",
              "  "
            ]
          },
          "metadata": {},
          "execution_count": 24
        }
      ]
    },
    {
      "cell_type": "markdown",
      "source": [
        "To prepare our data we can borrow a few classes from scikit learn:\n",
        "\n"
      ],
      "metadata": {
        "id": "YpSE9nmf0w9M"
      }
    },
    {
      "cell_type": "code",
      "source": [
        "from sklearn.compose import make_column_transformer\n",
        "from sklearn.preprocessing import MinMaxScaler,OneHotEncoder\n",
        "\n",
        "#create a column transformer\n",
        "ct=make_column_transformer(\n",
        "    (MinMaxScaler(),[\"age\",\"bmi\",\"children\"]),#turn all these columns into normalized=turn all between 0 and 1\n",
        "    (OneHotEncoder(handle_unknown=\"ignore\"),[\"sex\",\"smoker\",\"region\"])\n",
        " )\n",
        "\n",
        "#Create our X and y values\n",
        "X=insurance.drop(\"charges\",axis=1)\n",
        "y=insurance[\"charges\"]\n",
        "\n",
        "#build our train and test splits\n",
        "from sklearn.model_selection import train_test_split\n",
        "\n",
        "X_train,X_test,y_train,y_test=train_test_split(X,y,\n",
        "                                               test_size=0.2,\n",
        "                                               random_state=42)\n",
        "\n",
        "#fit our column transformer to our traiing data\n",
        "ct.fit(X_train)\n",
        "\n",
        "#transforming training and test data with normalization (minmaxscaler) and onehotencoder\n",
        "X_train_normal=ct.transform(X_train)\n",
        "X_test_normal=ct.transform(X_test)"
      ],
      "metadata": {
        "id": "c3CWcByf0uJy"
      },
      "execution_count": null,
      "outputs": []
    },
    {
      "cell_type": "code",
      "source": [
        "#what does our data look like now?\n",
        "X_train.loc[0]"
      ],
      "metadata": {
        "colab": {
          "base_uri": "https://localhost:8080/"
        },
        "id": "hoUrci9b3t4L",
        "outputId": "032e0de0-c0e5-4f2a-b7d7-6076fc5d9851"
      },
      "execution_count": null,
      "outputs": [
        {
          "output_type": "execute_result",
          "data": {
            "text/plain": [
              "age                19\n",
              "sex            female\n",
              "bmi              27.9\n",
              "children            0\n",
              "smoker            yes\n",
              "region      southwest\n",
              "Name: 0, dtype: object"
            ]
          },
          "metadata": {},
          "execution_count": 32
        }
      ]
    },
    {
      "cell_type": "code",
      "source": [
        "X_train_normal[0]"
      ],
      "metadata": {
        "colab": {
          "base_uri": "https://localhost:8080/"
        },
        "id": "JOY514Pz336S",
        "outputId": "fea3e49b-841d-47f6-faf4-1c040404febe"
      },
      "execution_count": null,
      "outputs": [
        {
          "output_type": "execute_result",
          "data": {
            "text/plain": [
              "array([0.60869565, 0.10734463, 0.4       , 1.        , 0.        ,\n",
              "       1.        , 0.        , 0.        , 1.        , 0.        ,\n",
              "       0.        ])"
            ]
          },
          "metadata": {},
          "execution_count": 33
        }
      ]
    },
    {
      "cell_type": "code",
      "source": [
        "X_train.shape,X_train_normal.shape"
      ],
      "metadata": {
        "colab": {
          "base_uri": "https://localhost:8080/"
        },
        "id": "J-hZYpMS3_9S",
        "outputId": "9f25dcc9-735b-4fe2-c8a9-df807e715b4e"
      },
      "execution_count": null,
      "outputs": [
        {
          "output_type": "execute_result",
          "data": {
            "text/plain": [
              "((1070, 6), (1070, 11))"
            ]
          },
          "metadata": {},
          "execution_count": 34
        }
      ]
    },
    {
      "cell_type": "markdown",
      "source": [
        "Now our data is normalized and one hot encoded. lets build our neural netowrk model to fit on our normalized data"
      ],
      "metadata": {
        "id": "6AawUIg24hfV"
      }
    },
    {
      "cell_type": "code",
      "source": [
        "# set random seed\n",
        "tf.random.set_seed(42)\n",
        "\n",
        "#1 create the model\n",
        "insurance_model_4=tf.keras.Sequential([\n",
        "    tf.keras.layers.Dense(100),\n",
        "    tf.keras.layers.Dense(10),\n",
        "    tf.keras.layers.Dense(1)\n",
        "])\n",
        "\n",
        "#2 compile the model\n",
        "insurance_model_4.compile(loss=tf.keras.losses.mae,\n",
        "                          optimizer=tf.keras.optimizers.Adam(),\n",
        "                          metrics=[\"mae\"])\n",
        "\n",
        "#3 fit the model\n",
        "insurance_model_4.fit(tf.expand_dims(X_train_normal, axis=-1), y_train, epochs=100)\n"
      ],
      "metadata": {
        "colab": {
          "base_uri": "https://localhost:8080/"
        },
        "id": "a1dfRuRM4g6U",
        "outputId": "d416bd46-34eb-4f69-9490-be0dfb48956a"
      },
      "execution_count": null,
      "outputs": [
        {
          "output_type": "stream",
          "name": "stdout",
          "text": [
            "Epoch 1/100\n",
            "34/34 [==============================] - 2s 4ms/step - loss: 13345.4717 - mae: 13345.4717\n",
            "Epoch 2/100\n",
            "34/34 [==============================] - 0s 4ms/step - loss: 13342.7598 - mae: 13342.7598\n",
            "Epoch 3/100\n",
            "34/34 [==============================] - 0s 4ms/step - loss: 13336.5908 - mae: 13336.5908\n",
            "Epoch 4/100\n",
            "34/34 [==============================] - 0s 3ms/step - loss: 13323.8018 - mae: 13323.8018\n",
            "Epoch 5/100\n",
            "34/34 [==============================] - 0s 3ms/step - loss: 13300.8652 - mae: 13300.8652\n",
            "Epoch 6/100\n",
            "34/34 [==============================] - 0s 3ms/step - loss: 13264.5146 - mae: 13264.5146\n",
            "Epoch 7/100\n",
            "34/34 [==============================] - 0s 4ms/step - loss: 13211.9346 - mae: 13211.9346\n",
            "Epoch 8/100\n",
            "34/34 [==============================] - 0s 3ms/step - loss: 13140.4766 - mae: 13140.4766\n",
            "Epoch 9/100\n",
            "34/34 [==============================] - 0s 3ms/step - loss: 13047.5049 - mae: 13047.5049\n",
            "Epoch 10/100\n",
            "34/34 [==============================] - 0s 3ms/step - loss: 12930.5107 - mae: 12930.5107\n",
            "Epoch 11/100\n",
            "34/34 [==============================] - 0s 3ms/step - loss: 12787.0352 - mae: 12787.0352\n",
            "Epoch 12/100\n",
            "34/34 [==============================] - 0s 4ms/step - loss: 12614.7900 - mae: 12614.7900\n",
            "Epoch 13/100\n",
            "34/34 [==============================] - 0s 3ms/step - loss: 12413.9619 - mae: 12413.9619\n",
            "Epoch 14/100\n",
            "34/34 [==============================] - 0s 3ms/step - loss: 12185.0322 - mae: 12185.0322\n",
            "Epoch 15/100\n",
            "34/34 [==============================] - 0s 3ms/step - loss: 11935.9775 - mae: 11935.9775\n",
            "Epoch 16/100\n",
            "34/34 [==============================] - 0s 3ms/step - loss: 11669.9268 - mae: 11669.9268\n",
            "Epoch 17/100\n",
            "34/34 [==============================] - 0s 2ms/step - loss: 11391.6289 - mae: 11391.6289\n",
            "Epoch 18/100\n",
            "34/34 [==============================] - 0s 2ms/step - loss: 11102.6396 - mae: 11102.6396\n",
            "Epoch 19/100\n",
            "34/34 [==============================] - 0s 2ms/step - loss: 10814.7607 - mae: 10814.7607\n",
            "Epoch 20/100\n",
            "34/34 [==============================] - 0s 3ms/step - loss: 10538.2188 - mae: 10538.2188\n",
            "Epoch 21/100\n",
            "34/34 [==============================] - 0s 2ms/step - loss: 10273.8877 - mae: 10273.8877\n",
            "Epoch 22/100\n",
            "34/34 [==============================] - 0s 2ms/step - loss: 10023.5811 - mae: 10023.5811\n",
            "Epoch 23/100\n",
            "34/34 [==============================] - 0s 2ms/step - loss: 9787.1895 - mae: 9787.1895\n",
            "Epoch 24/100\n",
            "34/34 [==============================] - 0s 3ms/step - loss: 9566.5928 - mae: 9566.5928\n",
            "Epoch 25/100\n",
            "34/34 [==============================] - 0s 2ms/step - loss: 9380.8350 - mae: 9380.8350\n",
            "Epoch 26/100\n",
            "34/34 [==============================] - 0s 2ms/step - loss: 9207.0303 - mae: 9207.0303\n",
            "Epoch 27/100\n",
            "34/34 [==============================] - 0s 2ms/step - loss: 9064.4600 - mae: 9064.4600\n",
            "Epoch 28/100\n",
            "34/34 [==============================] - 0s 2ms/step - loss: 8945.8691 - mae: 8945.8691\n",
            "Epoch 29/100\n",
            "34/34 [==============================] - 0s 2ms/step - loss: 8850.0381 - mae: 8850.0381\n",
            "Epoch 30/100\n",
            "34/34 [==============================] - 0s 2ms/step - loss: 8773.9482 - mae: 8773.9482\n",
            "Epoch 31/100\n",
            "34/34 [==============================] - 0s 3ms/step - loss: 8713.2090 - mae: 8713.2090\n",
            "Epoch 32/100\n",
            "34/34 [==============================] - 0s 2ms/step - loss: 8669.1182 - mae: 8669.1182\n",
            "Epoch 33/100\n",
            "34/34 [==============================] - 0s 3ms/step - loss: 8633.0615 - mae: 8633.0615\n",
            "Epoch 34/100\n",
            "34/34 [==============================] - 0s 2ms/step - loss: 8605.8467 - mae: 8605.8467\n",
            "Epoch 35/100\n",
            "34/34 [==============================] - 0s 2ms/step - loss: 8583.2500 - mae: 8583.2500\n",
            "Epoch 36/100\n",
            "34/34 [==============================] - 0s 2ms/step - loss: 8564.7939 - mae: 8564.7939\n",
            "Epoch 37/100\n",
            "34/34 [==============================] - 0s 2ms/step - loss: 8549.9082 - mae: 8549.9082\n",
            "Epoch 38/100\n",
            "34/34 [==============================] - 0s 2ms/step - loss: 8537.2939 - mae: 8537.2939\n",
            "Epoch 39/100\n",
            "34/34 [==============================] - 0s 2ms/step - loss: 8525.0234 - mae: 8525.0234\n",
            "Epoch 40/100\n",
            "34/34 [==============================] - 0s 2ms/step - loss: 8514.2217 - mae: 8514.2217\n",
            "Epoch 41/100\n",
            "34/34 [==============================] - 0s 2ms/step - loss: 8504.6377 - mae: 8504.6377\n",
            "Epoch 42/100\n",
            "34/34 [==============================] - 0s 3ms/step - loss: 8495.0156 - mae: 8495.0156\n",
            "Epoch 43/100\n",
            "34/34 [==============================] - 0s 3ms/step - loss: 8485.6240 - mae: 8485.6240\n",
            "Epoch 44/100\n",
            "34/34 [==============================] - 0s 2ms/step - loss: 8476.2666 - mae: 8476.2666\n",
            "Epoch 45/100\n",
            "34/34 [==============================] - 0s 3ms/step - loss: 8468.1260 - mae: 8468.1260\n",
            "Epoch 46/100\n",
            "34/34 [==============================] - 0s 2ms/step - loss: 8459.6914 - mae: 8459.6914\n",
            "Epoch 47/100\n",
            "34/34 [==============================] - 0s 2ms/step - loss: 8452.8877 - mae: 8452.8877\n",
            "Epoch 48/100\n",
            "34/34 [==============================] - 0s 2ms/step - loss: 8443.4375 - mae: 8443.4375\n",
            "Epoch 49/100\n",
            "34/34 [==============================] - 0s 2ms/step - loss: 8436.5156 - mae: 8436.5156\n",
            "Epoch 50/100\n",
            "34/34 [==============================] - 0s 2ms/step - loss: 8428.8174 - mae: 8428.8174\n",
            "Epoch 51/100\n",
            "34/34 [==============================] - 0s 3ms/step - loss: 8424.0771 - mae: 8424.0771\n",
            "Epoch 52/100\n",
            "34/34 [==============================] - 0s 2ms/step - loss: 8415.7715 - mae: 8415.7715\n",
            "Epoch 53/100\n",
            "34/34 [==============================] - 0s 2ms/step - loss: 8409.8857 - mae: 8409.8857\n",
            "Epoch 54/100\n",
            "34/34 [==============================] - 0s 3ms/step - loss: 8403.9238 - mae: 8403.9238\n",
            "Epoch 55/100\n",
            "34/34 [==============================] - 0s 2ms/step - loss: 8398.1885 - mae: 8398.1885\n",
            "Epoch 56/100\n",
            "34/34 [==============================] - 0s 2ms/step - loss: 8392.3037 - mae: 8392.3037\n",
            "Epoch 57/100\n",
            "34/34 [==============================] - 0s 2ms/step - loss: 8386.8779 - mae: 8386.8779\n",
            "Epoch 58/100\n",
            "34/34 [==============================] - 0s 2ms/step - loss: 8381.8340 - mae: 8381.8340\n",
            "Epoch 59/100\n",
            "34/34 [==============================] - 0s 2ms/step - loss: 8377.5898 - mae: 8377.5898\n",
            "Epoch 60/100\n",
            "34/34 [==============================] - 0s 3ms/step - loss: 8372.1602 - mae: 8372.1602\n",
            "Epoch 61/100\n",
            "34/34 [==============================] - 0s 2ms/step - loss: 8367.8779 - mae: 8367.8779\n",
            "Epoch 62/100\n",
            "34/34 [==============================] - 0s 2ms/step - loss: 8362.8916 - mae: 8362.8916\n",
            "Epoch 63/100\n",
            "34/34 [==============================] - 0s 3ms/step - loss: 8359.0156 - mae: 8359.0156\n",
            "Epoch 64/100\n",
            "34/34 [==============================] - 0s 2ms/step - loss: 8354.6416 - mae: 8354.6416\n",
            "Epoch 65/100\n",
            "34/34 [==============================] - 0s 2ms/step - loss: 8350.8301 - mae: 8350.8301\n",
            "Epoch 66/100\n",
            "34/34 [==============================] - 0s 3ms/step - loss: 8347.1191 - mae: 8347.1191\n",
            "Epoch 67/100\n",
            "34/34 [==============================] - 0s 3ms/step - loss: 8343.4609 - mae: 8343.4609\n",
            "Epoch 68/100\n",
            "34/34 [==============================] - 0s 2ms/step - loss: 8339.6885 - mae: 8339.6885\n",
            "Epoch 69/100\n",
            "34/34 [==============================] - 0s 2ms/step - loss: 8336.1328 - mae: 8336.1328\n",
            "Epoch 70/100\n",
            "34/34 [==============================] - 0s 2ms/step - loss: 8333.3496 - mae: 8333.3496\n",
            "Epoch 71/100\n",
            "34/34 [==============================] - 0s 2ms/step - loss: 8329.6240 - mae: 8329.6240\n",
            "Epoch 72/100\n",
            "34/34 [==============================] - 0s 2ms/step - loss: 8326.7822 - mae: 8326.7822\n",
            "Epoch 73/100\n",
            "34/34 [==============================] - 0s 2ms/step - loss: 8323.3721 - mae: 8323.3721\n",
            "Epoch 74/100\n",
            "34/34 [==============================] - 0s 2ms/step - loss: 8320.5420 - mae: 8320.5420\n",
            "Epoch 75/100\n",
            "34/34 [==============================] - 0s 3ms/step - loss: 8317.7051 - mae: 8317.7051\n",
            "Epoch 76/100\n",
            "34/34 [==============================] - 0s 2ms/step - loss: 8315.8262 - mae: 8315.8262\n",
            "Epoch 77/100\n",
            "34/34 [==============================] - 0s 3ms/step - loss: 8312.8418 - mae: 8312.8418\n",
            "Epoch 78/100\n",
            "34/34 [==============================] - 0s 3ms/step - loss: 8310.7959 - mae: 8310.7959\n",
            "Epoch 79/100\n",
            "34/34 [==============================] - 0s 2ms/step - loss: 8308.2715 - mae: 8308.2715\n",
            "Epoch 80/100\n",
            "34/34 [==============================] - 0s 2ms/step - loss: 8306.0361 - mae: 8306.0361\n",
            "Epoch 81/100\n",
            "34/34 [==============================] - 0s 3ms/step - loss: 8304.1426 - mae: 8304.1426\n",
            "Epoch 82/100\n",
            "34/34 [==============================] - 0s 2ms/step - loss: 8305.3721 - mae: 8305.3721\n",
            "Epoch 83/100\n",
            "34/34 [==============================] - 0s 2ms/step - loss: 8301.4619 - mae: 8301.4619\n",
            "Epoch 84/100\n",
            "34/34 [==============================] - 0s 2ms/step - loss: 8298.7646 - mae: 8298.7646\n",
            "Epoch 85/100\n",
            "34/34 [==============================] - 0s 2ms/step - loss: 8298.7842 - mae: 8298.7842\n",
            "Epoch 86/100\n",
            "34/34 [==============================] - 0s 2ms/step - loss: 8296.4473 - mae: 8296.4473\n",
            "Epoch 87/100\n",
            "34/34 [==============================] - 0s 2ms/step - loss: 8295.5439 - mae: 8295.5439\n",
            "Epoch 88/100\n",
            "34/34 [==============================] - 0s 2ms/step - loss: 8293.8047 - mae: 8293.8047\n",
            "Epoch 89/100\n",
            "34/34 [==============================] - 0s 2ms/step - loss: 8292.6240 - mae: 8292.6240\n",
            "Epoch 90/100\n",
            "34/34 [==============================] - 0s 2ms/step - loss: 8292.9385 - mae: 8292.9385\n",
            "Epoch 91/100\n",
            "34/34 [==============================] - 0s 2ms/step - loss: 8290.7285 - mae: 8290.7285\n",
            "Epoch 92/100\n",
            "34/34 [==============================] - 0s 3ms/step - loss: 8290.7373 - mae: 8290.7373\n",
            "Epoch 93/100\n",
            "34/34 [==============================] - 0s 2ms/step - loss: 8289.5664 - mae: 8289.5664\n",
            "Epoch 94/100\n",
            "34/34 [==============================] - 0s 2ms/step - loss: 8289.4834 - mae: 8289.4834\n",
            "Epoch 95/100\n",
            "34/34 [==============================] - 0s 2ms/step - loss: 8288.7979 - mae: 8288.7979\n",
            "Epoch 96/100\n",
            "34/34 [==============================] - 0s 2ms/step - loss: 8287.2275 - mae: 8287.2275\n",
            "Epoch 97/100\n",
            "34/34 [==============================] - 0s 2ms/step - loss: 8287.6016 - mae: 8287.6016\n",
            "Epoch 98/100\n",
            "34/34 [==============================] - 0s 2ms/step - loss: 8286.2812 - mae: 8286.2812\n",
            "Epoch 99/100\n",
            "34/34 [==============================] - 0s 2ms/step - loss: 8286.3154 - mae: 8286.3154\n",
            "Epoch 100/100\n",
            "34/34 [==============================] - 0s 3ms/step - loss: 8285.2842 - mae: 8285.2842\n"
          ]
        },
        {
          "output_type": "execute_result",
          "data": {
            "text/plain": [
              "<keras.callbacks.History at 0x7feddbc2a1d0>"
            ]
          },
          "metadata": {},
          "execution_count": 36
        }
      ]
    },
    {
      "cell_type": "code",
      "source": [
        "#evaluate our insurance model on normalized data\n",
        "insurance_model_4.evaluate(X_test_normal,y_test)"
      ],
      "metadata": {
        "colab": {
          "base_uri": "https://localhost:8080/"
        },
        "id": "muJacyZB5tw3",
        "outputId": "4e07d838-a1a4-4108-bf91-421e4d8f5928"
      },
      "execution_count": null,
      "outputs": [
        {
          "output_type": "stream",
          "name": "stdout",
          "text": [
            "9/9 [==============================] - 1s 5ms/step - loss: 8621.6914 - mae: 8621.6914\n"
          ]
        },
        {
          "output_type": "execute_result",
          "data": {
            "text/plain": [
              "[8621.69140625, 8621.69140625]"
            ]
          },
          "metadata": {},
          "execution_count": 37
        }
      ]
    },
    {
      "cell_type": "code",
      "source": [
        "#build a neural network (practice)\n",
        "tf.random.set_seed(42)\n",
        "\n",
        "#find number of features\n",
        "features=X_train_normal[0].shape\n",
        "\n",
        "#1 create a model\n",
        "insurance_model_5=tf.keras.Sequential([\n",
        "    tf.keras.layers.Dense(10,input_shape=(features)),\n",
        "    tf.keras.layers.Dense(1)\n",
        "])\n",
        "\n",
        "#2 compile the model\n",
        "insurance_model_5.compile(loss=tf.keras.losses.mae,\n",
        "                        optimizer=tf.keras.optimizers.SGD(),\n",
        "                        metrics=[\"mae\"])\n"
      ],
      "metadata": {
        "id": "9n33OQFtTZz3"
      },
      "execution_count": null,
      "outputs": []
    },
    {
      "cell_type": "code",
      "source": [
        "#3 fit the model\n",
        "insurance_model_5.fit(tf.expand_dims(X_train_normal, axis=-1), y_train, epochs=100,verbose=0)"
      ],
      "metadata": {
        "colab": {
          "base_uri": "https://localhost:8080/"
        },
        "id": "jVOOhymcygDx",
        "outputId": "c4fe0599-cb24-4af4-cbd1-f06b94ba1751"
      },
      "execution_count": null,
      "outputs": [
        {
          "output_type": "execute_result",
          "data": {
            "text/plain": [
              "<keras.callbacks.History at 0x7f777eb1f250>"
            ]
          },
          "metadata": {},
          "execution_count": 49
        }
      ]
    },
    {
      "cell_type": "code",
      "source": [
        "insurance_model_5.summary()"
      ],
      "metadata": {
        "colab": {
          "base_uri": "https://localhost:8080/"
        },
        "id": "TcBdiGwzzS7K",
        "outputId": "f28c560d-5b93-457a-c135-7400e7eb04b5"
      },
      "execution_count": null,
      "outputs": [
        {
          "output_type": "stream",
          "name": "stdout",
          "text": [
            "Model: \"sequential_9\"\n",
            "_________________________________________________________________\n",
            " Layer (type)                Output Shape              Param #   \n",
            "=================================================================\n",
            " dense_18 (Dense)            (None, 10)                120       \n",
            "                                                                 \n",
            " dense_19 (Dense)            (None, 1)                 11        \n",
            "                                                                 \n",
            "=================================================================\n",
            "Total params: 131\n",
            "Trainable params: 131\n",
            "Non-trainable params: 0\n",
            "_________________________________________________________________\n"
          ]
        }
      ]
    }
  ]
}