{
  "nbformat": 4,
  "nbformat_minor": 0,
  "metadata": {
    "colab": {
      "provenance": [],
      "authorship_tag": "ABX9TyNj7ZSc1wgerzAI6Wtsc4Jg",
      "include_colab_link": true
    },
    "kernelspec": {
      "name": "python3",
      "display_name": "Python 3"
    },
    "language_info": {
      "name": "python"
    }
  },
  "cells": [
    {
      "cell_type": "markdown",
      "metadata": {
        "id": "view-in-github",
        "colab_type": "text"
      },
      "source": [
        "<a href=\"https://colab.research.google.com/github/stephenbrutch/Python-Machine-Learning-Tutorial-Codes/blob/main/00_tensorflow_fundamentals.ipynb\" target=\"_parent\"><img src=\"https://colab.research.google.com/assets/colab-badge.svg\" alt=\"Open In Colab\"/></a>"
      ]
    },
    {
      "cell_type": "markdown",
      "source": [
        "Link: https://www.youtube.com/watch?v=tpCFfeUEGs8 . Will cover most fundamental concepts of tensors using Tensorflow. More specifcally going to cover:\n",
        "1.   Introduction to tensors\n",
        "2.   Getting information from tensors\n",
        "3.   Manipulating tensors\n",
        "4.   Tensors and NumPy\n",
        "5.   Using @tf.function(a way to speed up your regular python functions)\n",
        "6.   Using GPUs with TensorFlow\n",
        "7.   Exercises to try\n",
        "\n"
      ],
      "metadata": {
        "id": "Zi2Fql1ivrp4"
      }
    },
    {
      "cell_type": "code",
      "execution_count": null,
      "metadata": {
        "colab": {
          "base_uri": "https://localhost:8080/"
        },
        "id": "KZiUBhClvi3_",
        "outputId": "0255ac00-fd04-42e8-85f5-a688d0c46d4c"
      },
      "outputs": [
        {
          "output_type": "stream",
          "name": "stdout",
          "text": [
            "2.12.0\n"
          ]
        },
        {
          "output_type": "execute_result",
          "data": {
            "text/plain": [
              "3"
            ]
          },
          "metadata": {},
          "execution_count": 2
        }
      ],
      "source": [
        "#INTRO TO TENSORS\n",
        "#######################################\n",
        "\n",
        "\n",
        "#Import TensorFlow\n",
        "import tensorflow as tf\n",
        "print(tf.__version__)\n",
        "\n",
        "#Create tensors with tf.constant()\n",
        "scalar=tf.constant(7)\n",
        "scalar\n",
        "\n",
        "#Check the number of dimensions of a tensor (ndim stands for number of dimensions)\n",
        "scalar.ndim\n",
        "\n",
        "#Create a vector\n",
        "vector=tf.constant([10,10])\n",
        "vector\n",
        "\n",
        "#Check the dimensions of the vector\n",
        "vector.ndim\n",
        "\n",
        "#Create a matrix (has more than 1 dimension)\n",
        "matrix=tf.constant([[10,7],\n",
        "                    [7,10]])\n",
        "matrix\n",
        "\n",
        "#check the  number of dimensions of a vector\n",
        "matrix.ndim\n",
        "\n",
        "#Create another matrix\n",
        "another_matrix=tf.constant([[10.,7.],\n",
        "                            [3.,2.],\n",
        "                            [8.,9.]],dtype=tf.float16) #specifc the data type with dtype\n",
        "another_matrix\n",
        "\n",
        "#Whats the dimensions of another matrix\n",
        "another_matrix.ndim\n",
        "\n",
        "#Lets create a tensor\n",
        "tensor=tf.constant([[[1,2,3],\n",
        "                    [4,5,6],\n",
        "                    [7,8,9],\n",
        "                    [10,11,12],\n",
        "                    [13,14,15],\n",
        "                    [16,17,18]]])\n",
        "tensor\n",
        "tensor.ndim\n",
        "\n"
      ]
    },
    {
      "cell_type": "markdown",
      "source": [
        "Analysis of Lines (1-50)\n",
        "\n",
        "1.   Scalar is a single number\n",
        "2.   Vector is a number with direction\n",
        "3.   Matrix is a 2-dimensional array of numbers\n",
        "4.   Tensor is a n-dimensional array of numbers (where n can be any number, a 0-dimensional tensor is a scalar, a 1-dimensional tensor is a vector)\n",
        "\n"
      ],
      "metadata": {
        "id": "ErW0zpgFhIbr"
      }
    },
    {
      "cell_type": "code",
      "source": [
        "#Creating tensors with tf.variable\n",
        "\n",
        "\n",
        "#Create the same tensor with tf.variable as above\n",
        "changeable_tensor=tf.Variable([10,7])\n",
        "unchangeable_tensor=tf.constant([10,7])\n",
        "changeable_tensor,unchangeable_tensor\n",
        "\n",
        "#Lets change one of the elements in our changeable tensor\n",
        "changeable_tensor[0].assign(7) #need to use .assign\n",
        "\n",
        "\n",
        "#unchangebale tensors using tf.constant can not be changed using .assign()"
      ],
      "metadata": {
        "colab": {
          "base_uri": "https://localhost:8080/"
        },
        "id": "58y2AYhLb52T",
        "outputId": "ba50ded5-df13-44c4-a99c-956c3292faff"
      },
      "execution_count": null,
      "outputs": [
        {
          "output_type": "execute_result",
          "data": {
            "text/plain": [
              "<tf.Variable 'UnreadVariable' shape=(2,) dtype=int32, numpy=array([7, 7], dtype=int32)>"
            ]
          },
          "metadata": {},
          "execution_count": 3
        }
      ]
    },
    {
      "cell_type": "code",
      "source": [
        "#Create random tensors\n",
        "random_1=tf.random.Generator.from_seed(42) #set seed for reproducibility\n",
        "random_1=random_1.normal(shape=(3,2))\n",
        "random_2=tf.random.Generator.from_seed(42)\n",
        "random_2=random_2.normal(shape=(3,2))\n",
        "\n",
        "#Check if they are equal\n",
        "random_1 , random_2 , random_1 == random_2 #they are equal because of .from_seed(n) where n is the same number for 2 different tensor variables. .set_seed=42 sets the random as the same thing\n",
        "\n",
        "#Shuffle the order of the tensor (ex. in case first 1000 images are pictures of bananas and next 1000 images are pictures of apples, the NN may learn what only bananas look like bc thats\n",
        "#what its only trained on == shuffle data so that it learns both at the same time)\n",
        "not_shuffled=tf.constant([[10,7],\n",
        "                         [3,4],\n",
        "                         [2,5]])\n",
        "\n",
        "#Shuffle our non_shuffled tensor\n",
        "tf.random.set_seed(42)\n",
        "tf.random.shuffle(not_shuffled,seed=42)\n",
        "#not_shuffled"
      ],
      "metadata": {
        "colab": {
          "base_uri": "https://localhost:8080/"
        },
        "id": "q11gXK7FmQr0",
        "outputId": "a064195e-b311-452d-81c9-cea2f68ec1d0"
      },
      "execution_count": null,
      "outputs": [
        {
          "output_type": "execute_result",
          "data": {
            "text/plain": [
              "<tf.Tensor: shape=(3, 2), dtype=int32, numpy=\n",
              "array([[10,  7],\n",
              "       [ 3,  4],\n",
              "       [ 2,  5]], dtype=int32)>"
            ]
          },
          "metadata": {},
          "execution_count": 4
        }
      ]
    },
    {
      "cell_type": "markdown",
      "source": [
        "Analysis of lines(1-19) above: If we want the shuffled tensors to be in the same order: set the global level random seed as well as the operation level random seed. ex:\n",
        "\n",
        "* tf.random.set_seed(42) #set global level random seed\n",
        "*   tensor1=tf.constant([define tensor])\n",
        "*   tensor1_shuffled=tf.random.shuffle(tensor1,seed=42) #set operator seed\n",
        "\n",
        "\n",
        "\n",
        "\n",
        "\n",
        "\n"
      ],
      "metadata": {
        "id": "l2ezbTtDDkfG"
      }
    },
    {
      "cell_type": "code",
      "source": [
        "#Other ways to make tensors\n",
        "#Create a tensor of all 1's\n",
        "tf.ones([10,7])\n",
        "\n",
        "#Create a tensor of all 0's\n",
        "tf.zeros(shape=(3,4))\n",
        "\n",
        "\n",
        "\n"
      ],
      "metadata": {
        "colab": {
          "base_uri": "https://localhost:8080/"
        },
        "id": "uISoHHXIEN3A",
        "outputId": "38514dff-56f9-49ac-bdd6-99d08b24bec3"
      },
      "execution_count": null,
      "outputs": [
        {
          "output_type": "execute_result",
          "data": {
            "text/plain": [
              "<tf.Tensor: shape=(3, 4), dtype=float32, numpy=\n",
              "array([[0., 0., 0., 0.],\n",
              "       [0., 0., 0., 0.],\n",
              "       [0., 0., 0., 0.]], dtype=float32)>"
            ]
          },
          "metadata": {},
          "execution_count": 5
        }
      ]
    },
    {
      "cell_type": "markdown",
      "source": [
        "The main difference between NumpPy arrays and TensorFlow tensors is that tensors can be run on a GPU (much faster for numerical computing)"
      ],
      "metadata": {
        "id": "vmp4IOG8G03D"
      }
    },
    {
      "cell_type": "code",
      "source": [
        "#You can also turn NumPy arrays into tensors\n",
        "import numpy as np\n",
        "numpy_A=np.arange(1,25,dtype=np.int32) #create a NumPy array between 1 and 25\n",
        "A=tf.constant(numpy_A,shape=(2,3,4)) #change form of numpy array into tensor\n",
        "B=tf.constant(numpy_A)\n",
        "A,B\n",
        "\n",
        "\n"
      ],
      "metadata": {
        "colab": {
          "base_uri": "https://localhost:8080/"
        },
        "id": "NyqhQ6scG1lb",
        "outputId": "c2567f0a-4236-4e2f-abdb-a4cbe6f2960d"
      },
      "execution_count": null,
      "outputs": [
        {
          "output_type": "execute_result",
          "data": {
            "text/plain": [
              "(<tf.Tensor: shape=(2, 3, 4), dtype=int32, numpy=\n",
              " array([[[ 1,  2,  3,  4],\n",
              "         [ 5,  6,  7,  8],\n",
              "         [ 9, 10, 11, 12]],\n",
              " \n",
              "        [[13, 14, 15, 16],\n",
              "         [17, 18, 19, 20],\n",
              "         [21, 22, 23, 24]]], dtype=int32)>,\n",
              " <tf.Tensor: shape=(24,), dtype=int32, numpy=\n",
              " array([ 1,  2,  3,  4,  5,  6,  7,  8,  9, 10, 11, 12, 13, 14, 15, 16, 17,\n",
              "        18, 19, 20, 21, 22, 23, 24], dtype=int32)>)"
            ]
          },
          "metadata": {},
          "execution_count": 6
        }
      ]
    },
    {
      "cell_type": "markdown",
      "source": [
        "\n",
        "\n",
        "1.   get a tensor shape: tensor.shape\n",
        "2.   get a tensor rank/# of tensor dimensions: tensor.ndim\n",
        "3.   access a particular dimension of a tensor: tensor[0], tensor[:,1]\n",
        "4.   get total number of items in a tensor: tf.size(tensor)\n",
        "\n"
      ],
      "metadata": {
        "id": "3EFK9DvoJxlw"
      }
    },
    {
      "cell_type": "code",
      "source": [
        "#Getting more information from tensors\n",
        "#Create a rank 4 tensor\n",
        "rank_4_tensor=tf.zeros(shape=(2,3,4,5)) #Think of tensors as a stack of matrices. 2 splits the 6 matrices into 2 matrices. 3 is the number of matrices in each. 4 is the number of rows in each. 5 is the number of columns in each\n",
        "rank_4_tensor #4 dimensions bc 4 numbers labeled (2,3,4,5)\n",
        "rank_4_tensor.shape,rank_4_tensor.ndim,tf.size(rank_4_tensor)\n",
        "\n",
        "#Get various attribute of our tensor\n",
        "print(\"datatype of every element:\",rank_4_tensor.dtype)\n",
        "print(\"number of dimensions:\",rank_4_tensor.ndim)\n",
        "print(\"Shape of tensor:\",rank_4_tensor.shape)\n",
        "print(\"Elements along the 0 axis:\",rank_4_tensor.shape[0])\n",
        "print(\"Elements along the last axis:\",rank_4_tensor.shape[-1])\n",
        "print(\"Total number of elements in our tensor:\",tf.size(rank_4_tensor))\n",
        "print(\"Total number of elements in our tensor:\",tf.size(rank_4_tensor).numpy()) #use .numpy to simplify what that output looks like\n",
        "\n"
      ],
      "metadata": {
        "colab": {
          "base_uri": "https://localhost:8080/"
        },
        "id": "G8pjLoP_Jwbx",
        "outputId": "bd41231e-f332-4620-bede-9320df18b77e"
      },
      "execution_count": null,
      "outputs": [
        {
          "output_type": "stream",
          "name": "stdout",
          "text": [
            "datatype of every element: <dtype: 'float32'>\n",
            "number of dimensions: 4\n",
            "Shape of tensor: (2, 3, 4, 5)\n",
            "Elements along the 0 axis: 2\n",
            "Elements along the last axis: 5\n",
            "Total number of elements in our tensor: tf.Tensor(120, shape=(), dtype=int32)\n",
            "Total number of elements in our tensor: 120\n"
          ]
        }
      ]
    },
    {
      "cell_type": "markdown",
      "source": [
        "Tensors can be index just like Python lists"
      ],
      "metadata": {
        "id": "9Fv6H2k_PEcv"
      }
    },
    {
      "cell_type": "code",
      "source": [
        "#Get the first 2 elements of each dimension\n",
        "rank_4_tensor[:2,:2,:2,:2] #tensor slicing\n",
        "\n",
        "#Get the first element from each dimension from each index except for the final one\n",
        "rank_4_tensor[:1,:1,:1,:]\n",
        "\n",
        "#Create a rank 2 tensor (2 dimensions)\n",
        "rank_2_tensor=tf.constant([[10,7],\n",
        "                           [3,4]])\n",
        "rank_2_tensor.ndim\n",
        "\n",
        "#get the last item of each row of our rank 2 tensor\n",
        "rank_2_tensor[:,-1]\n",
        "\n",
        "#Add in extra dimension to our rank_2_tensor\n",
        "rank_3_tensor=rank_2_tensor[...,tf.newaxis]\n",
        "\n",
        "#Alternative to tf.newaxis\n",
        "tf.expand_dims(rank_2_tensor,axis=-1) #-1 means expand the last axis"
      ],
      "metadata": {
        "colab": {
          "base_uri": "https://localhost:8080/"
        },
        "id": "kyIevizzPIpu",
        "outputId": "92500caa-1cb0-44da-e85f-77e2a71ba350"
      },
      "execution_count": null,
      "outputs": [
        {
          "output_type": "execute_result",
          "data": {
            "text/plain": [
              "<tf.Tensor: shape=(2, 2, 1), dtype=int32, numpy=\n",
              "array([[[10],\n",
              "        [ 7]],\n",
              "\n",
              "       [[ 3],\n",
              "        [ 4]]], dtype=int32)>"
            ]
          },
          "metadata": {},
          "execution_count": 8
        }
      ]
    },
    {
      "cell_type": "markdown",
      "source": [
        "Tensor Operations"
      ],
      "metadata": {
        "id": "yYq6Uz7Qolls"
      }
    },
    {
      "cell_type": "code",
      "source": [
        "#You can add values to a tensor using the addition operator\n",
        "tensor=tf.constant([[10,7],\n",
        "                    [3,4]])\n",
        "tensor * 10 #element wise operations"
      ],
      "metadata": {
        "colab": {
          "base_uri": "https://localhost:8080/"
        },
        "id": "Zl0aKWDzokpV",
        "outputId": "90441ff1-df7f-4d2f-dfed-e54dca0d72cc"
      },
      "execution_count": null,
      "outputs": [
        {
          "output_type": "execute_result",
          "data": {
            "text/plain": [
              "<tf.Tensor: shape=(2, 2), dtype=int32, numpy=\n",
              "array([[100,  70],\n",
              "       [ 30,  40]], dtype=int32)>"
            ]
          },
          "metadata": {},
          "execution_count": 9
        }
      ]
    },
    {
      "cell_type": "code",
      "source": [
        "#Original tensor is unchanged tho\n",
        "tensor"
      ],
      "metadata": {
        "colab": {
          "base_uri": "https://localhost:8080/"
        },
        "id": "7VXwKrLDqOo5",
        "outputId": "6929eb00-338c-4307-febc-ea1ce1ce8bcc"
      },
      "execution_count": null,
      "outputs": [
        {
          "output_type": "execute_result",
          "data": {
            "text/plain": [
              "<tf.Tensor: shape=(2, 2), dtype=int32, numpy=\n",
              "array([[10,  7],\n",
              "       [ 3,  4]], dtype=int32)>"
            ]
          },
          "metadata": {},
          "execution_count": 10
        }
      ]
    },
    {
      "cell_type": "code",
      "source": [
        "#We can use the built-in function in tensorflow too\n",
        "tf.multiply(tensor,10)"
      ],
      "metadata": {
        "colab": {
          "base_uri": "https://localhost:8080/"
        },
        "id": "25B26a0pqnh2",
        "outputId": "ee5886a0-18e1-4250-8a6b-bca6ddcfd20e"
      },
      "execution_count": null,
      "outputs": [
        {
          "output_type": "execute_result",
          "data": {
            "text/plain": [
              "<tf.Tensor: shape=(2, 2), dtype=int32, numpy=\n",
              "array([[100,  70],\n",
              "       [ 30,  40]], dtype=int32)>"
            ]
          },
          "metadata": {},
          "execution_count": 11
        }
      ]
    },
    {
      "cell_type": "code",
      "source": [
        "tf.add(tensor,-10)"
      ],
      "metadata": {
        "colab": {
          "base_uri": "https://localhost:8080/"
        },
        "id": "QZhhcAHrrFkK",
        "outputId": "459ed515-e4f9-4de6-db53-54b145c6b0e6"
      },
      "execution_count": null,
      "outputs": [
        {
          "output_type": "execute_result",
          "data": {
            "text/plain": [
              "<tf.Tensor: shape=(2, 2), dtype=int32, numpy=\n",
              "array([[ 0, -3],\n",
              "       [-7, -6]], dtype=int32)>"
            ]
          },
          "metadata": {},
          "execution_count": 12
        }
      ]
    },
    {
      "cell_type": "markdown",
      "source": [
        "Matrix/Tensor multiplcation\n",
        "\n",
        "1.   tf.matmul\n",
        "2.   tf.tensordot\n",
        "3.   @\n",
        "\n"
      ],
      "metadata": {
        "id": "sKJUIpuorLiT"
      }
    },
    {
      "cell_type": "code",
      "source": [
        "#Matrix multiplcation in tensorflow\n",
        "print(tensor)\n",
        "tf.linalg.matmul(tensor,tensor)"
      ],
      "metadata": {
        "colab": {
          "base_uri": "https://localhost:8080/"
        },
        "id": "4Yf921fXvXpg",
        "outputId": "e8511967-b130-4f33-89d7-8c7fe9969f93"
      },
      "execution_count": null,
      "outputs": [
        {
          "output_type": "stream",
          "name": "stdout",
          "text": [
            "tf.Tensor(\n",
            "[[10  7]\n",
            " [ 3  4]], shape=(2, 2), dtype=int32)\n"
          ]
        },
        {
          "output_type": "execute_result",
          "data": {
            "text/plain": [
              "<tf.Tensor: shape=(2, 2), dtype=int32, numpy=\n",
              "array([[121,  98],\n",
              "       [ 42,  37]], dtype=int32)>"
            ]
          },
          "metadata": {},
          "execution_count": 13
        }
      ]
    },
    {
      "cell_type": "code",
      "source": [
        "#Matrix multiplication with python @ operator\n",
        "tensor@tensor"
      ],
      "metadata": {
        "colab": {
          "base_uri": "https://localhost:8080/"
        },
        "id": "yOAAfg-Uwfbv",
        "outputId": "420cf6f3-2713-445d-b6c3-2c0562b6870a"
      },
      "execution_count": null,
      "outputs": [
        {
          "output_type": "execute_result",
          "data": {
            "text/plain": [
              "<tf.Tensor: shape=(2, 2), dtype=int32, numpy=\n",
              "array([[121,  98],\n",
              "       [ 42,  37]], dtype=int32)>"
            ]
          },
          "metadata": {},
          "execution_count": 14
        }
      ]
    },
    {
      "cell_type": "code",
      "source": [
        "X=tf.constant([[1,2],\n",
        "               [3,4],\n",
        "              [5,6]])\n",
        "Y=tf.constant([[7,8],\n",
        "               [9,10],\n",
        "              [11,12]])\n",
        "tf.transpose(X)@Y\n",
        "tf.matmul(tf.transpose(X),Y)\n",
        "tf.tensordot(tf.transpose(X),Y,axes=1)\n",
        "tf.matmul(X,tf.reshape(Y,shape=(2,3)))\n"
      ],
      "metadata": {
        "colab": {
          "base_uri": "https://localhost:8080/"
        },
        "id": "vo1hZMVOykZ8",
        "outputId": "cc5a9506-0ba9-469f-e037-3904d78fc91c"
      },
      "execution_count": null,
      "outputs": [
        {
          "output_type": "execute_result",
          "data": {
            "text/plain": [
              "<tf.Tensor: shape=(3, 3), dtype=int32, numpy=\n",
              "array([[ 27,  30,  33],\n",
              "       [ 61,  68,  75],\n",
              "       [ 95, 106, 117]], dtype=int32)>"
            ]
          },
          "metadata": {},
          "execution_count": 15
        }
      ]
    },
    {
      "cell_type": "markdown",
      "source": [
        "Changing the data type of the tensor"
      ],
      "metadata": {
        "id": "5Jrdmm4qzWEi"
      }
    },
    {
      "cell_type": "code",
      "source": [
        "#Create a new tensor with default data type (float32)\n",
        "B=tf.constant([1.7,4.3])\n",
        "B.dtype\n",
        "C=tf.constant([7,10])\n",
        "C.dtype\n",
        "\n",
        "#Change from float32 to float16 (changing the precision)\n",
        "D=tf.cast(B,dtype=tf.float16)\n",
        "D,D.dtype\n",
        "\n",
        "#Change from int32 to float32\n",
        "E=tf.cast(C,dtype=tf.float32)\n",
        "E\n",
        "E_float16=tf.cast(E,dtype=tf.float16)\n",
        "E_float16"
      ],
      "metadata": {
        "colab": {
          "base_uri": "https://localhost:8080/"
        },
        "id": "MEFj5pt-zZZa",
        "outputId": "fc3a3774-323a-4e5d-aaa3-4de67893596b"
      },
      "execution_count": null,
      "outputs": [
        {
          "output_type": "execute_result",
          "data": {
            "text/plain": [
              "<tf.Tensor: shape=(2,), dtype=float16, numpy=array([ 7., 10.], dtype=float16)>"
            ]
          },
          "metadata": {},
          "execution_count": 16
        }
      ]
    },
    {
      "cell_type": "markdown",
      "source": [
        "Aggregate tensors: condensing them from multiple values down to a smaller amount of values"
      ],
      "metadata": {
        "id": "eERa7avR1Z4S"
      }
    },
    {
      "cell_type": "code",
      "source": [
        "#Get the absolute values\n",
        "D=tf.constant([-7,-10])\n",
        "D\n",
        "tf.abs(D)\n",
        "\n",
        "#Get the minimum, maximum, mean, sum of a tensor\n",
        "#Create a random tensor with values between 0 and 100 of size 50\n",
        "E=tf.constant(np.random.randint(0,100,size=50))\n",
        "E\n",
        "tf.size(E),E.shape,E.ndim\n",
        "\n",
        "#Find the minimum\n",
        "E, tf.reduce_min(E)\n",
        "\n",
        "#Find the maximum\n",
        "E,tf.reduce_max(E)\n",
        "\n",
        "#Find the mean\n",
        "E,tf.reduce_mean(E)\n",
        "\n",
        "#Find the sum\n",
        "E,tf.reduce_sum(E)\n",
        "\n",
        "#Find the standard deviation.\n",
        "E_std=tf.cast(E,dtype=tf.float32)\n",
        "E,tf.math.reduce_std(E_std)\n",
        "\n",
        "#Find the variance\n",
        "import tensorflow_probability as tfp\n",
        "E,tfp.stats.variance(E)\n",
        "\n",
        "#Find the positional maximum and minimum of a tensor\n",
        "F=tf.constant([[1,8,3],\n",
        "              [7,2,6],\n",
        "              [4,5,9]])\n",
        "F,tf.argmax(F)\n",
        "\n",
        "\n",
        "\n",
        "G=tf.random.uniform(shape=[50])\n",
        "#Find positional max\n",
        "tf.argmax(G)\n",
        "#Index on our largest value\n",
        "G[tf.argmax(G)]\n",
        "#Find max value\n",
        "tf.reduce_max(G)\n",
        "G[tf.argmax(G)]==tf.reduce_max(G)\n",
        "\n",
        "#*******Use argmin for minimum\n",
        "\n"
      ],
      "metadata": {
        "colab": {
          "base_uri": "https://localhost:8080/"
        },
        "id": "gcPsyPTu1d_S",
        "outputId": "3acb5dd0-70dd-4462-d803-01dcdd9fd1c9"
      },
      "execution_count": null,
      "outputs": [
        {
          "output_type": "execute_result",
          "data": {
            "text/plain": [
              "<tf.Tensor: shape=(), dtype=bool, numpy=True>"
            ]
          },
          "metadata": {},
          "execution_count": 17
        }
      ]
    },
    {
      "cell_type": "markdown",
      "source": [
        "Squeezing a tensor (removing all single dimensions)"
      ],
      "metadata": {
        "id": "rlQ8X_eoA2T1"
      }
    },
    {
      "cell_type": "code",
      "source": [
        "tf.random.set_seed(42)\n",
        "H=tf.constant(tf.random.uniform(shape=[50]),shape=(1,1,1,1,50))\n",
        "H\n",
        "H.shape\n",
        "H_squeezed=tf.squeeze(H)\n",
        "H_squeezed"
      ],
      "metadata": {
        "colab": {
          "base_uri": "https://localhost:8080/"
        },
        "id": "i6_xO96xA5xP",
        "outputId": "ee61f659-e6f9-4796-b689-8b5caef42b79"
      },
      "execution_count": null,
      "outputs": [
        {
          "output_type": "execute_result",
          "data": {
            "text/plain": [
              "<tf.Tensor: shape=(50,), dtype=float32, numpy=\n",
              "array([0.6645621 , 0.44100678, 0.3528825 , 0.46448255, 0.03366041,\n",
              "       0.68467236, 0.74011743, 0.8724445 , 0.22632635, 0.22319686,\n",
              "       0.3103881 , 0.7223358 , 0.13318717, 0.5480639 , 0.5746088 ,\n",
              "       0.8996835 , 0.00946367, 0.5212307 , 0.6345445 , 0.1993283 ,\n",
              "       0.72942245, 0.54583454, 0.10756552, 0.6767061 , 0.6602763 ,\n",
              "       0.33695042, 0.60141766, 0.21062577, 0.8527372 , 0.44062173,\n",
              "       0.9485276 , 0.23752594, 0.81179297, 0.5263394 , 0.494308  ,\n",
              "       0.21612847, 0.8457197 , 0.8718841 , 0.3083862 , 0.6868038 ,\n",
              "       0.23764038, 0.7817228 , 0.9671384 , 0.06870162, 0.79873943,\n",
              "       0.66028714, 0.5871513 , 0.16461694, 0.7381023 , 0.32054043],\n",
              "      dtype=float32)>"
            ]
          },
          "metadata": {},
          "execution_count": 18
        }
      ]
    },
    {
      "cell_type": "markdown",
      "source": [
        "One hot encoding"
      ],
      "metadata": {
        "id": "0QuCo_U9BzJa"
      }
    },
    {
      "cell_type": "code",
      "source": [
        "#Create a list of indices\n",
        "some_list=[0,1,2,3]\n",
        "#One hot encode our list of indices\n",
        "tf.one_hot(some_list,len(some_list))\n",
        "\n",
        "#Specify custom values for one hot encoding\n",
        "tf.one_hot(some_list,depth=4,on_value=\"one\",off_value=\"zero\")"
      ],
      "metadata": {
        "colab": {
          "base_uri": "https://localhost:8080/"
        },
        "id": "kMlf0yqdB1Dj",
        "outputId": "43b41b63-5378-49e0-ad87-732a5cb37c3b"
      },
      "execution_count": null,
      "outputs": [
        {
          "output_type": "execute_result",
          "data": {
            "text/plain": [
              "<tf.Tensor: shape=(4, 4), dtype=string, numpy=\n",
              "array([[b'one', b'zero', b'zero', b'zero'],\n",
              "       [b'zero', b'one', b'zero', b'zero'],\n",
              "       [b'zero', b'zero', b'one', b'zero'],\n",
              "       [b'zero', b'zero', b'zero', b'one']], dtype=object)>"
            ]
          },
          "metadata": {},
          "execution_count": 22
        }
      ]
    },
    {
      "cell_type": "code",
      "source": [
        "#Squaring, log, square root\n",
        "I=tf.range(1,10)\n",
        "I\n",
        "#Square each individual index\n",
        "tf.square(I)\n",
        "\n",
        "#Find the squareroot. Requires float type\n",
        "tf.sqrt(tf.cast(I,dtype=tf.float32))\n",
        "\n",
        "#Find the log\n",
        "tf.math.log(tf.cast(I,dtype=tf.float32))"
      ],
      "metadata": {
        "colab": {
          "base_uri": "https://localhost:8080/"
        },
        "id": "LJmdYsHtLVVl",
        "outputId": "d4454f85-e326-4734-f5b5-c2762502b8ef"
      },
      "execution_count": null,
      "outputs": [
        {
          "output_type": "execute_result",
          "data": {
            "text/plain": [
              "<tf.Tensor: shape=(9,), dtype=float32, numpy=\n",
              "array([0.       , 0.6931472, 1.0986123, 1.3862944, 1.609438 , 1.7917595,\n",
              "       1.9459102, 2.0794415, 2.1972246], dtype=float32)>"
            ]
          },
          "metadata": {},
          "execution_count": 82
        }
      ]
    },
    {
      "cell_type": "markdown",
      "source": [
        "Tensors and numpy"
      ],
      "metadata": {
        "id": "hb7Lwj08OhMq"
      }
    },
    {
      "cell_type": "code",
      "source": [
        "#Create a tensor directly from a numpy array\n",
        "J=tf.constant(np.array([3.,7.,10.]))\n",
        "J\n",
        "\n",
        "#Convert tensor back to numpy array\n",
        "np.array(J),type(np.array(J))\n",
        "\n",
        "#Convert tensor J to numpy array\n",
        "J.numpy(),type(J.numpy())\n",
        "\n",
        "J=tf.constant([3.])\n",
        "J.numpy()[0]\n",
        "\n",
        "#The default data types of each are slightly different\n",
        "numpy_J=tf.constant(np.array([3.,7.,10.]))\n",
        "tensor_J=tf.constant([3.,7.,10.])\n",
        "\n",
        "#Check the datatypes of each\n",
        "numpy_J.dtype,tensor_J.dtype"
      ],
      "metadata": {
        "colab": {
          "base_uri": "https://localhost:8080/"
        },
        "id": "sLt-AfmSOjs9",
        "outputId": "7f05d3af-81b4-4498-8ac5-597714280e79"
      },
      "execution_count": null,
      "outputs": [
        {
          "output_type": "execute_result",
          "data": {
            "text/plain": [
              "(tf.float64, tf.float32)"
            ]
          },
          "metadata": {},
          "execution_count": 89
        }
      ]
    }
  ]
}